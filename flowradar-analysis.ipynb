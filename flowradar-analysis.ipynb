{
 "cells": [
  {
   "cell_type": "code",
   "execution_count": 2,
   "metadata": {},
   "outputs": [
    {
     "name": "stdout",
     "output_type": "stream",
     "text": [
      "Defaulting to user installation because normal site-packages is not writeable\n",
      "Requirement already satisfied: pandas in /home/rajesh/.local/lib/python3.12/site-packages (2.2.3)\n",
      "Requirement already satisfied: numpy>=1.26.0 in /home/rajesh/.local/lib/python3.12/site-packages (from pandas) (2.0.2)\n",
      "Requirement already satisfied: python-dateutil>=2.8.2 in /usr/lib/python3.12/site-packages (from pandas) (2.8.2)\n",
      "Requirement already satisfied: pytz>=2020.1 in /home/rajesh/.local/lib/python3.12/site-packages (from pandas) (2024.2)\n",
      "Requirement already satisfied: tzdata>=2022.7 in /home/rajesh/.local/lib/python3.12/site-packages (from pandas) (2024.2)\n",
      "Requirement already satisfied: six>=1.5 in /usr/lib/python3.12/site-packages (from python-dateutil>=2.8.2->pandas) (1.16.0)\n",
      "Note: you may need to restart the kernel to use updated packages.\n",
      "Defaulting to user installation because normal site-packages is not writeable\n",
      "Requirement already satisfied: numpy in /home/rajesh/.local/lib/python3.12/site-packages (2.0.2)\n",
      "Note: you may need to restart the kernel to use updated packages.\n",
      "Defaulting to user installation because normal site-packages is not writeable\n",
      "Requirement already satisfied: tensorflow in /home/rajesh/.local/lib/python3.12/site-packages (2.18.0)\n",
      "Requirement already satisfied: absl-py>=1.0.0 in /home/rajesh/.local/lib/python3.12/site-packages (from tensorflow) (2.1.0)\n",
      "Requirement already satisfied: astunparse>=1.6.0 in /home/rajesh/.local/lib/python3.12/site-packages (from tensorflow) (1.6.3)\n",
      "Requirement already satisfied: flatbuffers>=24.3.25 in /home/rajesh/.local/lib/python3.12/site-packages (from tensorflow) (24.3.25)\n",
      "Requirement already satisfied: gast!=0.5.0,!=0.5.1,!=0.5.2,>=0.2.1 in /home/rajesh/.local/lib/python3.12/site-packages (from tensorflow) (0.6.0)\n",
      "Requirement already satisfied: google-pasta>=0.1.1 in /home/rajesh/.local/lib/python3.12/site-packages (from tensorflow) (0.2.0)\n",
      "Requirement already satisfied: libclang>=13.0.0 in /home/rajesh/.local/lib/python3.12/site-packages (from tensorflow) (18.1.1)\n",
      "Requirement already satisfied: opt-einsum>=2.3.2 in /home/rajesh/.local/lib/python3.12/site-packages (from tensorflow) (3.4.0)\n",
      "Requirement already satisfied: packaging in /usr/lib/python3.12/site-packages (from tensorflow) (23.2)\n",
      "Requirement already satisfied: protobuf!=4.21.0,!=4.21.1,!=4.21.2,!=4.21.3,!=4.21.4,!=4.21.5,<6.0.0dev,>=3.20.3 in /home/rajesh/.local/lib/python3.12/site-packages (from tensorflow) (5.28.3)\n",
      "Requirement already satisfied: requests<3,>=2.21.0 in /usr/lib/python3.12/site-packages (from tensorflow) (2.31.0)\n",
      "Requirement already satisfied: setuptools in /usr/lib/python3.12/site-packages (from tensorflow) (69.0.3)\n",
      "Requirement already satisfied: six>=1.12.0 in /usr/lib/python3.12/site-packages (from tensorflow) (1.16.0)\n",
      "Requirement already satisfied: termcolor>=1.1.0 in /home/rajesh/.local/lib/python3.12/site-packages (from tensorflow) (2.5.0)\n",
      "Requirement already satisfied: typing-extensions>=3.6.6 in /home/rajesh/.local/lib/python3.12/site-packages (from tensorflow) (4.12.2)\n",
      "Requirement already satisfied: wrapt>=1.11.0 in /home/rajesh/.local/lib/python3.12/site-packages (from tensorflow) (1.16.0)\n",
      "Requirement already satisfied: grpcio<2.0,>=1.24.3 in /home/rajesh/.local/lib/python3.12/site-packages (from tensorflow) (1.67.0)\n",
      "Requirement already satisfied: tensorboard<2.19,>=2.18 in /home/rajesh/.local/lib/python3.12/site-packages (from tensorflow) (2.18.0)\n",
      "Requirement already satisfied: keras>=3.5.0 in /home/rajesh/.local/lib/python3.12/site-packages (from tensorflow) (3.6.0)\n",
      "Requirement already satisfied: numpy<2.1.0,>=1.26.0 in /home/rajesh/.local/lib/python3.12/site-packages (from tensorflow) (2.0.2)\n",
      "Requirement already satisfied: h5py>=3.11.0 in /home/rajesh/.local/lib/python3.12/site-packages (from tensorflow) (3.12.1)\n",
      "Requirement already satisfied: ml-dtypes<0.5.0,>=0.4.0 in /home/rajesh/.local/lib/python3.12/site-packages (from tensorflow) (0.4.1)\n",
      "Requirement already satisfied: wheel<1.0,>=0.23.0 in /home/rajesh/.local/lib/python3.12/site-packages (from astunparse>=1.6.0->tensorflow) (0.44.0)\n",
      "Requirement already satisfied: rich in /home/rajesh/.local/lib/python3.12/site-packages (from keras>=3.5.0->tensorflow) (13.9.3)\n",
      "Requirement already satisfied: namex in /home/rajesh/.local/lib/python3.12/site-packages (from keras>=3.5.0->tensorflow) (0.0.8)\n",
      "Requirement already satisfied: optree in /home/rajesh/.local/lib/python3.12/site-packages (from keras>=3.5.0->tensorflow) (0.13.0)\n",
      "Requirement already satisfied: charset-normalizer<4,>=2 in /usr/lib/python3.12/site-packages (from requests<3,>=2.21.0->tensorflow) (3.3.2)\n",
      "Requirement already satisfied: idna<4,>=2.5 in /usr/lib/python3.12/site-packages (from requests<3,>=2.21.0->tensorflow) (3.7)\n",
      "Requirement already satisfied: urllib3<3,>=1.21.1 in /usr/lib/python3.12/site-packages (from requests<3,>=2.21.0->tensorflow) (1.26.20)\n",
      "Requirement already satisfied: markdown>=2.6.8 in /home/rajesh/.local/lib/python3.12/site-packages (from tensorboard<2.19,>=2.18->tensorflow) (3.7)\n",
      "Requirement already satisfied: tensorboard-data-server<0.8.0,>=0.7.0 in /home/rajesh/.local/lib/python3.12/site-packages (from tensorboard<2.19,>=2.18->tensorflow) (0.7.2)\n",
      "Requirement already satisfied: werkzeug>=1.0.1 in /home/rajesh/.local/lib/python3.12/site-packages (from tensorboard<2.19,>=2.18->tensorflow) (3.0.6)\n",
      "Requirement already satisfied: MarkupSafe>=2.1.1 in /usr/lib64/python3.12/site-packages (from werkzeug>=1.0.1->tensorboard<2.19,>=2.18->tensorflow) (2.1.3)\n",
      "Requirement already satisfied: markdown-it-py>=2.2.0 in /home/rajesh/.local/lib/python3.12/site-packages (from rich->keras>=3.5.0->tensorflow) (3.0.0)\n",
      "Requirement already satisfied: pygments<3.0.0,>=2.13.0 in /home/rajesh/.local/lib/python3.12/site-packages (from rich->keras>=3.5.0->tensorflow) (2.18.0)\n",
      "Requirement already satisfied: mdurl~=0.1 in /home/rajesh/.local/lib/python3.12/site-packages (from markdown-it-py>=2.2.0->rich->keras>=3.5.0->tensorflow) (0.1.2)\n",
      "Note: you may need to restart the kernel to use updated packages.\n"
     ]
    }
   ],
   "source": [
    "%pip install pandas\n",
    "%pip install numpy\n",
    "%pip install tensorflow"
   ]
  },
  {
   "cell_type": "code",
   "execution_count": 3,
   "metadata": {},
   "outputs": [
    {
     "name": "stdout",
     "output_type": "stream",
     "text": [
      "Defaulting to user installation because normal site-packages is not writeable\n",
      "Requirement already satisfied: matplotlib in /home/rajesh/.local/lib/python3.12/site-packages (3.9.2)\n",
      "Requirement already satisfied: contourpy>=1.0.1 in /home/rajesh/.local/lib/python3.12/site-packages (from matplotlib) (1.3.0)\n",
      "Requirement already satisfied: cycler>=0.10 in /home/rajesh/.local/lib/python3.12/site-packages (from matplotlib) (0.12.1)\n",
      "Requirement already satisfied: fonttools>=4.22.0 in /home/rajesh/.local/lib/python3.12/site-packages (from matplotlib) (4.54.1)\n",
      "Requirement already satisfied: kiwisolver>=1.3.1 in /home/rajesh/.local/lib/python3.12/site-packages (from matplotlib) (1.4.7)\n",
      "Requirement already satisfied: numpy>=1.23 in /home/rajesh/.local/lib/python3.12/site-packages (from matplotlib) (2.0.2)\n",
      "Requirement already satisfied: packaging>=20.0 in /usr/lib/python3.12/site-packages (from matplotlib) (23.2)\n",
      "Requirement already satisfied: pillow>=8 in /usr/lib64/python3.12/site-packages (from matplotlib) (10.3.0)\n",
      "Requirement already satisfied: pyparsing>=2.3.1 in /home/rajesh/.local/lib/python3.12/site-packages (from matplotlib) (3.2.0)\n",
      "Requirement already satisfied: python-dateutil>=2.7 in /usr/lib/python3.12/site-packages (from matplotlib) (2.8.2)\n",
      "Requirement already satisfied: six>=1.5 in /usr/lib/python3.12/site-packages (from python-dateutil>=2.7->matplotlib) (1.16.0)\n",
      "Note: you may need to restart the kernel to use updated packages.\n"
     ]
    }
   ],
   "source": [
    "%pip install matplotlib"
   ]
  },
  {
   "cell_type": "code",
   "execution_count": 1,
   "metadata": {},
   "outputs": [],
   "source": [
    "import os \n",
    "import pandas as pd\n",
    "import numpy as np\n",
    "import matplotlib.pyplot as plt"
   ]
  },
  {
   "cell_type": "code",
   "execution_count": 2,
   "metadata": {},
   "outputs": [],
   "source": [
    "# Fetch the normal Dataset;\n",
    "normal_flow_files = os.listdir('features/Normal')"
   ]
  },
  {
   "cell_type": "code",
   "execution_count": 3,
   "metadata": {},
   "outputs": [
    {
     "name": "stdout",
     "output_type": "stream",
     "text": [
      "['_00111_20180315125941_0.csv', '_00111_20180315125941_1.csv', '_00111_20180315125941_10.csv', '_00111_20180315125941_11.csv']\n"
     ]
    }
   ],
   "source": [
    "print(normal_flow_files[0:4])"
   ]
  },
  {
   "cell_type": "code",
   "execution_count": 4,
   "metadata": {},
   "outputs": [
    {
     "data": {
      "text/plain": [
       "(array([ 11438,  16942,  22547,  28278,  34032,  39636,  45191,  50736,\n",
       "         56263,  61932,  67708,  73477,  79249,  84763,  89911,  95639,\n",
       "        101082, 106735, 112195, 117794, 123515, 129160, 132244, 132244,\n",
       "        132244, 132244, 132244, 132244]),\n",
       " array([ 3644,  4751,  6072,  7351,  8359,  9360, 10394, 11577, 12687,\n",
       "        13712, 14693, 15554, 16480, 17366, 18212, 18884, 19650, 20388,\n",
       "        21080, 21862, 22508, 23169, 23511, 23511, 23511, 23511, 23511,\n",
       "        23511]),\n",
       " array([  15,   49,  114,  242,  409,  613,  873, 1261, 1668, 2165, 2644,\n",
       "        3115, 3638, 4189, 4752, 5194, 5740, 6299, 6810, 7407, 7919, 8454,\n",
       "        8732, 8732, 8732, 8732, 8732, 8732]),\n",
       " array([1633, 1759, 1834, 1871, 1894, 1902, 1915, 1919, 1920, 1921, 1923,\n",
       "        1925, 1925, 1925, 1925, 1925, 1926, 1926, 1926, 1926, 1926, 1926,\n",
       "        1926, 1926, 1926, 1926, 1926, 1926]),\n",
       " array([11614, 14167, 16821, 18970, 20450, 21750, 22950, 24128, 25113,\n",
       "        25807, 26466, 26950, 27448, 27849, 28190, 28458, 28705, 28898,\n",
       "        29098, 29304, 29447, 29580, 29656, 29656, 29656, 29656, 29656,\n",
       "        29656]),\n",
       " array([ 9091, 10215, 11050, 11340, 11359, 11183, 10913, 10445,  9963,\n",
       "         9326,  8838,  8322,  7854,  7426,  6979,  6664,  6257,  5896,\n",
       "         5621,  5294,  4988,  4730,  4591,  4591,  4591,  4591,  4591,\n",
       "         4591]),\n",
       " array([ 26022,  38996,  49173,  58394,  67693,  74930,  81378,  86950,\n",
       "         92136,  97025, 101560, 106175, 109506, 112373, 115016, 116999,\n",
       "        118902, 120760, 122365, 123808, 125044, 126282, 126838, 126838,\n",
       "        126838, 126838, 126838, 126838]),\n",
       " array([ 34037,  53473,  73261,  94039, 115558, 136681, 157721, 178712,\n",
       "        199778, 221818, 244273, 266878, 289452, 311110, 331360, 353947,\n",
       "        375507, 397912, 419563, 441745, 464499, 486961, 499320, 499320,\n",
       "        499320, 499320, 499320, 499320]))"
      ]
     },
     "execution_count": 4,
     "metadata": {},
     "output_type": "execute_result"
    }
   ],
   "source": [
    "def preprocess_file(file_path):\n",
    "    df = pd.read_csv(file_path)\n",
    "    ccf_list = list(df['completely_colliding_flows'])\n",
    "    ncf_list = list(df['non_colliding_flows'])\n",
    "    coee_list = list(df['cells_occupied_epochend'])\n",
    "    pcbd_list = list(df['purecell_count_before_decode'])\n",
    "    pac_list = list(df['purecell_all_collision'])\n",
    "    caf_list = list(df['collisions_by_allflows'])\n",
    "    pc_list = list(df['Pkt_Count'])\n",
    "    if_list = list(df['input_flows'])\n",
    "    \n",
    "    if len(df) < 28:\n",
    "        ccf_list = ccf_list + [ccf_list[-1]] * (28-len(ccf_list))\n",
    "        ncf_list = ncf_list + [ncf_list[-1]] * (28-len(ncf_list))\n",
    "        coee_list = coee_list + [coee_list[-1]] * (28-len(coee_list))\n",
    "        pcbd_list = pcbd_list + [pcbd_list[-1]] * (28-len(pcbd_list))\n",
    "        pac_list = pac_list + [pac_list[-1]] * (28-len(pac_list))\n",
    "        caf_list = caf_list + [caf_list[-1]] * (28-len(caf_list))\n",
    "        pc_list = pc_list + [pc_list[-1]] * (28-len(pc_list))\n",
    "        if_list = if_list + [if_list[-1]] * (28-len(if_list))\n",
    "\n",
    "    completely_colliding_flows = np.array(ccf_list[:28])\n",
    "    non_colliding_flows = np.array(ncf_list[:28])\n",
    "    cells_occuplied_epoch_end = np.array(coee_list[:28])\n",
    "    purecell_count_before_decode = np.array(pcbd_list[:28])\n",
    "    purecell_all_collision = np.array(pac_list[:28])\n",
    "    collisions_by_allflows = np.array(caf_list[:28])\n",
    "    packet_count = np.array(pc_list[:28])\n",
    "    flow_count = np.array(if_list[:28])\n",
    "\n",
    "    return packet_count, flow_count, completely_colliding_flows, non_colliding_flows, cells_occuplied_epoch_end, purecell_count_before_decode, purecell_all_collision, collisions_by_allflows\n",
    "\n",
    "preprocess_file('features/Normal/_00000_20180315125910_0.csv')"
   ]
  },
  {
   "cell_type": "code",
   "execution_count": 46,
   "metadata": {},
   "outputs": [
    {
     "name": "stdout",
     "output_type": "stream",
     "text": [
      "Defaulting to user installation because normal site-packages is not writeable\n",
      "Requirement already satisfied: scikit-learn in /home/rajesh/.local/lib/python3.12/site-packages (1.5.2)\n",
      "Requirement already satisfied: numpy>=1.19.5 in /home/rajesh/.local/lib/python3.12/site-packages (from scikit-learn) (2.0.2)\n",
      "Requirement already satisfied: scipy>=1.6.0 in /home/rajesh/.local/lib/python3.12/site-packages (from scikit-learn) (1.14.1)\n",
      "Requirement already satisfied: joblib>=1.2.0 in /home/rajesh/.local/lib/python3.12/site-packages (from scikit-learn) (1.4.2)\n",
      "Requirement already satisfied: threadpoolctl>=3.1.0 in /home/rajesh/.local/lib/python3.12/site-packages (from scikit-learn) (3.5.0)\n",
      "Note: you may need to restart the kernel to use updated packages.\n"
     ]
    }
   ],
   "source": [
    "%pip install scikit-learn"
   ]
  },
  {
   "cell_type": "code",
   "execution_count": 8,
   "metadata": {},
   "outputs": [],
   "source": [
    "from sklearn.preprocessing import normalize, MinMaxScaler, StandardScaler"
   ]
  },
  {
   "cell_type": "code",
   "execution_count": 9,
   "metadata": {},
   "outputs": [],
   "source": [
    "a1,b1,c1,d1,e1,f1,g1,h1 = preprocess_file('features/Normal/_00000_20180315125910_0.csv')\n",
    "a2,b2,c2,d2,e2,f2,g2,h2 = preprocess_file('features/Normal/_00000_20180315125910_1.csv')\n",
    "a3,b3,c3,d3,e3,f3,g3,h3 = preprocess_file('features/Normal/_00000_20180315125910_2.csv')\n",
    "a4,b4,c4,d4,e4,f4,g4,h4 = preprocess_file('features/Normal/_00000_20180315125910_3.csv')"
   ]
  },
  {
   "cell_type": "code",
   "execution_count": 10,
   "metadata": {},
   "outputs": [
    {
     "data": {
      "text/plain": [
       "[array([0.01204357, 0.01783897, 0.02374072, 0.02977515, 0.03583378,\n",
       "        0.04173448, 0.04758358, 0.05342216, 0.05924178, 0.06521092,\n",
       "        0.07129272, 0.07736715, 0.08344474, 0.08925068, 0.09467123,\n",
       "        0.10070249, 0.10643367, 0.11238596, 0.11813503, 0.12403046,\n",
       "        0.13005436, 0.13599822, 0.1392455 , 0.1392455 , 0.1392455 ,\n",
       "        0.1392455 , 0.1392455 , 0.1392455 ]),\n",
       " array([0.00575539, 0.01105696, 0.01651016, 0.02215288, 0.02797882,\n",
       "        0.03383424, 0.03980654, 0.04555456, 0.05129521, 0.05710114,\n",
       "        0.06306502, 0.06888043, 0.07477902, 0.08080291, 0.08664569,\n",
       "        0.09265695, 0.09862504, 0.1044773 , 0.11025691, 0.11625447,\n",
       "        0.12202882, 0.12788529, 0.13377546, 0.13910441, 0.13910441,\n",
       "        0.13910441, 0.13910441, 0.13910441]),\n",
       " array([0.00470666, 0.01055997, 0.01657018, 0.02236347, 0.02837157,\n",
       "        0.03431649, 0.0402551 , 0.04606629, 0.05168059, 0.05752127,\n",
       "        0.06349778, 0.06939426, 0.075415  , 0.08128832, 0.08724166,\n",
       "        0.09311393, 0.09894302, 0.10487847, 0.11068651, 0.11657246,\n",
       "        0.12241104, 0.12838333, 0.13442407, 0.14016051, 0.14016051,\n",
       "        0.14016051, 0.14016051, 0.14016051]),\n",
       " array([0.00546373, 0.01159818, 0.01760522, 0.0233385 , 0.02925394,\n",
       "        0.03510725, 0.04096057, 0.04672965, 0.05242081, 0.05830361,\n",
       "        0.06419061, 0.06996706, 0.07605518, 0.08179899, 0.08762809,\n",
       "        0.09339296, 0.09926944, 0.10523226, 0.11115296, 0.11714526,\n",
       "        0.12300384, 0.12890033, 0.13481682, 0.14009523, 0.14009523,\n",
       "        0.14009523, 0.14009523, 0.14009523])]"
      ]
     },
     "execution_count": 10,
     "metadata": {},
     "output_type": "execute_result"
    }
   ],
   "source": [
    "def normalize_dataset(feature_data):\n",
    "    concatenated_array = np.concatenate(feature_data, axis=0)\n",
    "    concatenated_array = normalize([concatenated_array])[0]\n",
    "    lengths = [len(arr) for arr in feature_data]\n",
    "    split_indices = np.cumsum(lengths[:-1])\n",
    "    split_arrays = np.split(concatenated_array, split_indices)\n",
    "    return split_arrays\n",
    "\n",
    "normalize_dataset([a1, a2, a3, a4])"
   ]
  },
  {
   "cell_type": "code",
   "execution_count": 11,
   "metadata": {},
   "outputs": [],
   "source": [
    "# CIA ATTACK CLASSIFICATION;\n",
    "\n",
    "#Normal Dataset\n",
    "packet_count_normal = []\n",
    "flow_normal = []\n",
    "completely_colliding_flows_normal = [] \n",
    "non_colliding_flows_normal = []\n",
    "cells_occuplied_epoch_end_normal = []\n",
    "purecell_count_before_decode_normal = [] \n",
    "purecell_all_collision_normal = []\n",
    "collisions_by_allflows_normal = []\n",
    "\n",
    "for f in normal_flow_files:\n",
    "    pc, ifs, ccf, ncf, coee, pcbd, pcac, cba = preprocess_file(f'features/Normal/{f}')\n",
    "    completely_colliding_flows_normal.append(ccf)\n",
    "    non_colliding_flows_normal.append(ncf)\n",
    "    cells_occuplied_epoch_end_normal.append(coee)\n",
    "    purecell_count_before_decode_normal.append(pcbd)\n",
    "    purecell_all_collision_normal.append(pcac)\n",
    "    collisions_by_allflows_normal.append(cba)\n",
    "    packet_count_normal.append(pc)\n",
    "    flow_normal.append(ifs)"
   ]
  },
  {
   "cell_type": "code",
   "execution_count": 12,
   "metadata": {},
   "outputs": [
    {
     "data": {
      "text/plain": [
       "5310"
      ]
     },
     "execution_count": 12,
     "metadata": {},
     "output_type": "execute_result"
    }
   ],
   "source": [
    "len(completely_colliding_flows_normal)"
   ]
  },
  {
   "cell_type": "code",
   "execution_count": 13,
   "metadata": {},
   "outputs": [],
   "source": [
    "#CIA attack files\n",
    "packet_count_attack = []\n",
    "flow_attack = []\n",
    "completely_colliding_flows_attack = []\n",
    "non_colliding_flows_attack = []\n",
    "cells_occuplied_epoch_end_attack = []\n",
    "purecell_count_before_decode_attack = []\n",
    "purecell_all_collision_attack = []\n",
    "collisions_by_allflows_attack = []\n",
    "\n",
    "for pct in [0.01, 0.03, 0.05, 0.1, 0.3, 0.5, 0.7]:\n",
    "    mal_flow_file_list = os.listdir(f'features/Type1/{str(pct).replace('.','_')}')\n",
    "    for f in mal_flow_file_list:\n",
    "        pc, ifs, ccf, ncf, coee, pcbd, pcac, cba = preprocess_file(f'features/Type1/{str(pct).replace('.','_')}/{f}')\n",
    "        completely_colliding_flows_attack.append(ccf)\n",
    "        non_colliding_flows_attack.append(ncf)\n",
    "        cells_occuplied_epoch_end_attack.append(coee)\n",
    "        purecell_count_before_decode_attack.append(pcbd)\n",
    "        purecell_all_collision_attack.append(pcac)\n",
    "        collisions_by_allflows_attack.append(cba)\n",
    "        packet_count_attack.append(pc)\n",
    "        flow_attack.append(ifs)\n"
   ]
  },
  {
   "cell_type": "code",
   "execution_count": 14,
   "metadata": {},
   "outputs": [
    {
     "data": {
      "text/plain": [
       "6014"
      ]
     },
     "execution_count": 14,
     "metadata": {},
     "output_type": "execute_result"
    }
   ],
   "source": [
    "len(completely_colliding_flows_attack)"
   ]
  },
  {
   "cell_type": "code",
   "execution_count": 15,
   "metadata": {},
   "outputs": [],
   "source": [
    "normal_labels = [0 for i in range(5310)]\n",
    "attack_labels = [1 for i in range(6126)]"
   ]
  },
  {
   "cell_type": "code",
   "execution_count": 16,
   "metadata": {},
   "outputs": [],
   "source": [
    "completely_colliding_flows_normalized = normalize_dataset(completely_colliding_flows_normal+completely_colliding_flows_attack)\n",
    "non_colliding_flows_normalized = normalize_dataset(non_colliding_flows_normal+non_colliding_flows_attack)\n",
    "cells_occupied_epoch_end_normalized = normalize_dataset(cells_occuplied_epoch_end_normal+cells_occuplied_epoch_end_attack)\n",
    "purecell_count_before_decode_normalized = normalize_dataset(purecell_count_before_decode_normal+purecell_count_before_decode_attack)\n",
    "purecell_all_collision_normalized = normalize_dataset(purecell_all_collision_normal+purecell_all_collision_attack)\n",
    "collisions_by_allflows_normalized = normalize_dataset(collisions_by_allflows_normal+collisions_by_allflows_attack)\n",
    "flows_normalized = normalize_dataset(flow_normal+flow_attack)\n",
    "packet_count_normalized = normalize_dataset(packet_count_normal+packet_count_attack)"
   ]
  },
  {
   "cell_type": "code",
   "execution_count": 17,
   "metadata": {},
   "outputs": [],
   "source": [
    "labels = np.array(normal_labels + attack_labels)"
   ]
  },
  {
   "cell_type": "code",
   "execution_count": 18,
   "metadata": {},
   "outputs": [
    {
     "data": {
      "text/plain": [
       "array([0, 0, 0, ..., 1, 1, 1])"
      ]
     },
     "execution_count": 18,
     "metadata": {},
     "output_type": "execute_result"
    }
   ],
   "source": [
    "labels"
   ]
  },
  {
   "cell_type": "code",
   "execution_count": 19,
   "metadata": {},
   "outputs": [
    {
     "data": {
      "text/plain": [
       "[(array([0.00010847, 0.00022162, 0.00033498, 0.00044578, 0.00055714,\n",
       "         0.00067042, 0.0007845 , 0.00089646, 0.0010029 , 0.00111021,\n",
       "         0.00121713, 0.00132443, 0.00143293, 0.00154383, 0.00165566,\n",
       "         0.00177073, 0.00188529, 0.00199664, 0.00210852, 0.00222178,\n",
       "         0.00227296, 0.00227296, 0.00227296, 0.00227296, 0.00227296,\n",
       "         0.00227296, 0.00227296, 0.00227296]),\n",
       "  array([0.00018795, 0.000349  , 0.00049105, 0.00062692, 0.0007512 ,\n",
       "         0.00087448, 0.00099297, 0.00111685, 0.00122967, 0.00135629,\n",
       "         0.00148098, 0.0015939 , 0.00168935, 0.00178063, 0.00186491,\n",
       "         0.00195538, 0.00204769, 0.00214953, 0.0022399 , 0.00232205,\n",
       "         0.00236013, 0.00236013, 0.00236013, 0.00236013, 0.00236013,\n",
       "         0.00236013, 0.00236013, 0.00236013]),\n",
       "  array([3.16221477e-07, 2.84599329e-06, 1.64435168e-05, 4.86981074e-05,\n",
       "         8.79095705e-05, 1.47991651e-04, 2.27995685e-04, 3.49424732e-04,\n",
       "         4.72751107e-04, 6.37186275e-04, 8.18381181e-04, 1.01222495e-03,\n",
       "         1.18140344e-03, 1.36006857e-03, 1.52576862e-03, 1.72751793e-03,\n",
       "         1.93527544e-03, 2.16295490e-03, 2.38557482e-03, 2.58289702e-03,\n",
       "         2.67649858e-03, 2.67649858e-03, 2.67649858e-03, 2.67649858e-03,\n",
       "         2.67649858e-03, 2.67649858e-03, 2.67649858e-03, 2.67649858e-03]),\n",
       "  array([0.00110893, 0.00150618, 0.00167084, 0.00174527, 0.00177876,\n",
       "         0.00179178, 0.00180481, 0.00181132, 0.00181318, 0.00181597,\n",
       "         0.00181783, 0.00181783, 0.00181783, 0.00181783, 0.00181783,\n",
       "         0.00181783, 0.00181783, 0.00181783, 0.00181783, 0.00181783,\n",
       "         0.00181783, 0.00181783, 0.00181783, 0.00181783, 0.00181783,\n",
       "         0.00181783, 0.00181783, 0.00181783]),\n",
       "  array([0.00045089, 0.00076387, 0.00099206, 0.0011687 , 0.00131204,\n",
       "         0.00142915, 0.00153   , 0.00161753, 0.0016881 , 0.00175504,\n",
       "         0.00181284, 0.00185526, 0.00188877, 0.00191547, 0.00194025,\n",
       "         0.00196085, 0.00197993, 0.00200149, 0.00201529, 0.00202915,\n",
       "         0.00203478, 0.00203478, 0.00203478, 0.00203478, 0.00203478,\n",
       "         0.00203478, 0.00203478, 0.00203478]),\n",
       "  array([0.00130887, 0.00199695, 0.00235493, 0.00250681, 0.00257792,\n",
       "         0.00257004, 0.00250839, 0.00242356, 0.00231331, 0.00217493,\n",
       "         0.00203407, 0.00187454, 0.00177081, 0.00165381, 0.00157078,\n",
       "         0.00146413, 0.00136715, 0.00127129, 0.00117049, 0.00110591,\n",
       "         0.00107801, 0.00107801, 0.00107801, 0.00107801, 0.00107801,\n",
       "         0.00107801, 0.00107801, 0.00107801]),\n",
       "  array([0.00023721, 0.00047158, 0.00066799, 0.00083786, 0.000995  ,\n",
       "         0.00113492, 0.00128373, 0.00140416, 0.00150193, 0.00158433,\n",
       "         0.00165381, 0.00171602, 0.00176887, 0.00182016, 0.0018716 ,\n",
       "         0.00191028, 0.00195259, 0.00198647, 0.00201624, 0.00204115,\n",
       "         0.00205019, 0.00205019, 0.00205019, 0.00205019, 0.00205019,\n",
       "         0.00205019, 0.00205019, 0.00205019]),\n",
       "  array([8.03108452e-05, 1.77460014e-04, 2.81461422e-04, 3.86767245e-04,\n",
       "         4.95104074e-04, 6.07592300e-04, 7.22570281e-04, 8.36146422e-04,\n",
       "         9.44948728e-04, 1.05532066e-03, 1.16577920e-03, 1.27775323e-03,\n",
       "         1.39183815e-03, 1.50904609e-03, 1.62732029e-03, 1.74971882e-03,\n",
       "         1.87141914e-03, 1.98952014e-03, 2.10880648e-03, 2.22956503e-03,\n",
       "         2.28451284e-03, 2.28451284e-03, 2.28451284e-03, 2.28451284e-03,\n",
       "         2.28451284e-03, 2.28451284e-03, 2.28451284e-03, 2.28451284e-03]),\n",
       "  np.int64(0))]"
      ]
     },
     "execution_count": 19,
     "metadata": {},
     "output_type": "execute_result"
    }
   ],
   "source": [
    "dataset = list(zip(packet_count_normalized, flows_normalized, completely_colliding_flows_normalized, non_colliding_flows_normalized, cells_occupied_epoch_end_normalized, purecell_count_before_decode_normalized, purecell_all_collision_normalized, collisions_by_allflows_normalized, labels))\n",
    "np.random.shuffle(dataset)\n",
    "dataset[0:1]"
   ]
  },
  {
   "cell_type": "code",
   "execution_count": 20,
   "metadata": {},
   "outputs": [],
   "source": [
    "packet_count_normalized, flow_normalized, ccf_normalized, ncf_normalized, coe_normalized, pcbd_normalized, pac_normalized, cba_normalized, labels = tuple(map(list, zip(*dataset)))"
   ]
  },
  {
   "cell_type": "code",
   "execution_count": 21,
   "metadata": {},
   "outputs": [],
   "source": [
    "labels = [lbl.item() for lbl in labels]"
   ]
  },
  {
   "cell_type": "code",
   "execution_count": 22,
   "metadata": {},
   "outputs": [
    {
     "data": {
      "text/plain": [
       "(28,)"
      ]
     },
     "execution_count": 22,
     "metadata": {},
     "output_type": "execute_result"
    }
   ],
   "source": [
    "ccf_normalized[0].shape"
   ]
  },
  {
   "cell_type": "code",
   "execution_count": 23,
   "metadata": {},
   "outputs": [
    {
     "data": {
      "text/plain": [
       "(11324, 28)"
      ]
     },
     "execution_count": 23,
     "metadata": {},
     "output_type": "execute_result"
    }
   ],
   "source": [
    "np.array(flow_normalized).shape"
   ]
  },
  {
   "cell_type": "code",
   "execution_count": 24,
   "metadata": {},
   "outputs": [],
   "source": [
    "ccf_normalized = np.array(ccf_normalized).reshape(-1, 28, 1)\n",
    "ncf_normalized = np.array(ncf_normalized).reshape(-1, 28, 1)\n",
    "coe_normalized = np.array(coe_normalized).reshape(-1, 28, 1)\n",
    "pcbd_normalized = np.array(pcbd_normalized).reshape(-1, 28, 1)\n",
    "pac_normalized = np.array(pac_normalized).reshape(-1, 28, 1)\n",
    "cba_normalized = np.array(cba_normalized).reshape(-1, 28, 1)\n",
    "flow_normalized = np.array(flow_normalized).reshape(-1,28,1)\n",
    "packet_count_normalized = np.array(packet_count_normalized).reshape(-1, 28, 1)"
   ]
  },
  {
   "cell_type": "code",
   "execution_count": 25,
   "metadata": {},
   "outputs": [],
   "source": [
    "labels = np.array(labels)"
   ]
  },
  {
   "cell_type": "code",
   "execution_count": 26,
   "metadata": {},
   "outputs": [
    {
     "data": {
      "text/plain": [
       "(11324,)"
      ]
     },
     "execution_count": 26,
     "metadata": {},
     "output_type": "execute_result"
    }
   ],
   "source": [
    "ccf_normalized.shape\n",
    "labels.shape"
   ]
  },
  {
   "cell_type": "code",
   "execution_count": 33,
   "metadata": {},
   "outputs": [
    {
     "data": {
      "text/html": [
       "<pre style=\"white-space:pre;overflow-x:auto;line-height:normal;font-family:Menlo,'DejaVu Sans Mono',consolas,'Courier New',monospace\"><span style=\"font-weight: bold\">Model: \"functional_2\"</span>\n",
       "</pre>\n"
      ],
      "text/plain": [
       "\u001b[1mModel: \"functional_2\"\u001b[0m\n"
      ]
     },
     "metadata": {},
     "output_type": "display_data"
    },
    {
     "data": {
      "text/html": [
       "<pre style=\"white-space:pre;overflow-x:auto;line-height:normal;font-family:Menlo,'DejaVu Sans Mono',consolas,'Courier New',monospace\">┏━━━━━━━━━━━━━━━━━━━━━┳━━━━━━━━━━━━━━━━━━━┳━━━━━━━━━━━━┳━━━━━━━━━━━━━━━━━━━┓\n",
       "┃<span style=\"font-weight: bold\"> Layer (type)        </span>┃<span style=\"font-weight: bold\"> Output Shape      </span>┃<span style=\"font-weight: bold\">    Param # </span>┃<span style=\"font-weight: bold\"> Connected to      </span>┃\n",
       "┡━━━━━━━━━━━━━━━━━━━━━╇━━━━━━━━━━━━━━━━━━━╇━━━━━━━━━━━━╇━━━━━━━━━━━━━━━━━━━┩\n",
       "│ input_layer_16      │ (<span style=\"color: #00d7ff; text-decoration-color: #00d7ff\">None</span>, <span style=\"color: #00af00; text-decoration-color: #00af00\">28</span>, <span style=\"color: #00af00; text-decoration-color: #00af00\">1</span>)     │          <span style=\"color: #00af00; text-decoration-color: #00af00\">0</span> │ -                 │\n",
       "│ (<span style=\"color: #0087ff; text-decoration-color: #0087ff\">InputLayer</span>)        │                   │            │                   │\n",
       "├─────────────────────┼───────────────────┼────────────┼───────────────────┤\n",
       "│ input_layer_17      │ (<span style=\"color: #00d7ff; text-decoration-color: #00d7ff\">None</span>, <span style=\"color: #00af00; text-decoration-color: #00af00\">28</span>, <span style=\"color: #00af00; text-decoration-color: #00af00\">1</span>)     │          <span style=\"color: #00af00; text-decoration-color: #00af00\">0</span> │ -                 │\n",
       "│ (<span style=\"color: #0087ff; text-decoration-color: #0087ff\">InputLayer</span>)        │                   │            │                   │\n",
       "├─────────────────────┼───────────────────┼────────────┼───────────────────┤\n",
       "│ input_layer_18      │ (<span style=\"color: #00d7ff; text-decoration-color: #00d7ff\">None</span>, <span style=\"color: #00af00; text-decoration-color: #00af00\">28</span>, <span style=\"color: #00af00; text-decoration-color: #00af00\">1</span>)     │          <span style=\"color: #00af00; text-decoration-color: #00af00\">0</span> │ -                 │\n",
       "│ (<span style=\"color: #0087ff; text-decoration-color: #0087ff\">InputLayer</span>)        │                   │            │                   │\n",
       "├─────────────────────┼───────────────────┼────────────┼───────────────────┤\n",
       "│ input_layer_19      │ (<span style=\"color: #00d7ff; text-decoration-color: #00d7ff\">None</span>, <span style=\"color: #00af00; text-decoration-color: #00af00\">28</span>, <span style=\"color: #00af00; text-decoration-color: #00af00\">1</span>)     │          <span style=\"color: #00af00; text-decoration-color: #00af00\">0</span> │ -                 │\n",
       "│ (<span style=\"color: #0087ff; text-decoration-color: #0087ff\">InputLayer</span>)        │                   │            │                   │\n",
       "├─────────────────────┼───────────────────┼────────────┼───────────────────┤\n",
       "│ input_layer_20      │ (<span style=\"color: #00d7ff; text-decoration-color: #00d7ff\">None</span>, <span style=\"color: #00af00; text-decoration-color: #00af00\">28</span>, <span style=\"color: #00af00; text-decoration-color: #00af00\">1</span>)     │          <span style=\"color: #00af00; text-decoration-color: #00af00\">0</span> │ -                 │\n",
       "│ (<span style=\"color: #0087ff; text-decoration-color: #0087ff\">InputLayer</span>)        │                   │            │                   │\n",
       "├─────────────────────┼───────────────────┼────────────┼───────────────────┤\n",
       "│ input_layer_21      │ (<span style=\"color: #00d7ff; text-decoration-color: #00d7ff\">None</span>, <span style=\"color: #00af00; text-decoration-color: #00af00\">28</span>, <span style=\"color: #00af00; text-decoration-color: #00af00\">1</span>)     │          <span style=\"color: #00af00; text-decoration-color: #00af00\">0</span> │ -                 │\n",
       "│ (<span style=\"color: #0087ff; text-decoration-color: #0087ff\">InputLayer</span>)        │                   │            │                   │\n",
       "├─────────────────────┼───────────────────┼────────────┼───────────────────┤\n",
       "│ input_layer_22      │ (<span style=\"color: #00d7ff; text-decoration-color: #00d7ff\">None</span>, <span style=\"color: #00af00; text-decoration-color: #00af00\">28</span>, <span style=\"color: #00af00; text-decoration-color: #00af00\">1</span>)     │          <span style=\"color: #00af00; text-decoration-color: #00af00\">0</span> │ -                 │\n",
       "│ (<span style=\"color: #0087ff; text-decoration-color: #0087ff\">InputLayer</span>)        │                   │            │                   │\n",
       "├─────────────────────┼───────────────────┼────────────┼───────────────────┤\n",
       "│ input_layer_23      │ (<span style=\"color: #00d7ff; text-decoration-color: #00d7ff\">None</span>, <span style=\"color: #00af00; text-decoration-color: #00af00\">28</span>, <span style=\"color: #00af00; text-decoration-color: #00af00\">1</span>)     │          <span style=\"color: #00af00; text-decoration-color: #00af00\">0</span> │ -                 │\n",
       "│ (<span style=\"color: #0087ff; text-decoration-color: #0087ff\">InputLayer</span>)        │                   │            │                   │\n",
       "├─────────────────────┼───────────────────┼────────────┼───────────────────┤\n",
       "│ lstm_1 (<span style=\"color: #0087ff; text-decoration-color: #0087ff\">LSTM</span>)       │ (<span style=\"color: #00d7ff; text-decoration-color: #00d7ff\">None</span>, <span style=\"color: #00af00; text-decoration-color: #00af00\">32</span>)        │      <span style=\"color: #00af00; text-decoration-color: #00af00\">4,352</span> │ input_layer_16[<span style=\"color: #00af00; text-decoration-color: #00af00\">0</span>… │\n",
       "│                     │                   │            │ input_layer_17[<span style=\"color: #00af00; text-decoration-color: #00af00\">0</span>… │\n",
       "│                     │                   │            │ input_layer_18[<span style=\"color: #00af00; text-decoration-color: #00af00\">0</span>… │\n",
       "│                     │                   │            │ input_layer_19[<span style=\"color: #00af00; text-decoration-color: #00af00\">0</span>… │\n",
       "│                     │                   │            │ input_layer_20[<span style=\"color: #00af00; text-decoration-color: #00af00\">0</span>… │\n",
       "│                     │                   │            │ input_layer_21[<span style=\"color: #00af00; text-decoration-color: #00af00\">0</span>… │\n",
       "│                     │                   │            │ input_layer_22[<span style=\"color: #00af00; text-decoration-color: #00af00\">0</span>… │\n",
       "│                     │                   │            │ input_layer_23[<span style=\"color: #00af00; text-decoration-color: #00af00\">0</span>… │\n",
       "├─────────────────────┼───────────────────┼────────────┼───────────────────┤\n",
       "│ concatenate_2       │ (<span style=\"color: #00d7ff; text-decoration-color: #00d7ff\">None</span>, <span style=\"color: #00af00; text-decoration-color: #00af00\">256</span>)       │          <span style=\"color: #00af00; text-decoration-color: #00af00\">0</span> │ lstm_1[<span style=\"color: #00af00; text-decoration-color: #00af00\">0</span>][<span style=\"color: #00af00; text-decoration-color: #00af00\">0</span>],     │\n",
       "│ (<span style=\"color: #0087ff; text-decoration-color: #0087ff\">Concatenate</span>)       │                   │            │ lstm_1[<span style=\"color: #00af00; text-decoration-color: #00af00\">1</span>][<span style=\"color: #00af00; text-decoration-color: #00af00\">0</span>],     │\n",
       "│                     │                   │            │ lstm_1[<span style=\"color: #00af00; text-decoration-color: #00af00\">2</span>][<span style=\"color: #00af00; text-decoration-color: #00af00\">0</span>],     │\n",
       "│                     │                   │            │ lstm_1[<span style=\"color: #00af00; text-decoration-color: #00af00\">3</span>][<span style=\"color: #00af00; text-decoration-color: #00af00\">0</span>],     │\n",
       "│                     │                   │            │ lstm_1[<span style=\"color: #00af00; text-decoration-color: #00af00\">4</span>][<span style=\"color: #00af00; text-decoration-color: #00af00\">0</span>],     │\n",
       "│                     │                   │            │ lstm_1[<span style=\"color: #00af00; text-decoration-color: #00af00\">5</span>][<span style=\"color: #00af00; text-decoration-color: #00af00\">0</span>],     │\n",
       "│                     │                   │            │ lstm_1[<span style=\"color: #00af00; text-decoration-color: #00af00\">6</span>][<span style=\"color: #00af00; text-decoration-color: #00af00\">0</span>],     │\n",
       "│                     │                   │            │ lstm_1[<span style=\"color: #00af00; text-decoration-color: #00af00\">7</span>][<span style=\"color: #00af00; text-decoration-color: #00af00\">0</span>]      │\n",
       "├─────────────────────┼───────────────────┼────────────┼───────────────────┤\n",
       "│ dense_2 (<span style=\"color: #0087ff; text-decoration-color: #0087ff\">Dense</span>)     │ (<span style=\"color: #00d7ff; text-decoration-color: #00d7ff\">None</span>, <span style=\"color: #00af00; text-decoration-color: #00af00\">1</span>)         │        <span style=\"color: #00af00; text-decoration-color: #00af00\">257</span> │ concatenate_2[<span style=\"color: #00af00; text-decoration-color: #00af00\">0</span>]… │\n",
       "└─────────────────────┴───────────────────┴────────────┴───────────────────┘\n",
       "</pre>\n"
      ],
      "text/plain": [
       "┏━━━━━━━━━━━━━━━━━━━━━┳━━━━━━━━━━━━━━━━━━━┳━━━━━━━━━━━━┳━━━━━━━━━━━━━━━━━━━┓\n",
       "┃\u001b[1m \u001b[0m\u001b[1mLayer (type)       \u001b[0m\u001b[1m \u001b[0m┃\u001b[1m \u001b[0m\u001b[1mOutput Shape     \u001b[0m\u001b[1m \u001b[0m┃\u001b[1m \u001b[0m\u001b[1m   Param #\u001b[0m\u001b[1m \u001b[0m┃\u001b[1m \u001b[0m\u001b[1mConnected to     \u001b[0m\u001b[1m \u001b[0m┃\n",
       "┡━━━━━━━━━━━━━━━━━━━━━╇━━━━━━━━━━━━━━━━━━━╇━━━━━━━━━━━━╇━━━━━━━━━━━━━━━━━━━┩\n",
       "│ input_layer_16      │ (\u001b[38;5;45mNone\u001b[0m, \u001b[38;5;34m28\u001b[0m, \u001b[38;5;34m1\u001b[0m)     │          \u001b[38;5;34m0\u001b[0m │ -                 │\n",
       "│ (\u001b[38;5;33mInputLayer\u001b[0m)        │                   │            │                   │\n",
       "├─────────────────────┼───────────────────┼────────────┼───────────────────┤\n",
       "│ input_layer_17      │ (\u001b[38;5;45mNone\u001b[0m, \u001b[38;5;34m28\u001b[0m, \u001b[38;5;34m1\u001b[0m)     │          \u001b[38;5;34m0\u001b[0m │ -                 │\n",
       "│ (\u001b[38;5;33mInputLayer\u001b[0m)        │                   │            │                   │\n",
       "├─────────────────────┼───────────────────┼────────────┼───────────────────┤\n",
       "│ input_layer_18      │ (\u001b[38;5;45mNone\u001b[0m, \u001b[38;5;34m28\u001b[0m, \u001b[38;5;34m1\u001b[0m)     │          \u001b[38;5;34m0\u001b[0m │ -                 │\n",
       "│ (\u001b[38;5;33mInputLayer\u001b[0m)        │                   │            │                   │\n",
       "├─────────────────────┼───────────────────┼────────────┼───────────────────┤\n",
       "│ input_layer_19      │ (\u001b[38;5;45mNone\u001b[0m, \u001b[38;5;34m28\u001b[0m, \u001b[38;5;34m1\u001b[0m)     │          \u001b[38;5;34m0\u001b[0m │ -                 │\n",
       "│ (\u001b[38;5;33mInputLayer\u001b[0m)        │                   │            │                   │\n",
       "├─────────────────────┼───────────────────┼────────────┼───────────────────┤\n",
       "│ input_layer_20      │ (\u001b[38;5;45mNone\u001b[0m, \u001b[38;5;34m28\u001b[0m, \u001b[38;5;34m1\u001b[0m)     │          \u001b[38;5;34m0\u001b[0m │ -                 │\n",
       "│ (\u001b[38;5;33mInputLayer\u001b[0m)        │                   │            │                   │\n",
       "├─────────────────────┼───────────────────┼────────────┼───────────────────┤\n",
       "│ input_layer_21      │ (\u001b[38;5;45mNone\u001b[0m, \u001b[38;5;34m28\u001b[0m, \u001b[38;5;34m1\u001b[0m)     │          \u001b[38;5;34m0\u001b[0m │ -                 │\n",
       "│ (\u001b[38;5;33mInputLayer\u001b[0m)        │                   │            │                   │\n",
       "├─────────────────────┼───────────────────┼────────────┼───────────────────┤\n",
       "│ input_layer_22      │ (\u001b[38;5;45mNone\u001b[0m, \u001b[38;5;34m28\u001b[0m, \u001b[38;5;34m1\u001b[0m)     │          \u001b[38;5;34m0\u001b[0m │ -                 │\n",
       "│ (\u001b[38;5;33mInputLayer\u001b[0m)        │                   │            │                   │\n",
       "├─────────────────────┼───────────────────┼────────────┼───────────────────┤\n",
       "│ input_layer_23      │ (\u001b[38;5;45mNone\u001b[0m, \u001b[38;5;34m28\u001b[0m, \u001b[38;5;34m1\u001b[0m)     │          \u001b[38;5;34m0\u001b[0m │ -                 │\n",
       "│ (\u001b[38;5;33mInputLayer\u001b[0m)        │                   │            │                   │\n",
       "├─────────────────────┼───────────────────┼────────────┼───────────────────┤\n",
       "│ lstm_1 (\u001b[38;5;33mLSTM\u001b[0m)       │ (\u001b[38;5;45mNone\u001b[0m, \u001b[38;5;34m32\u001b[0m)        │      \u001b[38;5;34m4,352\u001b[0m │ input_layer_16[\u001b[38;5;34m0\u001b[0m… │\n",
       "│                     │                   │            │ input_layer_17[\u001b[38;5;34m0\u001b[0m… │\n",
       "│                     │                   │            │ input_layer_18[\u001b[38;5;34m0\u001b[0m… │\n",
       "│                     │                   │            │ input_layer_19[\u001b[38;5;34m0\u001b[0m… │\n",
       "│                     │                   │            │ input_layer_20[\u001b[38;5;34m0\u001b[0m… │\n",
       "│                     │                   │            │ input_layer_21[\u001b[38;5;34m0\u001b[0m… │\n",
       "│                     │                   │            │ input_layer_22[\u001b[38;5;34m0\u001b[0m… │\n",
       "│                     │                   │            │ input_layer_23[\u001b[38;5;34m0\u001b[0m… │\n",
       "├─────────────────────┼───────────────────┼────────────┼───────────────────┤\n",
       "│ concatenate_2       │ (\u001b[38;5;45mNone\u001b[0m, \u001b[38;5;34m256\u001b[0m)       │          \u001b[38;5;34m0\u001b[0m │ lstm_1[\u001b[38;5;34m0\u001b[0m][\u001b[38;5;34m0\u001b[0m],     │\n",
       "│ (\u001b[38;5;33mConcatenate\u001b[0m)       │                   │            │ lstm_1[\u001b[38;5;34m1\u001b[0m][\u001b[38;5;34m0\u001b[0m],     │\n",
       "│                     │                   │            │ lstm_1[\u001b[38;5;34m2\u001b[0m][\u001b[38;5;34m0\u001b[0m],     │\n",
       "│                     │                   │            │ lstm_1[\u001b[38;5;34m3\u001b[0m][\u001b[38;5;34m0\u001b[0m],     │\n",
       "│                     │                   │            │ lstm_1[\u001b[38;5;34m4\u001b[0m][\u001b[38;5;34m0\u001b[0m],     │\n",
       "│                     │                   │            │ lstm_1[\u001b[38;5;34m5\u001b[0m][\u001b[38;5;34m0\u001b[0m],     │\n",
       "│                     │                   │            │ lstm_1[\u001b[38;5;34m6\u001b[0m][\u001b[38;5;34m0\u001b[0m],     │\n",
       "│                     │                   │            │ lstm_1[\u001b[38;5;34m7\u001b[0m][\u001b[38;5;34m0\u001b[0m]      │\n",
       "├─────────────────────┼───────────────────┼────────────┼───────────────────┤\n",
       "│ dense_2 (\u001b[38;5;33mDense\u001b[0m)     │ (\u001b[38;5;45mNone\u001b[0m, \u001b[38;5;34m1\u001b[0m)         │        \u001b[38;5;34m257\u001b[0m │ concatenate_2[\u001b[38;5;34m0\u001b[0m]… │\n",
       "└─────────────────────┴───────────────────┴────────────┴───────────────────┘\n"
      ]
     },
     "metadata": {},
     "output_type": "display_data"
    },
    {
     "data": {
      "text/html": [
       "<pre style=\"white-space:pre;overflow-x:auto;line-height:normal;font-family:Menlo,'DejaVu Sans Mono',consolas,'Courier New',monospace\"><span style=\"font-weight: bold\"> Total params: </span><span style=\"color: #00af00; text-decoration-color: #00af00\">4,609</span> (18.00 KB)\n",
       "</pre>\n"
      ],
      "text/plain": [
       "\u001b[1m Total params: \u001b[0m\u001b[38;5;34m4,609\u001b[0m (18.00 KB)\n"
      ]
     },
     "metadata": {},
     "output_type": "display_data"
    },
    {
     "data": {
      "text/html": [
       "<pre style=\"white-space:pre;overflow-x:auto;line-height:normal;font-family:Menlo,'DejaVu Sans Mono',consolas,'Courier New',monospace\"><span style=\"font-weight: bold\"> Trainable params: </span><span style=\"color: #00af00; text-decoration-color: #00af00\">4,609</span> (18.00 KB)\n",
       "</pre>\n"
      ],
      "text/plain": [
       "\u001b[1m Trainable params: \u001b[0m\u001b[38;5;34m4,609\u001b[0m (18.00 KB)\n"
      ]
     },
     "metadata": {},
     "output_type": "display_data"
    },
    {
     "data": {
      "text/html": [
       "<pre style=\"white-space:pre;overflow-x:auto;line-height:normal;font-family:Menlo,'DejaVu Sans Mono',consolas,'Courier New',monospace\"><span style=\"font-weight: bold\"> Non-trainable params: </span><span style=\"color: #00af00; text-decoration-color: #00af00\">0</span> (0.00 B)\n",
       "</pre>\n"
      ],
      "text/plain": [
       "\u001b[1m Non-trainable params: \u001b[0m\u001b[38;5;34m0\u001b[0m (0.00 B)\n"
      ]
     },
     "metadata": {},
     "output_type": "display_data"
    }
   ],
   "source": [
    "from tensorflow.keras.models import Model\n",
    "from tensorflow.keras.layers import Input, GRU, Dense, Concatenate, LSTM\n",
    "\n",
    "\n",
    "input_f1 = Input(shape=(28,1))\n",
    "input_f2 = Input(shape=(28,1))\n",
    "input_f3 = Input(shape=(28,1))\n",
    "input_f4 = Input(shape=(28,1))\n",
    "input_f5 = Input(shape=(28,1))\n",
    "input_f6 = Input(shape=(28,1))\n",
    "input_f7 = Input(shape=(28,1))\n",
    "input_f8 = Input(shape=(28,1))\n",
    "\n",
    "shared_lstm = LSTM(32, return_sequences=False)\n",
    "\n",
    "output_f1 = shared_lstm(input_f1)\n",
    "output_f2 = shared_lstm(input_f2)\n",
    "output_f3 = shared_lstm(input_f3)\n",
    "output_f4 = shared_lstm(input_f4)\n",
    "output_f5 = shared_lstm(input_f5)\n",
    "output_f6 = shared_lstm(input_f6)\n",
    "output_f7 = shared_lstm(input_f7)\n",
    "output_f8 = shared_lstm(input_f8)\n",
    "\n",
    "\n",
    "merged = Concatenate()([output_f1, output_f2, output_f3, output_f4, output_f5, output_f6, output_f7, output_f8])\n",
    "\n",
    "output = Dense(1, activation='sigmoid')(merged)\n",
    "\n",
    "model = Model(inputs=[input_f1, input_f2, input_f3, input_f4, input_f5, input_f6, input_f7, input_f8], outputs=output)\n",
    "\n",
    "# Compile the model\n",
    "model.compile(optimizer='adam', loss='binary_crossentropy', metrics=['accuracy'])\n",
    "\n",
    "# Summary of the model\n",
    "model.summary()\n"
   ]
  },
  {
   "cell_type": "code",
   "execution_count": 34,
   "metadata": {},
   "outputs": [],
   "source": [
    "from sklearn.model_selection import train_test_split\n",
    "pc_tr, pc_tst, fc_tr, fc_tst, ccf_tr, ccf_tst, ncf_tr, ncf_tst, coe_tr, coe_tst, pcbd_tr, pcbd_tst, pac_tr, pac_tst, cba_tr, cba_tst, lbl_tr, lbl_tst = train_test_split(packet_count_normalized, flow_normalized, ccf_normalized, ncf_normalized, coe_normalized, pcbd_normalized, pac_normalized, cba_normalized, labels, test_size=0.1, random_state=42)"
   ]
  },
  {
   "cell_type": "code",
   "execution_count": 35,
   "metadata": {},
   "outputs": [
    {
     "name": "stdout",
     "output_type": "stream",
     "text": [
      "Epoch 1/100\n"
     ]
    },
    {
     "name": "stderr",
     "output_type": "stream",
     "text": [
      "/home/rajesh/.local/lib/python3.12/site-packages/keras/src/models/functional.py:225: UserWarning: The structure of `inputs` doesn't match the expected structure: ['keras_tensor_36', 'keras_tensor_37', 'keras_tensor_38', 'keras_tensor_39', 'keras_tensor_40', 'keras_tensor_41', 'keras_tensor_42', 'keras_tensor_43']. Received: the structure of inputs=('*', '*', '*', '*', '*', '*', '*', '*')\n",
      "  warnings.warn(\n"
     ]
    },
    {
     "name": "stdout",
     "output_type": "stream",
     "text": [
      "\u001b[1m319/319\u001b[0m \u001b[32m━━━━━━━━━━━━━━━━━━━━\u001b[0m\u001b[37m\u001b[0m \u001b[1m22s\u001b[0m 36ms/step - accuracy: 0.5249 - loss: 0.6921 - val_accuracy: 0.5331 - val_loss: 0.6910\n",
      "Epoch 2/100\n",
      "\u001b[1m319/319\u001b[0m \u001b[32m━━━━━━━━━━━━━━━━━━━━\u001b[0m\u001b[37m\u001b[0m \u001b[1m11s\u001b[0m 33ms/step - accuracy: 0.5254 - loss: 0.6924 - val_accuracy: 0.5331 - val_loss: 0.6909\n",
      "Epoch 3/100\n",
      "\u001b[1m319/319\u001b[0m \u001b[32m━━━━━━━━━━━━━━━━━━━━\u001b[0m\u001b[37m\u001b[0m \u001b[1m10s\u001b[0m 32ms/step - accuracy: 0.5288 - loss: 0.6917 - val_accuracy: 0.5331 - val_loss: 0.6909\n",
      "Epoch 4/100\n",
      "\u001b[1m319/319\u001b[0m \u001b[32m━━━━━━━━━━━━━━━━━━━━\u001b[0m\u001b[37m\u001b[0m \u001b[1m10s\u001b[0m 32ms/step - accuracy: 0.5290 - loss: 0.6918 - val_accuracy: 0.5331 - val_loss: 0.6908\n",
      "Epoch 5/100\n",
      "\u001b[1m319/319\u001b[0m \u001b[32m━━━━━━━━━━━━━━━━━━━━\u001b[0m\u001b[37m\u001b[0m \u001b[1m10s\u001b[0m 32ms/step - accuracy: 0.5371 - loss: 0.6905 - val_accuracy: 0.5331 - val_loss: 0.6901\n",
      "Epoch 6/100\n",
      "\u001b[1m319/319\u001b[0m \u001b[32m━━━━━━━━━━━━━━━━━━━━\u001b[0m\u001b[37m\u001b[0m \u001b[1m10s\u001b[0m 33ms/step - accuracy: 0.5303 - loss: 0.6908 - val_accuracy: 0.5331 - val_loss: 0.6892\n",
      "Epoch 7/100\n",
      "\u001b[1m319/319\u001b[0m \u001b[32m━━━━━━━━━━━━━━━━━━━━\u001b[0m\u001b[37m\u001b[0m \u001b[1m10s\u001b[0m 32ms/step - accuracy: 0.5417 - loss: 0.6876 - val_accuracy: 0.7273 - val_loss: 0.6871\n",
      "Epoch 8/100\n",
      "\u001b[1m319/319\u001b[0m \u001b[32m━━━━━━━━━━━━━━━━━━━━\u001b[0m\u001b[37m\u001b[0m \u001b[1m10s\u001b[0m 32ms/step - accuracy: 0.5429 - loss: 0.6877 - val_accuracy: 0.5428 - val_loss: 0.6823\n",
      "Epoch 9/100\n",
      "\u001b[1m319/319\u001b[0m \u001b[32m━━━━━━━━━━━━━━━━━━━━\u001b[0m\u001b[37m\u001b[0m \u001b[1m10s\u001b[0m 32ms/step - accuracy: 0.5472 - loss: 0.6892 - val_accuracy: 0.5419 - val_loss: 0.6726\n",
      "Epoch 10/100\n",
      "\u001b[1m319/319\u001b[0m \u001b[32m━━━━━━━━━━━━━━━━━━━━\u001b[0m\u001b[37m\u001b[0m \u001b[1m11s\u001b[0m 34ms/step - accuracy: 0.5716 - loss: 0.6651 - val_accuracy: 0.7617 - val_loss: 0.6498\n",
      "Epoch 11/100\n",
      "\u001b[1m319/319\u001b[0m \u001b[32m━━━━━━━━━━━━━━━━━━━━\u001b[0m\u001b[37m\u001b[0m \u001b[1m11s\u001b[0m 33ms/step - accuracy: 0.6311 - loss: 0.6466 - val_accuracy: 0.6090 - val_loss: 0.6220\n",
      "Epoch 12/100\n",
      "\u001b[1m319/319\u001b[0m \u001b[32m━━━━━━━━━━━━━━━━━━━━\u001b[0m\u001b[37m\u001b[0m \u001b[1m10s\u001b[0m 32ms/step - accuracy: 0.6623 - loss: 0.6277 - val_accuracy: 0.6275 - val_loss: 0.6149\n",
      "Epoch 13/100\n",
      "\u001b[1m319/319\u001b[0m \u001b[32m━━━━━━━━━━━━━━━━━━━━\u001b[0m\u001b[37m\u001b[0m \u001b[1m10s\u001b[0m 32ms/step - accuracy: 0.6954 - loss: 0.6139 - val_accuracy: 0.5613 - val_loss: 0.6395\n",
      "Epoch 14/100\n",
      "\u001b[1m319/319\u001b[0m \u001b[32m━━━━━━━━━━━━━━━━━━━━\u001b[0m\u001b[37m\u001b[0m \u001b[1m10s\u001b[0m 32ms/step - accuracy: 0.6888 - loss: 0.6103 - val_accuracy: 0.6152 - val_loss: 0.6163\n",
      "Epoch 15/100\n",
      "\u001b[1m319/319\u001b[0m \u001b[32m━━━━━━━━━━━━━━━━━━━━\u001b[0m\u001b[37m\u001b[0m \u001b[1m10s\u001b[0m 32ms/step - accuracy: 0.7078 - loss: 0.5949 - val_accuracy: 0.7343 - val_loss: 0.5736\n",
      "Epoch 16/100\n",
      "\u001b[1m319/319\u001b[0m \u001b[32m━━━━━━━━━━━━━━━━━━━━\u001b[0m\u001b[37m\u001b[0m \u001b[1m10s\u001b[0m 32ms/step - accuracy: 0.7086 - loss: 0.5960 - val_accuracy: 0.6867 - val_loss: 0.5822\n",
      "Epoch 17/100\n",
      "\u001b[1m319/319\u001b[0m \u001b[32m━━━━━━━━━━━━━━━━━━━━\u001b[0m\u001b[37m\u001b[0m \u001b[1m10s\u001b[0m 32ms/step - accuracy: 0.7154 - loss: 0.5889 - val_accuracy: 0.7370 - val_loss: 0.5735\n",
      "Epoch 18/100\n",
      "\u001b[1m319/319\u001b[0m \u001b[32m━━━━━━━━━━━━━━━━━━━━\u001b[0m\u001b[37m\u001b[0m \u001b[1m10s\u001b[0m 32ms/step - accuracy: 0.7230 - loss: 0.5804 - val_accuracy: 0.7608 - val_loss: 0.5709\n",
      "Epoch 19/100\n",
      "\u001b[1m319/319\u001b[0m \u001b[32m━━━━━━━━━━━━━━━━━━━━\u001b[0m\u001b[37m\u001b[0m \u001b[1m10s\u001b[0m 32ms/step - accuracy: 0.7321 - loss: 0.5814 - val_accuracy: 0.7140 - val_loss: 0.6290\n",
      "Epoch 20/100\n",
      "\u001b[1m319/319\u001b[0m \u001b[32m━━━━━━━━━━━━━━━━━━━━\u001b[0m\u001b[37m\u001b[0m \u001b[1m10s\u001b[0m 32ms/step - accuracy: 0.7222 - loss: 0.5922 - val_accuracy: 0.6840 - val_loss: 0.5770\n",
      "Epoch 21/100\n",
      "\u001b[1m319/319\u001b[0m \u001b[32m━━━━━━━━━━━━━━━━━━━━\u001b[0m\u001b[37m\u001b[0m \u001b[1m10s\u001b[0m 32ms/step - accuracy: 0.7326 - loss: 0.5715 - val_accuracy: 0.7211 - val_loss: 0.5752\n",
      "Epoch 22/100\n",
      "\u001b[1m319/319\u001b[0m \u001b[32m━━━━━━━━━━━━━━━━━━━━\u001b[0m\u001b[37m\u001b[0m \u001b[1m10s\u001b[0m 32ms/step - accuracy: 0.7312 - loss: 0.5706 - val_accuracy: 0.7652 - val_loss: 0.5598\n",
      "Epoch 23/100\n",
      "\u001b[1m319/319\u001b[0m \u001b[32m━━━━━━━━━━━━━━━━━━━━\u001b[0m\u001b[37m\u001b[0m \u001b[1m10s\u001b[0m 32ms/step - accuracy: 0.7411 - loss: 0.5683 - val_accuracy: 0.7458 - val_loss: 0.5822\n",
      "Epoch 24/100\n",
      "\u001b[1m319/319\u001b[0m \u001b[32m━━━━━━━━━━━━━━━━━━━━\u001b[0m\u001b[37m\u001b[0m \u001b[1m10s\u001b[0m 32ms/step - accuracy: 0.7347 - loss: 0.5638 - val_accuracy: 0.7167 - val_loss: 0.5597\n",
      "Epoch 25/100\n",
      "\u001b[1m319/319\u001b[0m \u001b[32m━━━━━━━━━━━━━━━━━━━━\u001b[0m\u001b[37m\u001b[0m \u001b[1m10s\u001b[0m 32ms/step - accuracy: 0.7401 - loss: 0.5688 - val_accuracy: 0.7741 - val_loss: 0.5637\n",
      "Epoch 26/100\n",
      "\u001b[1m319/319\u001b[0m \u001b[32m━━━━━━━━━━━━━━━━━━━━\u001b[0m\u001b[37m\u001b[0m \u001b[1m10s\u001b[0m 32ms/step - accuracy: 0.7506 - loss: 0.5591 - val_accuracy: 0.6814 - val_loss: 0.5827\n",
      "Epoch 27/100\n",
      "\u001b[1m319/319\u001b[0m \u001b[32m━━━━━━━━━━━━━━━━━━━━\u001b[0m\u001b[37m\u001b[0m \u001b[1m11s\u001b[0m 33ms/step - accuracy: 0.7414 - loss: 0.5679 - val_accuracy: 0.7679 - val_loss: 0.5459\n",
      "Epoch 28/100\n",
      "\u001b[1m319/319\u001b[0m \u001b[32m━━━━━━━━━━━━━━━━━━━━\u001b[0m\u001b[37m\u001b[0m \u001b[1m11s\u001b[0m 34ms/step - accuracy: 0.7376 - loss: 0.5765 - val_accuracy: 0.7696 - val_loss: 0.5498\n",
      "Epoch 29/100\n",
      "\u001b[1m319/319\u001b[0m \u001b[32m━━━━━━━━━━━━━━━━━━━━\u001b[0m\u001b[37m\u001b[0m \u001b[1m11s\u001b[0m 33ms/step - accuracy: 0.7413 - loss: 0.5732 - val_accuracy: 0.6990 - val_loss: 0.5628\n",
      "Epoch 30/100\n",
      "\u001b[1m319/319\u001b[0m \u001b[32m━━━━━━━━━━━━━━━━━━━━\u001b[0m\u001b[37m\u001b[0m \u001b[1m11s\u001b[0m 34ms/step - accuracy: 0.7469 - loss: 0.5661 - val_accuracy: 0.7070 - val_loss: 0.5928\n",
      "Epoch 31/100\n",
      "\u001b[1m319/319\u001b[0m \u001b[32m━━━━━━━━━━━━━━━━━━━━\u001b[0m\u001b[37m\u001b[0m \u001b[1m11s\u001b[0m 34ms/step - accuracy: 0.7419 - loss: 0.5615 - val_accuracy: 0.6964 - val_loss: 0.5976\n",
      "Epoch 32/100\n",
      "\u001b[1m319/319\u001b[0m \u001b[32m━━━━━━━━━━━━━━━━━━━━\u001b[0m\u001b[37m\u001b[0m \u001b[1m11s\u001b[0m 34ms/step - accuracy: 0.7537 - loss: 0.5497 - val_accuracy: 0.7696 - val_loss: 0.5342\n",
      "Epoch 33/100\n",
      "\u001b[1m319/319\u001b[0m \u001b[32m━━━━━━━━━━━━━━━━━━━━\u001b[0m\u001b[37m\u001b[0m \u001b[1m11s\u001b[0m 33ms/step - accuracy: 0.7528 - loss: 0.5556 - val_accuracy: 0.6955 - val_loss: 0.5719\n",
      "Epoch 34/100\n",
      "\u001b[1m319/319\u001b[0m \u001b[32m━━━━━━━━━━━━━━━━━━━━\u001b[0m\u001b[37m\u001b[0m \u001b[1m11s\u001b[0m 35ms/step - accuracy: 0.7376 - loss: 0.5751 - val_accuracy: 0.7846 - val_loss: 0.5421\n",
      "Epoch 35/100\n",
      "\u001b[1m319/319\u001b[0m \u001b[32m━━━━━━━━━━━━━━━━━━━━\u001b[0m\u001b[37m\u001b[0m \u001b[1m10s\u001b[0m 32ms/step - accuracy: 0.7532 - loss: 0.5551 - val_accuracy: 0.7467 - val_loss: 0.5378\n",
      "Epoch 36/100\n",
      "\u001b[1m319/319\u001b[0m \u001b[32m━━━━━━━━━━━━━━━━━━━━\u001b[0m\u001b[37m\u001b[0m \u001b[1m10s\u001b[0m 33ms/step - accuracy: 0.7668 - loss: 0.5370 - val_accuracy: 0.7229 - val_loss: 0.5478\n",
      "Epoch 37/100\n",
      "\u001b[1m319/319\u001b[0m \u001b[32m━━━━━━━━━━━━━━━━━━━━\u001b[0m\u001b[37m\u001b[0m \u001b[1m10s\u001b[0m 32ms/step - accuracy: 0.7517 - loss: 0.5494 - val_accuracy: 0.7908 - val_loss: 0.5313\n",
      "Epoch 38/100\n",
      "\u001b[1m319/319\u001b[0m \u001b[32m━━━━━━━━━━━━━━━━━━━━\u001b[0m\u001b[37m\u001b[0m \u001b[1m10s\u001b[0m 33ms/step - accuracy: 0.7491 - loss: 0.5533 - val_accuracy: 0.7096 - val_loss: 0.5588\n",
      "Epoch 39/100\n",
      "\u001b[1m319/319\u001b[0m \u001b[32m━━━━━━━━━━━━━━━━━━━━\u001b[0m\u001b[37m\u001b[0m \u001b[1m10s\u001b[0m 33ms/step - accuracy: 0.7682 - loss: 0.5378 - val_accuracy: 0.6584 - val_loss: 0.5953\n",
      "Epoch 40/100\n",
      "\u001b[1m319/319\u001b[0m \u001b[32m━━━━━━━━━━━━━━━━━━━━\u001b[0m\u001b[37m\u001b[0m \u001b[1m10s\u001b[0m 33ms/step - accuracy: 0.7638 - loss: 0.5356 - val_accuracy: 0.7661 - val_loss: 0.5277\n",
      "Epoch 41/100\n",
      "\u001b[1m319/319\u001b[0m \u001b[32m━━━━━━━━━━━━━━━━━━━━\u001b[0m\u001b[37m\u001b[0m \u001b[1m10s\u001b[0m 32ms/step - accuracy: 0.7656 - loss: 0.5417 - val_accuracy: 0.6064 - val_loss: 0.6035\n",
      "Epoch 42/100\n",
      "\u001b[1m319/319\u001b[0m \u001b[32m━━━━━━━━━━━━━━━━━━━━\u001b[0m\u001b[37m\u001b[0m \u001b[1m10s\u001b[0m 33ms/step - accuracy: 0.7520 - loss: 0.5456 - val_accuracy: 0.7696 - val_loss: 0.5169\n",
      "Epoch 43/100\n",
      "\u001b[1m319/319\u001b[0m \u001b[32m━━━━━━━━━━━━━━━━━━━━\u001b[0m\u001b[37m\u001b[0m \u001b[1m10s\u001b[0m 32ms/step - accuracy: 0.7624 - loss: 0.5477 - val_accuracy: 0.7670 - val_loss: 0.5282\n",
      "Epoch 44/100\n",
      "\u001b[1m319/319\u001b[0m \u001b[32m━━━━━━━━━━━━━━━━━━━━\u001b[0m\u001b[37m\u001b[0m \u001b[1m10s\u001b[0m 33ms/step - accuracy: 0.7511 - loss: 0.5546 - val_accuracy: 0.7935 - val_loss: 0.5116\n",
      "Epoch 45/100\n",
      "\u001b[1m319/319\u001b[0m \u001b[32m━━━━━━━━━━━━━━━━━━━━\u001b[0m\u001b[37m\u001b[0m \u001b[1m10s\u001b[0m 33ms/step - accuracy: 0.7672 - loss: 0.5315 - val_accuracy: 0.7617 - val_loss: 0.5183\n",
      "Epoch 46/100\n",
      "\u001b[1m319/319\u001b[0m \u001b[32m━━━━━━━━━━━━━━━━━━━━\u001b[0m\u001b[37m\u001b[0m \u001b[1m10s\u001b[0m 33ms/step - accuracy: 0.7750 - loss: 0.5274 - val_accuracy: 0.7882 - val_loss: 0.5209\n",
      "Epoch 47/100\n",
      "\u001b[1m319/319\u001b[0m \u001b[32m━━━━━━━━━━━━━━━━━━━━\u001b[0m\u001b[37m\u001b[0m \u001b[1m10s\u001b[0m 33ms/step - accuracy: 0.7670 - loss: 0.5316 - val_accuracy: 0.7785 - val_loss: 0.5198\n",
      "Epoch 48/100\n",
      "\u001b[1m319/319\u001b[0m \u001b[32m━━━━━━━━━━━━━━━━━━━━\u001b[0m\u001b[37m\u001b[0m \u001b[1m10s\u001b[0m 32ms/step - accuracy: 0.7616 - loss: 0.5368 - val_accuracy: 0.7961 - val_loss: 0.5005\n",
      "Epoch 49/100\n",
      "\u001b[1m319/319\u001b[0m \u001b[32m━━━━━━━━━━━━━━━━━━━━\u001b[0m\u001b[37m\u001b[0m \u001b[1m10s\u001b[0m 33ms/step - accuracy: 0.7672 - loss: 0.5341 - val_accuracy: 0.7732 - val_loss: 0.5172\n",
      "Epoch 50/100\n",
      "\u001b[1m319/319\u001b[0m \u001b[32m━━━━━━━━━━━━━━━━━━━━\u001b[0m\u001b[37m\u001b[0m \u001b[1m10s\u001b[0m 33ms/step - accuracy: 0.7707 - loss: 0.5253 - val_accuracy: 0.7829 - val_loss: 0.5043\n",
      "Epoch 51/100\n",
      "\u001b[1m319/319\u001b[0m \u001b[32m━━━━━━━━━━━━━━━━━━━━\u001b[0m\u001b[37m\u001b[0m \u001b[1m10s\u001b[0m 32ms/step - accuracy: 0.7807 - loss: 0.5270 - val_accuracy: 0.7811 - val_loss: 0.4957\n",
      "Epoch 52/100\n",
      "\u001b[1m319/319\u001b[0m \u001b[32m━━━━━━━━━━━━━━━━━━━━\u001b[0m\u001b[37m\u001b[0m \u001b[1m10s\u001b[0m 33ms/step - accuracy: 0.7760 - loss: 0.5228 - val_accuracy: 0.7926 - val_loss: 0.4914\n",
      "Epoch 53/100\n",
      "\u001b[1m319/319\u001b[0m \u001b[32m━━━━━━━━━━━━━━━━━━━━\u001b[0m\u001b[37m\u001b[0m \u001b[1m10s\u001b[0m 33ms/step - accuracy: 0.7691 - loss: 0.5266 - val_accuracy: 0.7926 - val_loss: 0.5139\n",
      "Epoch 54/100\n",
      "\u001b[1m319/319\u001b[0m \u001b[32m━━━━━━━━━━━━━━━━━━━━\u001b[0m\u001b[37m\u001b[0m \u001b[1m10s\u001b[0m 33ms/step - accuracy: 0.7687 - loss: 0.5342 - val_accuracy: 0.7538 - val_loss: 0.5266\n",
      "Epoch 55/100\n",
      "\u001b[1m319/319\u001b[0m \u001b[32m━━━━━━━━━━━━━━━━━━━━\u001b[0m\u001b[37m\u001b[0m \u001b[1m10s\u001b[0m 32ms/step - accuracy: 0.7698 - loss: 0.5241 - val_accuracy: 0.7944 - val_loss: 0.4936\n",
      "Epoch 56/100\n",
      "\u001b[1m319/319\u001b[0m \u001b[32m━━━━━━━━━━━━━━━━━━━━\u001b[0m\u001b[37m\u001b[0m \u001b[1m10s\u001b[0m 32ms/step - accuracy: 0.7727 - loss: 0.5351 - val_accuracy: 0.7599 - val_loss: 0.5180\n",
      "Epoch 57/100\n",
      "\u001b[1m319/319\u001b[0m \u001b[32m━━━━━━━━━━━━━━━━━━━━\u001b[0m\u001b[37m\u001b[0m \u001b[1m11s\u001b[0m 33ms/step - accuracy: 0.7802 - loss: 0.5057 - val_accuracy: 0.7546 - val_loss: 0.5475\n",
      "Epoch 58/100\n",
      "\u001b[1m319/319\u001b[0m \u001b[32m━━━━━━━━━━━━━━━━━━━━\u001b[0m\u001b[37m\u001b[0m \u001b[1m11s\u001b[0m 33ms/step - accuracy: 0.7795 - loss: 0.5301 - val_accuracy: 0.7935 - val_loss: 0.4831\n",
      "Epoch 59/100\n",
      "\u001b[1m319/319\u001b[0m \u001b[32m━━━━━━━━━━━━━━━━━━━━\u001b[0m\u001b[37m\u001b[0m \u001b[1m10s\u001b[0m 32ms/step - accuracy: 0.7648 - loss: 0.5317 - val_accuracy: 0.7988 - val_loss: 0.5015\n",
      "Epoch 60/100\n",
      "\u001b[1m319/319\u001b[0m \u001b[32m━━━━━━━━━━━━━━━━━━━━\u001b[0m\u001b[37m\u001b[0m \u001b[1m10s\u001b[0m 33ms/step - accuracy: 0.7937 - loss: 0.5065 - val_accuracy: 0.7714 - val_loss: 0.5001\n",
      "Epoch 61/100\n",
      "\u001b[1m319/319\u001b[0m \u001b[32m━━━━━━━━━━━━━━━━━━━━\u001b[0m\u001b[37m\u001b[0m \u001b[1m10s\u001b[0m 33ms/step - accuracy: 0.7737 - loss: 0.5149 - val_accuracy: 0.6893 - val_loss: 0.5576\n",
      "Epoch 62/100\n",
      "\u001b[1m319/319\u001b[0m \u001b[32m━━━━━━━━━━━━━━━━━━━━\u001b[0m\u001b[37m\u001b[0m \u001b[1m10s\u001b[0m 32ms/step - accuracy: 0.7710 - loss: 0.5213 - val_accuracy: 0.8102 - val_loss: 0.4806\n",
      "Epoch 63/100\n",
      "\u001b[1m319/319\u001b[0m \u001b[32m━━━━━━━━━━━━━━━━━━━━\u001b[0m\u001b[37m\u001b[0m \u001b[1m10s\u001b[0m 32ms/step - accuracy: 0.7832 - loss: 0.5077 - val_accuracy: 0.5428 - val_loss: 0.8611\n",
      "Epoch 64/100\n",
      "\u001b[1m319/319\u001b[0m \u001b[32m━━━━━━━━━━━━━━━━━━━━\u001b[0m\u001b[37m\u001b[0m \u001b[1m10s\u001b[0m 33ms/step - accuracy: 0.6369 - loss: 0.6547 - val_accuracy: 0.7626 - val_loss: 0.5635\n",
      "Epoch 65/100\n",
      "\u001b[1m319/319\u001b[0m \u001b[32m━━━━━━━━━━━━━━━━━━━━\u001b[0m\u001b[37m\u001b[0m \u001b[1m10s\u001b[0m 32ms/step - accuracy: 0.7022 - loss: 0.6022 - val_accuracy: 0.7626 - val_loss: 0.5061\n",
      "Epoch 66/100\n",
      "\u001b[1m319/319\u001b[0m \u001b[32m━━━━━━━━━━━━━━━━━━━━\u001b[0m\u001b[37m\u001b[0m \u001b[1m10s\u001b[0m 33ms/step - accuracy: 0.7786 - loss: 0.5072 - val_accuracy: 0.7988 - val_loss: 0.4693\n",
      "Epoch 67/100\n",
      "\u001b[1m319/319\u001b[0m \u001b[32m━━━━━━━━━━━━━━━━━━━━\u001b[0m\u001b[37m\u001b[0m \u001b[1m10s\u001b[0m 32ms/step - accuracy: 0.7809 - loss: 0.5100 - val_accuracy: 0.7026 - val_loss: 0.5906\n",
      "Epoch 68/100\n",
      "\u001b[1m319/319\u001b[0m \u001b[32m━━━━━━━━━━━━━━━━━━━━\u001b[0m\u001b[37m\u001b[0m \u001b[1m10s\u001b[0m 33ms/step - accuracy: 0.7878 - loss: 0.5067 - val_accuracy: 0.7087 - val_loss: 0.5440\n",
      "Epoch 69/100\n",
      "\u001b[1m319/319\u001b[0m \u001b[32m━━━━━━━━━━━━━━━━━━━━\u001b[0m\u001b[37m\u001b[0m \u001b[1m10s\u001b[0m 33ms/step - accuracy: 0.7839 - loss: 0.4970 - val_accuracy: 0.7882 - val_loss: 0.4657\n",
      "Epoch 70/100\n",
      "\u001b[1m319/319\u001b[0m \u001b[32m━━━━━━━━━━━━━━━━━━━━\u001b[0m\u001b[37m\u001b[0m \u001b[1m10s\u001b[0m 32ms/step - accuracy: 0.7864 - loss: 0.5013 - val_accuracy: 0.7864 - val_loss: 0.4678\n",
      "Epoch 71/100\n",
      "\u001b[1m319/319\u001b[0m \u001b[32m━━━━━━━━━━━━━━━━━━━━\u001b[0m\u001b[37m\u001b[0m \u001b[1m10s\u001b[0m 32ms/step - accuracy: 0.7900 - loss: 0.4896 - val_accuracy: 0.7996 - val_loss: 0.4670\n",
      "Epoch 72/100\n",
      "\u001b[1m319/319\u001b[0m \u001b[32m━━━━━━━━━━━━━━━━━━━━\u001b[0m\u001b[37m\u001b[0m \u001b[1m10s\u001b[0m 33ms/step - accuracy: 0.7838 - loss: 0.5075 - val_accuracy: 0.8014 - val_loss: 0.4580\n",
      "Epoch 73/100\n",
      "\u001b[1m319/319\u001b[0m \u001b[32m━━━━━━━━━━━━━━━━━━━━\u001b[0m\u001b[37m\u001b[0m \u001b[1m10s\u001b[0m 32ms/step - accuracy: 0.7862 - loss: 0.4979 - val_accuracy: 0.7087 - val_loss: 0.6156\n",
      "Epoch 74/100\n",
      "\u001b[1m319/319\u001b[0m \u001b[32m━━━━━━━━━━━━━━━━━━━━\u001b[0m\u001b[37m\u001b[0m \u001b[1m10s\u001b[0m 32ms/step - accuracy: 0.6713 - loss: 0.6092 - val_accuracy: 0.7158 - val_loss: 0.5913\n",
      "Epoch 75/100\n",
      "\u001b[1m319/319\u001b[0m \u001b[32m━━━━━━━━━━━━━━━━━━━━\u001b[0m\u001b[37m\u001b[0m \u001b[1m10s\u001b[0m 33ms/step - accuracy: 0.7437 - loss: 0.5656 - val_accuracy: 0.7308 - val_loss: 0.5651\n",
      "Epoch 76/100\n",
      "\u001b[1m319/319\u001b[0m \u001b[32m━━━━━━━━━━━━━━━━━━━━\u001b[0m\u001b[37m\u001b[0m \u001b[1m10s\u001b[0m 32ms/step - accuracy: 0.7530 - loss: 0.5543 - val_accuracy: 0.8067 - val_loss: 0.4583\n",
      "Epoch 77/100\n",
      "\u001b[1m319/319\u001b[0m \u001b[32m━━━━━━━━━━━━━━━━━━━━\u001b[0m\u001b[37m\u001b[0m \u001b[1m11s\u001b[0m 34ms/step - accuracy: 0.7834 - loss: 0.4985 - val_accuracy: 0.7917 - val_loss: 0.4646\n",
      "Epoch 78/100\n",
      "\u001b[1m319/319\u001b[0m \u001b[32m━━━━━━━━━━━━━━━━━━━━\u001b[0m\u001b[37m\u001b[0m \u001b[1m11s\u001b[0m 35ms/step - accuracy: 0.7926 - loss: 0.4981 - val_accuracy: 0.7864 - val_loss: 0.4824\n",
      "Epoch 79/100\n",
      "\u001b[1m319/319\u001b[0m \u001b[32m━━━━━━━━━━━━━━━━━━━━\u001b[0m\u001b[37m\u001b[0m \u001b[1m11s\u001b[0m 36ms/step - accuracy: 0.7957 - loss: 0.4877 - val_accuracy: 0.8191 - val_loss: 0.4416\n",
      "Epoch 80/100\n",
      "\u001b[1m319/319\u001b[0m \u001b[32m━━━━━━━━━━━━━━━━━━━━\u001b[0m\u001b[37m\u001b[0m \u001b[1m11s\u001b[0m 35ms/step - accuracy: 0.7896 - loss: 0.4844 - val_accuracy: 0.8147 - val_loss: 0.4509\n",
      "Epoch 81/100\n",
      "\u001b[1m319/319\u001b[0m \u001b[32m━━━━━━━━━━━━━━━━━━━━\u001b[0m\u001b[37m\u001b[0m \u001b[1m11s\u001b[0m 35ms/step - accuracy: 0.7986 - loss: 0.4832 - val_accuracy: 0.8076 - val_loss: 0.4515\n",
      "Epoch 82/100\n",
      "\u001b[1m319/319\u001b[0m \u001b[32m━━━━━━━━━━━━━━━━━━━━\u001b[0m\u001b[37m\u001b[0m \u001b[1m11s\u001b[0m 35ms/step - accuracy: 0.7861 - loss: 0.4840 - val_accuracy: 0.8120 - val_loss: 0.4450\n",
      "Epoch 83/100\n",
      "\u001b[1m319/319\u001b[0m \u001b[32m━━━━━━━━━━━━━━━━━━━━\u001b[0m\u001b[37m\u001b[0m \u001b[1m11s\u001b[0m 35ms/step - accuracy: 0.7858 - loss: 0.4926 - val_accuracy: 0.8102 - val_loss: 0.5075\n",
      "Epoch 84/100\n",
      "\u001b[1m319/319\u001b[0m \u001b[32m━━━━━━━━━━━━━━━━━━━━\u001b[0m\u001b[37m\u001b[0m \u001b[1m11s\u001b[0m 35ms/step - accuracy: 0.7858 - loss: 0.4990 - val_accuracy: 0.8111 - val_loss: 0.4608\n",
      "Epoch 85/100\n",
      "\u001b[1m319/319\u001b[0m \u001b[32m━━━━━━━━━━━━━━━━━━━━\u001b[0m\u001b[37m\u001b[0m \u001b[1m11s\u001b[0m 35ms/step - accuracy: 0.8009 - loss: 0.4692 - val_accuracy: 0.8094 - val_loss: 0.4409\n",
      "Epoch 86/100\n",
      "\u001b[1m319/319\u001b[0m \u001b[32m━━━━━━━━━━━━━━━━━━━━\u001b[0m\u001b[37m\u001b[0m \u001b[1m11s\u001b[0m 35ms/step - accuracy: 0.7968 - loss: 0.4844 - val_accuracy: 0.8094 - val_loss: 0.4477\n",
      "Epoch 87/100\n",
      "\u001b[1m319/319\u001b[0m \u001b[32m━━━━━━━━━━━━━━━━━━━━\u001b[0m\u001b[37m\u001b[0m \u001b[1m11s\u001b[0m 35ms/step - accuracy: 0.7976 - loss: 0.4758 - val_accuracy: 0.8102 - val_loss: 0.4399\n",
      "Epoch 88/100\n",
      "\u001b[1m319/319\u001b[0m \u001b[32m━━━━━━━━━━━━━━━━━━━━\u001b[0m\u001b[37m\u001b[0m \u001b[1m11s\u001b[0m 35ms/step - accuracy: 0.7937 - loss: 0.4651 - val_accuracy: 0.7952 - val_loss: 0.4768\n",
      "Epoch 89/100\n",
      "\u001b[1m319/319\u001b[0m \u001b[32m━━━━━━━━━━━━━━━━━━━━\u001b[0m\u001b[37m\u001b[0m \u001b[1m11s\u001b[0m 35ms/step - accuracy: 0.7917 - loss: 0.4759 - val_accuracy: 0.8155 - val_loss: 0.4360\n",
      "Epoch 90/100\n",
      "\u001b[1m319/319\u001b[0m \u001b[32m━━━━━━━━━━━━━━━━━━━━\u001b[0m\u001b[37m\u001b[0m \u001b[1m11s\u001b[0m 35ms/step - accuracy: 0.7923 - loss: 0.4787 - val_accuracy: 0.8182 - val_loss: 0.4482\n",
      "Epoch 91/100\n",
      "\u001b[1m319/319\u001b[0m \u001b[32m━━━━━━━━━━━━━━━━━━━━\u001b[0m\u001b[37m\u001b[0m \u001b[1m11s\u001b[0m 35ms/step - accuracy: 0.8064 - loss: 0.4696 - val_accuracy: 0.8102 - val_loss: 0.4393\n",
      "Epoch 92/100\n",
      "\u001b[1m319/319\u001b[0m \u001b[32m━━━━━━━━━━━━━━━━━━━━\u001b[0m\u001b[37m\u001b[0m \u001b[1m11s\u001b[0m 35ms/step - accuracy: 0.7962 - loss: 0.4865 - val_accuracy: 0.8094 - val_loss: 0.4477\n",
      "Epoch 93/100\n",
      "\u001b[1m319/319\u001b[0m \u001b[32m━━━━━━━━━━━━━━━━━━━━\u001b[0m\u001b[37m\u001b[0m \u001b[1m11s\u001b[0m 35ms/step - accuracy: 0.7934 - loss: 0.4760 - val_accuracy: 0.8005 - val_loss: 0.4432\n",
      "Epoch 94/100\n",
      "\u001b[1m319/319\u001b[0m \u001b[32m━━━━━━━━━━━━━━━━━━━━\u001b[0m\u001b[37m\u001b[0m \u001b[1m11s\u001b[0m 35ms/step - accuracy: 0.7974 - loss: 0.4706 - val_accuracy: 0.7564 - val_loss: 0.5151\n",
      "Epoch 95/100\n",
      "\u001b[1m319/319\u001b[0m \u001b[32m━━━━━━━━━━━━━━━━━━━━\u001b[0m\u001b[37m\u001b[0m \u001b[1m11s\u001b[0m 35ms/step - accuracy: 0.7906 - loss: 0.4904 - val_accuracy: 0.8120 - val_loss: 0.4370\n",
      "Epoch 96/100\n",
      "\u001b[1m319/319\u001b[0m \u001b[32m━━━━━━━━━━━━━━━━━━━━\u001b[0m\u001b[37m\u001b[0m \u001b[1m11s\u001b[0m 35ms/step - accuracy: 0.8021 - loss: 0.4578 - val_accuracy: 0.7838 - val_loss: 0.4641\n",
      "Epoch 97/100\n",
      "\u001b[1m319/319\u001b[0m \u001b[32m━━━━━━━━━━━━━━━━━━━━\u001b[0m\u001b[37m\u001b[0m \u001b[1m11s\u001b[0m 35ms/step - accuracy: 0.8027 - loss: 0.4627 - val_accuracy: 0.8173 - val_loss: 0.4387\n",
      "Epoch 98/100\n",
      "\u001b[1m319/319\u001b[0m \u001b[32m━━━━━━━━━━━━━━━━━━━━\u001b[0m\u001b[37m\u001b[0m \u001b[1m12s\u001b[0m 39ms/step - accuracy: 0.7954 - loss: 0.4711 - val_accuracy: 0.8111 - val_loss: 0.4449\n",
      "Epoch 99/100\n",
      "\u001b[1m319/319\u001b[0m \u001b[32m━━━━━━━━━━━━━━━━━━━━\u001b[0m\u001b[37m\u001b[0m \u001b[1m12s\u001b[0m 37ms/step - accuracy: 0.8000 - loss: 0.4604 - val_accuracy: 0.6593 - val_loss: 0.7190\n",
      "Epoch 100/100\n",
      "\u001b[1m319/319\u001b[0m \u001b[32m━━━━━━━━━━━━━━━━━━━━\u001b[0m\u001b[37m\u001b[0m \u001b[1m12s\u001b[0m 38ms/step - accuracy: 0.7574 - loss: 0.5251 - val_accuracy: 0.8032 - val_loss: 0.4469\n"
     ]
    }
   ],
   "source": [
    "history = model.fit([pc_tr, fc_tr, ccf_tr, ncf_tr, coe_tr, pcbd_tr, pac_tr, cba_tr], lbl_tr, validation_data=([pc_tst, fc_tst, ccf_tst, ncf_tst, coe_tst, pcbd_tst, pac_tst, cba_tst], lbl_tst), epochs=100)"
   ]
  },
  {
   "cell_type": "code",
   "execution_count": 68,
   "metadata": {},
   "outputs": [
    {
     "data": {
      "image/png": "[encoded data removed]",
      "text/plain": [
       "<Figure size 1000x500 with 1 Axes>"
      ]
     },
     "metadata": {},
     "output_type": "display_data"
    }
   ],
   "source": [
    "plt.figure(figsize=(10, 5))\n",
    "plt.plot(history.history['loss'], label='Training Loss')\n",
    "plt.plot(history.history['val_loss'], label='Validation Loss')\n",
    "plt.title('Training Loss Over Epochs')\n",
    "plt.xlabel('Epochs')\n",
    "plt.ylabel('Loss')\n",
    "plt.legend()\n",
    "plt.grid()\n",
    "plt.show()\n"
   ]
  },
  {
   "cell_type": "code",
   "execution_count": 70,
   "metadata": {},
   "outputs": [],
   "source": [
    "#CIA attack files\n",
    "packet_count_attack = []\n",
    "flow_attack = []\n",
    "completely_colliding_flows_attack = []\n",
    "non_colliding_flows_attack = []\n",
    "cells_occuplied_epoch_end_attack = []\n",
    "purecell_count_before_decode_attack = []\n",
    "purecell_all_collision_attack = []\n",
    "collisions_by_allflows_attack = []\n",
    "\n",
    "for pct in [0.01, 0.03, 0.05, 0.1, 0.3, 0.5, 0.7]:\n",
    "    mal_flow_file_list = os.listdir(f'features/Type2/{str(pct).replace('.','_')}')\n",
    "    for f in mal_flow_file_list:\n",
    "        pc, ifs, ccf, ncf, coee, pcbd, pcac, cba = preprocess_file(f'features/Type2/{str(pct).replace('.','_')}/{f}')\n",
    "        completely_colliding_flows_attack.append(ccf)\n",
    "        non_colliding_flows_attack.append(ncf)\n",
    "        cells_occuplied_epoch_end_attack.append(coee)\n",
    "        purecell_count_before_decode_attack.append(pcbd)\n",
    "        purecell_all_collision_attack.append(pcac)\n",
    "        collisions_by_allflows_attack.append(cba)\n",
    "        packet_count_attack.append(pc)\n",
    "        flow_attack.append(ifs)\n"
   ]
  },
  {
   "cell_type": "code",
   "execution_count": 71,
   "metadata": {},
   "outputs": [
    {
     "data": {
      "text/plain": [
       "6014"
      ]
     },
     "execution_count": 71,
     "metadata": {},
     "output_type": "execute_result"
    }
   ],
   "source": [
    "len(collisions_by_allflows_attack)"
   ]
  },
  {
   "cell_type": "code",
   "execution_count": 72,
   "metadata": {},
   "outputs": [],
   "source": [
    "normal_labels = [0 for i in range(5310)]\n",
    "attack_labels = [1 for i in range(6014)]"
   ]
  },
  {
   "cell_type": "code",
   "execution_count": 73,
   "metadata": {},
   "outputs": [],
   "source": [
    "labels = np.array(normal_labels + attack_labels)"
   ]
  },
  {
   "cell_type": "code",
   "execution_count": 74,
   "metadata": {},
   "outputs": [],
   "source": [
    "completely_colliding_flows_normalized = normalize_dataset(completely_colliding_flows_normal+completely_colliding_flows_attack)\n",
    "non_colliding_flows_normalized = normalize_dataset(non_colliding_flows_normal+non_colliding_flows_attack)\n",
    "cells_occupied_epoch_end_normalized = normalize_dataset(cells_occuplied_epoch_end_normal+cells_occuplied_epoch_end_attack)\n",
    "purecell_count_before_decode_normalized = normalize_dataset(purecell_count_before_decode_normal+purecell_count_before_decode_attack)\n",
    "purecell_all_collision_normalized = normalize_dataset(purecell_all_collision_normal+purecell_all_collision_attack)\n",
    "collisions_by_allflows_normalized = normalize_dataset(collisions_by_allflows_normal+collisions_by_allflows_attack)\n",
    "flows_normalized = normalize_dataset(flow_normal+flow_attack)\n",
    "packet_count_normalized = normalize_dataset(packet_count_normal+packet_count_attack)"
   ]
  },
  {
   "cell_type": "code",
   "execution_count": 75,
   "metadata": {},
   "outputs": [
    {
     "data": {
      "text/plain": [
       "[(array([0.0001387 , 0.00028015, 0.0004092 , 0.0005374 , 0.00066545,\n",
       "         0.00079386, 0.00092232, 0.00104986, 0.00117554, 0.00130355,\n",
       "         0.00143008, 0.00155642, 0.00168447, 0.00181205, 0.00193874,\n",
       "         0.00206762, 0.00219441, 0.00232062, 0.00244859, 0.00256678,\n",
       "         0.00256678, 0.00256678, 0.00256678, 0.00256678, 0.00256678,\n",
       "         0.00256678, 0.00256678, 0.00256678]),\n",
       "  array([0.00024505, 0.00039527, 0.00055162, 0.00069804, 0.00083441,\n",
       "         0.00096243, 0.0011023 , 0.00121457, 0.00132948, 0.00144291,\n",
       "         0.00155962, 0.00168246, 0.00179579, 0.00190151, 0.00200162,\n",
       "         0.00209676, 0.00219254, 0.00228472, 0.00237205, 0.00245059,\n",
       "         0.00245059, 0.00245059, 0.00245059, 0.00245059, 0.00245059,\n",
       "         0.00245059, 0.00245059, 0.00245059]),\n",
       "  array([1.02924912e-06, 6.17549470e-06, 2.29865636e-05, 6.55288604e-05,\n",
       "         1.26254558e-04, 2.16485397e-04, 3.39995291e-04, 4.51154196e-04,\n",
       "         5.85985830e-04, 7.40373197e-04, 9.29755035e-04, 1.14349577e-03,\n",
       "         1.35963808e-03, 1.58264206e-03, 1.80976303e-03, 2.03173775e-03,\n",
       "         2.25474173e-03, 2.48838128e-03, 2.70761134e-03, 2.91208883e-03,\n",
       "         2.91208883e-03, 2.91208883e-03, 2.91208883e-03, 2.91208883e-03,\n",
       "         2.91208883e-03, 2.91208883e-03, 2.91208883e-03, 2.91208883e-03]),\n",
       "  array([0.00128411, 0.00158439, 0.00171308, 0.00178675, 0.00181846,\n",
       "         0.00182872, 0.00184177, 0.00184644, 0.0018483 , 0.00184923,\n",
       "         0.00185017, 0.0018511 , 0.00185203, 0.00185203, 0.00185203,\n",
       "         0.00185296, 0.00185296, 0.00185296, 0.00185296, 0.00185296,\n",
       "         0.00185296, 0.00185296, 0.00185296, 0.00185296, 0.00185296,\n",
       "         0.00185296, 0.00185296, 0.00185296]),\n",
       "  array([0.00055596, 0.00082819, 0.00106161, 0.00124306, 0.00138547,\n",
       "         0.00149505, 0.00159955, 0.00167406, 0.0017421 , 0.00180138,\n",
       "         0.00184806, 0.00189426, 0.00193155, 0.00196007, 0.00198248,\n",
       "         0.00200238, 0.00202179, 0.00203605, 0.00205003, 0.00206137,\n",
       "         0.00206137, 0.00206137, 0.00206137, 0.00206137, 0.00206137,\n",
       "         0.00206137, 0.00206137, 0.00206137]),\n",
       "  array([0.00150861, 0.0020404 , 0.00236126, 0.00249968, 0.00252684,\n",
       "         0.00247428, 0.00237703, 0.0022938 , 0.0022062 , 0.00210238,\n",
       "         0.00197425, 0.00183956, 0.00171187, 0.00158505, 0.00146043,\n",
       "         0.00135859, 0.00126309, 0.00117505, 0.00110408, 0.00104429,\n",
       "         0.00104429, 0.00104429, 0.00104429, 0.00104429, 0.00104429,\n",
       "         0.00104429, 0.00104429, 0.00104429]),\n",
       "  array([0.00027892, 0.00054122, 0.00074901, 0.00094093, 0.00112021,\n",
       "         0.00128094, 0.00141728, 0.00154625, 0.00166051, 0.00175614,\n",
       "         0.0018497 , 0.00192186, 0.00199104, 0.00204581, 0.00209473,\n",
       "         0.00213548, 0.00218142, 0.00222671, 0.0022603 , 0.00229526,\n",
       "         0.00229526, 0.00229526, 0.00229526, 0.00229526, 0.00229526,\n",
       "         0.00229526, 0.00229526, 0.00229526]),\n",
       "  array([0.00010267, 0.00023297, 0.00035301, 0.00047617, 0.00060269,\n",
       "         0.0007323 , 0.00086232, 0.00099371, 0.00112375, 0.00125701,\n",
       "         0.00138962, 0.00152213, 0.00165724, 0.0017926 , 0.00192737,\n",
       "         0.00206488, 0.00220011, 0.00233508, 0.00247199, 0.00259929,\n",
       "         0.00259929, 0.00259929, 0.00259929, 0.00259929, 0.00259929,\n",
       "         0.00259929, 0.00259929, 0.00259929]),\n",
       "  np.int64(0))]"
      ]
     },
     "execution_count": 75,
     "metadata": {},
     "output_type": "execute_result"
    }
   ],
   "source": [
    "dataset = list(zip(packet_count_normalized, flows_normalized, completely_colliding_flows_normalized, non_colliding_flows_normalized, cells_occupied_epoch_end_normalized, purecell_count_before_decode_normalized, purecell_all_collision_normalized, collisions_by_allflows_normalized, labels))\n",
    "np.random.shuffle(dataset)\n",
    "dataset[0:1]"
   ]
  },
  {
   "cell_type": "code",
   "execution_count": 76,
   "metadata": {},
   "outputs": [],
   "source": [
    "completely_colliding_flows_normalized = normalize_dataset(completely_colliding_flows_normal+completely_colliding_flows_attack)\n",
    "non_colliding_flows_normalized = normalize_dataset(non_colliding_flows_normal+non_colliding_flows_attack)\n",
    "cells_occupied_epoch_end_normalized = normalize_dataset(cells_occuplied_epoch_end_normal+cells_occuplied_epoch_end_attack)\n",
    "purecell_count_before_decode_normalized = normalize_dataset(purecell_count_before_decode_normal+purecell_count_before_decode_attack)\n",
    "purecell_all_collision_normalized = normalize_dataset(purecell_all_collision_normal+purecell_all_collision_attack)\n",
    "collisions_by_allflows_normalized = normalize_dataset(collisions_by_allflows_normal+collisions_by_allflows_attack)\n",
    "flows_normalized = normalize_dataset(flow_normal+flow_attack)\n",
    "packet_count_normalized = normalize_dataset(packet_count_normal+packet_count_attack)"
   ]
  },
  {
   "cell_type": "code",
   "execution_count": 77,
   "metadata": {},
   "outputs": [],
   "source": [
    "\n",
    "packet_count_normalized, flow_normalized, ccf_normalized, ncf_normalized, coe_normalized, pcbd_normalized, pac_normalized, cba_normalized, labels = tuple(map(list, zip(*dataset)))"
   ]
  },
  {
   "cell_type": "code",
   "execution_count": 78,
   "metadata": {},
   "outputs": [],
   "source": [
    "ccf_normalized = np.array(ccf_normalized).reshape(-1, 28, 1)\n",
    "ncf_normalized = np.array(ncf_normalized).reshape(-1, 28, 1)\n",
    "coe_normalized = np.array(coe_normalized).reshape(-1, 28, 1)\n",
    "pcbd_normalized = np.array(pcbd_normalized).reshape(-1, 28, 1)\n",
    "pac_normalized = np.array(pac_normalized).reshape(-1, 28, 1)\n",
    "cba_normalized = np.array(cba_normalized).reshape(-1, 28, 1)\n",
    "flow_normalized = np.array(flow_normalized).reshape(-1,28,1)\n",
    "packet_count_normalized = np.array(packet_count_normalized).reshape(-1, 28, 1)"
   ]
  },
  {
   "cell_type": "code",
   "execution_count": 79,
   "metadata": {},
   "outputs": [],
   "source": [
    "labels = [lbl.item() for lbl in labels]"
   ]
  },
  {
   "cell_type": "code",
   "execution_count": 80,
   "metadata": {},
   "outputs": [],
   "source": [
    "labels = np.array(labels)"
   ]
  },
  {
   "cell_type": "code",
   "execution_count": 88,
   "metadata": {},
   "outputs": [
    {
     "data": {
      "text/html": [
       "<pre style=\"white-space:pre;overflow-x:auto;line-height:normal;font-family:Menlo,'DejaVu Sans Mono',consolas,'Courier New',monospace\"><span style=\"font-weight: bold\">Model: \"functional_3\"</span>\n",
       "</pre>\n"
      ],
      "text/plain": [
       "\u001b[1mModel: \"functional_3\"\u001b[0m\n"
      ]
     },
     "metadata": {},
     "output_type": "display_data"
    },
    {
     "data": {
      "text/html": [
       "<pre style=\"white-space:pre;overflow-x:auto;line-height:normal;font-family:Menlo,'DejaVu Sans Mono',consolas,'Courier New',monospace\">┏━━━━━━━━━━━━━━━━━━━━━┳━━━━━━━━━━━━━━━━━━━┳━━━━━━━━━━━━┳━━━━━━━━━━━━━━━━━━━┓\n",
       "┃<span style=\"font-weight: bold\"> Layer (type)        </span>┃<span style=\"font-weight: bold\"> Output Shape      </span>┃<span style=\"font-weight: bold\">    Param # </span>┃<span style=\"font-weight: bold\"> Connected to      </span>┃\n",
       "┡━━━━━━━━━━━━━━━━━━━━━╇━━━━━━━━━━━━━━━━━━━╇━━━━━━━━━━━━╇━━━━━━━━━━━━━━━━━━━┩\n",
       "│ input_layer_24      │ (<span style=\"color: #00d7ff; text-decoration-color: #00d7ff\">None</span>, <span style=\"color: #00af00; text-decoration-color: #00af00\">28</span>, <span style=\"color: #00af00; text-decoration-color: #00af00\">1</span>)     │          <span style=\"color: #00af00; text-decoration-color: #00af00\">0</span> │ -                 │\n",
       "│ (<span style=\"color: #0087ff; text-decoration-color: #0087ff\">InputLayer</span>)        │                   │            │                   │\n",
       "├─────────────────────┼───────────────────┼────────────┼───────────────────┤\n",
       "│ input_layer_25      │ (<span style=\"color: #00d7ff; text-decoration-color: #00d7ff\">None</span>, <span style=\"color: #00af00; text-decoration-color: #00af00\">28</span>, <span style=\"color: #00af00; text-decoration-color: #00af00\">1</span>)     │          <span style=\"color: #00af00; text-decoration-color: #00af00\">0</span> │ -                 │\n",
       "│ (<span style=\"color: #0087ff; text-decoration-color: #0087ff\">InputLayer</span>)        │                   │            │                   │\n",
       "├─────────────────────┼───────────────────┼────────────┼───────────────────┤\n",
       "│ input_layer_26      │ (<span style=\"color: #00d7ff; text-decoration-color: #00d7ff\">None</span>, <span style=\"color: #00af00; text-decoration-color: #00af00\">28</span>, <span style=\"color: #00af00; text-decoration-color: #00af00\">1</span>)     │          <span style=\"color: #00af00; text-decoration-color: #00af00\">0</span> │ -                 │\n",
       "│ (<span style=\"color: #0087ff; text-decoration-color: #0087ff\">InputLayer</span>)        │                   │            │                   │\n",
       "├─────────────────────┼───────────────────┼────────────┼───────────────────┤\n",
       "│ input_layer_27      │ (<span style=\"color: #00d7ff; text-decoration-color: #00d7ff\">None</span>, <span style=\"color: #00af00; text-decoration-color: #00af00\">28</span>, <span style=\"color: #00af00; text-decoration-color: #00af00\">1</span>)     │          <span style=\"color: #00af00; text-decoration-color: #00af00\">0</span> │ -                 │\n",
       "│ (<span style=\"color: #0087ff; text-decoration-color: #0087ff\">InputLayer</span>)        │                   │            │                   │\n",
       "├─────────────────────┼───────────────────┼────────────┼───────────────────┤\n",
       "│ input_layer_28      │ (<span style=\"color: #00d7ff; text-decoration-color: #00d7ff\">None</span>, <span style=\"color: #00af00; text-decoration-color: #00af00\">28</span>, <span style=\"color: #00af00; text-decoration-color: #00af00\">1</span>)     │          <span style=\"color: #00af00; text-decoration-color: #00af00\">0</span> │ -                 │\n",
       "│ (<span style=\"color: #0087ff; text-decoration-color: #0087ff\">InputLayer</span>)        │                   │            │                   │\n",
       "├─────────────────────┼───────────────────┼────────────┼───────────────────┤\n",
       "│ input_layer_29      │ (<span style=\"color: #00d7ff; text-decoration-color: #00d7ff\">None</span>, <span style=\"color: #00af00; text-decoration-color: #00af00\">28</span>, <span style=\"color: #00af00; text-decoration-color: #00af00\">1</span>)     │          <span style=\"color: #00af00; text-decoration-color: #00af00\">0</span> │ -                 │\n",
       "│ (<span style=\"color: #0087ff; text-decoration-color: #0087ff\">InputLayer</span>)        │                   │            │                   │\n",
       "├─────────────────────┼───────────────────┼────────────┼───────────────────┤\n",
       "│ input_layer_30      │ (<span style=\"color: #00d7ff; text-decoration-color: #00d7ff\">None</span>, <span style=\"color: #00af00; text-decoration-color: #00af00\">28</span>, <span style=\"color: #00af00; text-decoration-color: #00af00\">1</span>)     │          <span style=\"color: #00af00; text-decoration-color: #00af00\">0</span> │ -                 │\n",
       "│ (<span style=\"color: #0087ff; text-decoration-color: #0087ff\">InputLayer</span>)        │                   │            │                   │\n",
       "├─────────────────────┼───────────────────┼────────────┼───────────────────┤\n",
       "│ input_layer_31      │ (<span style=\"color: #00d7ff; text-decoration-color: #00d7ff\">None</span>, <span style=\"color: #00af00; text-decoration-color: #00af00\">28</span>, <span style=\"color: #00af00; text-decoration-color: #00af00\">1</span>)     │          <span style=\"color: #00af00; text-decoration-color: #00af00\">0</span> │ -                 │\n",
       "│ (<span style=\"color: #0087ff; text-decoration-color: #0087ff\">InputLayer</span>)        │                   │            │                   │\n",
       "├─────────────────────┼───────────────────┼────────────┼───────────────────┤\n",
       "│ gru_24 (<span style=\"color: #0087ff; text-decoration-color: #0087ff\">GRU</span>)        │ (<span style=\"color: #00d7ff; text-decoration-color: #00d7ff\">None</span>, <span style=\"color: #00af00; text-decoration-color: #00af00\">28</span>)        │      <span style=\"color: #00af00; text-decoration-color: #00af00\">2,604</span> │ input_layer_24[<span style=\"color: #00af00; text-decoration-color: #00af00\">0</span>… │\n",
       "├─────────────────────┼───────────────────┼────────────┼───────────────────┤\n",
       "│ gru_25 (<span style=\"color: #0087ff; text-decoration-color: #0087ff\">GRU</span>)        │ (<span style=\"color: #00d7ff; text-decoration-color: #00d7ff\">None</span>, <span style=\"color: #00af00; text-decoration-color: #00af00\">28</span>)        │      <span style=\"color: #00af00; text-decoration-color: #00af00\">2,604</span> │ input_layer_25[<span style=\"color: #00af00; text-decoration-color: #00af00\">0</span>… │\n",
       "├─────────────────────┼───────────────────┼────────────┼───────────────────┤\n",
       "│ gru_26 (<span style=\"color: #0087ff; text-decoration-color: #0087ff\">GRU</span>)        │ (<span style=\"color: #00d7ff; text-decoration-color: #00d7ff\">None</span>, <span style=\"color: #00af00; text-decoration-color: #00af00\">28</span>)        │      <span style=\"color: #00af00; text-decoration-color: #00af00\">2,604</span> │ input_layer_26[<span style=\"color: #00af00; text-decoration-color: #00af00\">0</span>… │\n",
       "├─────────────────────┼───────────────────┼────────────┼───────────────────┤\n",
       "│ gru_27 (<span style=\"color: #0087ff; text-decoration-color: #0087ff\">GRU</span>)        │ (<span style=\"color: #00d7ff; text-decoration-color: #00d7ff\">None</span>, <span style=\"color: #00af00; text-decoration-color: #00af00\">28</span>)        │      <span style=\"color: #00af00; text-decoration-color: #00af00\">2,604</span> │ input_layer_27[<span style=\"color: #00af00; text-decoration-color: #00af00\">0</span>… │\n",
       "├─────────────────────┼───────────────────┼────────────┼───────────────────┤\n",
       "│ gru_28 (<span style=\"color: #0087ff; text-decoration-color: #0087ff\">GRU</span>)        │ (<span style=\"color: #00d7ff; text-decoration-color: #00d7ff\">None</span>, <span style=\"color: #00af00; text-decoration-color: #00af00\">28</span>)        │      <span style=\"color: #00af00; text-decoration-color: #00af00\">2,604</span> │ input_layer_28[<span style=\"color: #00af00; text-decoration-color: #00af00\">0</span>… │\n",
       "├─────────────────────┼───────────────────┼────────────┼───────────────────┤\n",
       "│ gru_29 (<span style=\"color: #0087ff; text-decoration-color: #0087ff\">GRU</span>)        │ (<span style=\"color: #00d7ff; text-decoration-color: #00d7ff\">None</span>, <span style=\"color: #00af00; text-decoration-color: #00af00\">28</span>)        │      <span style=\"color: #00af00; text-decoration-color: #00af00\">2,604</span> │ input_layer_29[<span style=\"color: #00af00; text-decoration-color: #00af00\">0</span>… │\n",
       "├─────────────────────┼───────────────────┼────────────┼───────────────────┤\n",
       "│ gru_30 (<span style=\"color: #0087ff; text-decoration-color: #0087ff\">GRU</span>)        │ (<span style=\"color: #00d7ff; text-decoration-color: #00d7ff\">None</span>, <span style=\"color: #00af00; text-decoration-color: #00af00\">28</span>)        │      <span style=\"color: #00af00; text-decoration-color: #00af00\">2,604</span> │ input_layer_30[<span style=\"color: #00af00; text-decoration-color: #00af00\">0</span>… │\n",
       "├─────────────────────┼───────────────────┼────────────┼───────────────────┤\n",
       "│ gru_31 (<span style=\"color: #0087ff; text-decoration-color: #0087ff\">GRU</span>)        │ (<span style=\"color: #00d7ff; text-decoration-color: #00d7ff\">None</span>, <span style=\"color: #00af00; text-decoration-color: #00af00\">28</span>)        │      <span style=\"color: #00af00; text-decoration-color: #00af00\">2,604</span> │ input_layer_31[<span style=\"color: #00af00; text-decoration-color: #00af00\">0</span>… │\n",
       "├─────────────────────┼───────────────────┼────────────┼───────────────────┤\n",
       "│ concatenate_3       │ (<span style=\"color: #00d7ff; text-decoration-color: #00d7ff\">None</span>, <span style=\"color: #00af00; text-decoration-color: #00af00\">224</span>)       │          <span style=\"color: #00af00; text-decoration-color: #00af00\">0</span> │ gru_24[<span style=\"color: #00af00; text-decoration-color: #00af00\">0</span>][<span style=\"color: #00af00; text-decoration-color: #00af00\">0</span>],     │\n",
       "│ (<span style=\"color: #0087ff; text-decoration-color: #0087ff\">Concatenate</span>)       │                   │            │ gru_25[<span style=\"color: #00af00; text-decoration-color: #00af00\">0</span>][<span style=\"color: #00af00; text-decoration-color: #00af00\">0</span>],     │\n",
       "│                     │                   │            │ gru_26[<span style=\"color: #00af00; text-decoration-color: #00af00\">0</span>][<span style=\"color: #00af00; text-decoration-color: #00af00\">0</span>],     │\n",
       "│                     │                   │            │ gru_27[<span style=\"color: #00af00; text-decoration-color: #00af00\">0</span>][<span style=\"color: #00af00; text-decoration-color: #00af00\">0</span>],     │\n",
       "│                     │                   │            │ gru_28[<span style=\"color: #00af00; text-decoration-color: #00af00\">0</span>][<span style=\"color: #00af00; text-decoration-color: #00af00\">0</span>],     │\n",
       "│                     │                   │            │ gru_29[<span style=\"color: #00af00; text-decoration-color: #00af00\">0</span>][<span style=\"color: #00af00; text-decoration-color: #00af00\">0</span>],     │\n",
       "│                     │                   │            │ gru_30[<span style=\"color: #00af00; text-decoration-color: #00af00\">0</span>][<span style=\"color: #00af00; text-decoration-color: #00af00\">0</span>],     │\n",
       "│                     │                   │            │ gru_31[<span style=\"color: #00af00; text-decoration-color: #00af00\">0</span>][<span style=\"color: #00af00; text-decoration-color: #00af00\">0</span>]      │\n",
       "├─────────────────────┼───────────────────┼────────────┼───────────────────┤\n",
       "│ dense_3 (<span style=\"color: #0087ff; text-decoration-color: #0087ff\">Dense</span>)     │ (<span style=\"color: #00d7ff; text-decoration-color: #00d7ff\">None</span>, <span style=\"color: #00af00; text-decoration-color: #00af00\">1</span>)         │        <span style=\"color: #00af00; text-decoration-color: #00af00\">225</span> │ concatenate_3[<span style=\"color: #00af00; text-decoration-color: #00af00\">0</span>]… │\n",
       "└─────────────────────┴───────────────────┴────────────┴───────────────────┘\n",
       "</pre>\n"
      ],
      "text/plain": [
       "┏━━━━━━━━━━━━━━━━━━━━━┳━━━━━━━━━━━━━━━━━━━┳━━━━━━━━━━━━┳━━━━━━━━━━━━━━━━━━━┓\n",
       "┃\u001b[1m \u001b[0m\u001b[1mLayer (type)       \u001b[0m\u001b[1m \u001b[0m┃\u001b[1m \u001b[0m\u001b[1mOutput Shape     \u001b[0m\u001b[1m \u001b[0m┃\u001b[1m \u001b[0m\u001b[1m   Param #\u001b[0m\u001b[1m \u001b[0m┃\u001b[1m \u001b[0m\u001b[1mConnected to     \u001b[0m\u001b[1m \u001b[0m┃\n",
       "┡━━━━━━━━━━━━━━━━━━━━━╇━━━━━━━━━━━━━━━━━━━╇━━━━━━━━━━━━╇━━━━━━━━━━━━━━━━━━━┩\n",
       "│ input_layer_24      │ (\u001b[38;5;45mNone\u001b[0m, \u001b[38;5;34m28\u001b[0m, \u001b[38;5;34m1\u001b[0m)     │          \u001b[38;5;34m0\u001b[0m │ -                 │\n",
       "│ (\u001b[38;5;33mInputLayer\u001b[0m)        │                   │            │                   │\n",
       "├─────────────────────┼───────────────────┼────────────┼───────────────────┤\n",
       "│ input_layer_25      │ (\u001b[38;5;45mNone\u001b[0m, \u001b[38;5;34m28\u001b[0m, \u001b[38;5;34m1\u001b[0m)     │          \u001b[38;5;34m0\u001b[0m │ -                 │\n",
       "│ (\u001b[38;5;33mInputLayer\u001b[0m)        │                   │            │                   │\n",
       "├─────────────────────┼───────────────────┼────────────┼───────────────────┤\n",
       "│ input_layer_26      │ (\u001b[38;5;45mNone\u001b[0m, \u001b[38;5;34m28\u001b[0m, \u001b[38;5;34m1\u001b[0m)     │          \u001b[38;5;34m0\u001b[0m │ -                 │\n",
       "│ (\u001b[38;5;33mInputLayer\u001b[0m)        │                   │            │                   │\n",
       "├─────────────────────┼───────────────────┼────────────┼───────────────────┤\n",
       "│ input_layer_27      │ (\u001b[38;5;45mNone\u001b[0m, \u001b[38;5;34m28\u001b[0m, \u001b[38;5;34m1\u001b[0m)     │          \u001b[38;5;34m0\u001b[0m │ -                 │\n",
       "│ (\u001b[38;5;33mInputLayer\u001b[0m)        │                   │            │                   │\n",
       "├─────────────────────┼───────────────────┼────────────┼───────────────────┤\n",
       "│ input_layer_28      │ (\u001b[38;5;45mNone\u001b[0m, \u001b[38;5;34m28\u001b[0m, \u001b[38;5;34m1\u001b[0m)     │          \u001b[38;5;34m0\u001b[0m │ -                 │\n",
       "│ (\u001b[38;5;33mInputLayer\u001b[0m)        │                   │            │                   │\n",
       "├─────────────────────┼───────────────────┼────────────┼───────────────────┤\n",
       "│ input_layer_29      │ (\u001b[38;5;45mNone\u001b[0m, \u001b[38;5;34m28\u001b[0m, \u001b[38;5;34m1\u001b[0m)     │          \u001b[38;5;34m0\u001b[0m │ -                 │\n",
       "│ (\u001b[38;5;33mInputLayer\u001b[0m)        │                   │            │                   │\n",
       "├─────────────────────┼───────────────────┼────────────┼───────────────────┤\n",
       "│ input_layer_30      │ (\u001b[38;5;45mNone\u001b[0m, \u001b[38;5;34m28\u001b[0m, \u001b[38;5;34m1\u001b[0m)     │          \u001b[38;5;34m0\u001b[0m │ -                 │\n",
       "│ (\u001b[38;5;33mInputLayer\u001b[0m)        │                   │            │                   │\n",
       "├─────────────────────┼───────────────────┼────────────┼───────────────────┤\n",
       "│ input_layer_31      │ (\u001b[38;5;45mNone\u001b[0m, \u001b[38;5;34m28\u001b[0m, \u001b[38;5;34m1\u001b[0m)     │          \u001b[38;5;34m0\u001b[0m │ -                 │\n",
       "│ (\u001b[38;5;33mInputLayer\u001b[0m)        │                   │            │                   │\n",
       "├─────────────────────┼───────────────────┼────────────┼───────────────────┤\n",
       "│ gru_24 (\u001b[38;5;33mGRU\u001b[0m)        │ (\u001b[38;5;45mNone\u001b[0m, \u001b[38;5;34m28\u001b[0m)        │      \u001b[38;5;34m2,604\u001b[0m │ input_layer_24[\u001b[38;5;34m0\u001b[0m… │\n",
       "├─────────────────────┼───────────────────┼────────────┼───────────────────┤\n",
       "│ gru_25 (\u001b[38;5;33mGRU\u001b[0m)        │ (\u001b[38;5;45mNone\u001b[0m, \u001b[38;5;34m28\u001b[0m)        │      \u001b[38;5;34m2,604\u001b[0m │ input_layer_25[\u001b[38;5;34m0\u001b[0m… │\n",
       "├─────────────────────┼───────────────────┼────────────┼───────────────────┤\n",
       "│ gru_26 (\u001b[38;5;33mGRU\u001b[0m)        │ (\u001b[38;5;45mNone\u001b[0m, \u001b[38;5;34m28\u001b[0m)        │      \u001b[38;5;34m2,604\u001b[0m │ input_layer_26[\u001b[38;5;34m0\u001b[0m… │\n",
       "├─────────────────────┼───────────────────┼────────────┼───────────────────┤\n",
       "│ gru_27 (\u001b[38;5;33mGRU\u001b[0m)        │ (\u001b[38;5;45mNone\u001b[0m, \u001b[38;5;34m28\u001b[0m)        │      \u001b[38;5;34m2,604\u001b[0m │ input_layer_27[\u001b[38;5;34m0\u001b[0m… │\n",
       "├─────────────────────┼───────────────────┼────────────┼───────────────────┤\n",
       "│ gru_28 (\u001b[38;5;33mGRU\u001b[0m)        │ (\u001b[38;5;45mNone\u001b[0m, \u001b[38;5;34m28\u001b[0m)        │      \u001b[38;5;34m2,604\u001b[0m │ input_layer_28[\u001b[38;5;34m0\u001b[0m… │\n",
       "├─────────────────────┼───────────────────┼────────────┼───────────────────┤\n",
       "│ gru_29 (\u001b[38;5;33mGRU\u001b[0m)        │ (\u001b[38;5;45mNone\u001b[0m, \u001b[38;5;34m28\u001b[0m)        │      \u001b[38;5;34m2,604\u001b[0m │ input_layer_29[\u001b[38;5;34m0\u001b[0m… │\n",
       "├─────────────────────┼───────────────────┼────────────┼───────────────────┤\n",
       "│ gru_30 (\u001b[38;5;33mGRU\u001b[0m)        │ (\u001b[38;5;45mNone\u001b[0m, \u001b[38;5;34m28\u001b[0m)        │      \u001b[38;5;34m2,604\u001b[0m │ input_layer_30[\u001b[38;5;34m0\u001b[0m… │\n",
       "├─────────────────────┼───────────────────┼────────────┼───────────────────┤\n",
       "│ gru_31 (\u001b[38;5;33mGRU\u001b[0m)        │ (\u001b[38;5;45mNone\u001b[0m, \u001b[38;5;34m28\u001b[0m)        │      \u001b[38;5;34m2,604\u001b[0m │ input_layer_31[\u001b[38;5;34m0\u001b[0m… │\n",
       "├─────────────────────┼───────────────────┼────────────┼───────────────────┤\n",
       "│ concatenate_3       │ (\u001b[38;5;45mNone\u001b[0m, \u001b[38;5;34m224\u001b[0m)       │          \u001b[38;5;34m0\u001b[0m │ gru_24[\u001b[38;5;34m0\u001b[0m][\u001b[38;5;34m0\u001b[0m],     │\n",
       "│ (\u001b[38;5;33mConcatenate\u001b[0m)       │                   │            │ gru_25[\u001b[38;5;34m0\u001b[0m][\u001b[38;5;34m0\u001b[0m],     │\n",
       "│                     │                   │            │ gru_26[\u001b[38;5;34m0\u001b[0m][\u001b[38;5;34m0\u001b[0m],     │\n",
       "│                     │                   │            │ gru_27[\u001b[38;5;34m0\u001b[0m][\u001b[38;5;34m0\u001b[0m],     │\n",
       "│                     │                   │            │ gru_28[\u001b[38;5;34m0\u001b[0m][\u001b[38;5;34m0\u001b[0m],     │\n",
       "│                     │                   │            │ gru_29[\u001b[38;5;34m0\u001b[0m][\u001b[38;5;34m0\u001b[0m],     │\n",
       "│                     │                   │            │ gru_30[\u001b[38;5;34m0\u001b[0m][\u001b[38;5;34m0\u001b[0m],     │\n",
       "│                     │                   │            │ gru_31[\u001b[38;5;34m0\u001b[0m][\u001b[38;5;34m0\u001b[0m]      │\n",
       "├─────────────────────┼───────────────────┼────────────┼───────────────────┤\n",
       "│ dense_3 (\u001b[38;5;33mDense\u001b[0m)     │ (\u001b[38;5;45mNone\u001b[0m, \u001b[38;5;34m1\u001b[0m)         │        \u001b[38;5;34m225\u001b[0m │ concatenate_3[\u001b[38;5;34m0\u001b[0m]… │\n",
       "└─────────────────────┴───────────────────┴────────────┴───────────────────┘\n"
      ]
     },
     "metadata": {},
     "output_type": "display_data"
    },
    {
     "data": {
      "text/html": [
       "<pre style=\"white-space:pre;overflow-x:auto;line-height:normal;font-family:Menlo,'DejaVu Sans Mono',consolas,'Courier New',monospace\"><span style=\"font-weight: bold\"> Total params: </span><span style=\"color: #00af00; text-decoration-color: #00af00\">21,057</span> (82.25 KB)\n",
       "</pre>\n"
      ],
      "text/plain": [
       "\u001b[1m Total params: \u001b[0m\u001b[38;5;34m21,057\u001b[0m (82.25 KB)\n"
      ]
     },
     "metadata": {},
     "output_type": "display_data"
    },
    {
     "data": {
      "text/html": [
       "<pre style=\"white-space:pre;overflow-x:auto;line-height:normal;font-family:Menlo,'DejaVu Sans Mono',consolas,'Courier New',monospace\"><span style=\"font-weight: bold\"> Trainable params: </span><span style=\"color: #00af00; text-decoration-color: #00af00\">21,057</span> (82.25 KB)\n",
       "</pre>\n"
      ],
      "text/plain": [
       "\u001b[1m Trainable params: \u001b[0m\u001b[38;5;34m21,057\u001b[0m (82.25 KB)\n"
      ]
     },
     "metadata": {},
     "output_type": "display_data"
    },
    {
     "data": {
      "text/html": [
       "<pre style=\"white-space:pre;overflow-x:auto;line-height:normal;font-family:Menlo,'DejaVu Sans Mono',consolas,'Courier New',monospace\"><span style=\"font-weight: bold\"> Non-trainable params: </span><span style=\"color: #00af00; text-decoration-color: #00af00\">0</span> (0.00 B)\n",
       "</pre>\n"
      ],
      "text/plain": [
       "\u001b[1m Non-trainable params: \u001b[0m\u001b[38;5;34m0\u001b[0m (0.00 B)\n"
      ]
     },
     "metadata": {},
     "output_type": "display_data"
    }
   ],
   "source": [
    "from tensorflow.keras.models import Model\n",
    "from tensorflow.keras.layers import Input, GRU, Dense, Concatenate\n",
    "\n",
    "\n",
    "input_f1 = Input(shape=(28,1))\n",
    "input_f2 = Input(shape=(28,1))\n",
    "input_f3 = Input(shape=(28,1))\n",
    "input_f4 = Input(shape=(28,1))\n",
    "input_f5 = Input(shape=(28,1))\n",
    "input_f6 = Input(shape=(28,1))\n",
    "input_f7 = Input(shape=(28,1))\n",
    "input_f8 = Input(shape=(28,1))\n",
    "\n",
    "lstm_f1 = GRU(28)(input_f1)\n",
    "lstm_f2 = GRU(28)(input_f2)\n",
    "lstm_f3 = GRU(28)(input_f3)\n",
    "lstm_f4 = GRU(28)(input_f4)\n",
    "lstm_f5 = GRU(28)(input_f5)\n",
    "lstm_f6 = GRU(28)(input_f6)\n",
    "lstm_f7 = GRU(28)(input_f7)\n",
    "lstm_f8 = GRU(28)(input_f8)\n",
    "\n",
    "\n",
    "merged = Concatenate()([lstm_f1, lstm_f2, lstm_f3, lstm_f4, lstm_f5, lstm_f6, lstm_f7, lstm_f8])\n",
    "\n",
    "output = Dense(1, activation='sigmoid')(merged)\n",
    "\n",
    "model = Model(inputs=[input_f1, input_f2, input_f3, input_f4, input_f5, input_f6, input_f7, input_f8], outputs=output)\n",
    "\n",
    "# Compile the model\n",
    "model.compile(optimizer='adam', loss='binary_crossentropy', metrics=['accuracy'])\n",
    "\n",
    "# Summary of the model\n",
    "model.summary()\n"
   ]
  },
  {
   "cell_type": "code",
   "execution_count": 89,
   "metadata": {},
   "outputs": [],
   "source": [
    "from sklearn.model_selection import train_test_split\n",
    "pc_tr, pc_tst, fc_tr, fc_tst, ccf_tr, ccf_tst, ncf_tr, ncf_tst, coe_tr, coe_tst, pcbd_tr, pcbd_tst, pac_tr, pac_tst, cba_tr, cba_tst, lbl_tr, lbl_tst = train_test_split(packet_count_normalized, flow_normalized, ccf_normalized, ncf_normalized, coe_normalized, pcbd_normalized, pac_normalized, cba_normalized, labels, test_size=0.1, random_state=42)"
   ]
  },
  {
   "cell_type": "code",
   "execution_count": 28,
   "metadata": {},
   "outputs": [
    {
     "ename": "ValueError",
     "evalue": "Found array with dim 3. RandomForestClassifier expected <= 2.",
     "output_type": "error",
     "traceback": [
      "\u001b[0;31m---------------------------------------------------------------------------\u001b[0m",
      "\u001b[0;31mValueError\u001b[0m                                Traceback (most recent call last)",
      "Cell \u001b[0;32mIn[28], line 7\u001b[0m\n\u001b[1;32m      5\u001b[0m X_test \u001b[38;5;241m=\u001b[39m np\u001b[38;5;241m.\u001b[39mcolumn_stack((pc_tst, fc_tst, ccf_tst, ncf_tst, coe_tst, pcbd_tst, pac_tst, cba_tst))\n\u001b[1;32m      6\u001b[0m rf \u001b[38;5;241m=\u001b[39m RandomForestClassifier(n_estimators\u001b[38;5;241m=\u001b[39m\u001b[38;5;241m100\u001b[39m, random_state\u001b[38;5;241m=\u001b[39m\u001b[38;5;241m42\u001b[39m)\n\u001b[0;32m----> 7\u001b[0m \u001b[43mrf\u001b[49m\u001b[38;5;241;43m.\u001b[39;49m\u001b[43mfit\u001b[49m\u001b[43m(\u001b[49m\u001b[43mX_train\u001b[49m\u001b[43m,\u001b[49m\u001b[43m \u001b[49m\u001b[43mlbl_tr\u001b[49m\u001b[43m)\u001b[49m\n\u001b[1;32m     10\u001b[0m \u001b[38;5;66;03m# Make predictions and evaluate\u001b[39;00m\n\u001b[1;32m     11\u001b[0m y_pred \u001b[38;5;241m=\u001b[39m rf\u001b[38;5;241m.\u001b[39mpredict(X_test)\n",
      "File \u001b[0;32m~/.local/lib/python3.12/site-packages/sklearn/base.py:1473\u001b[0m, in \u001b[0;36m_fit_context.<locals>.decorator.<locals>.wrapper\u001b[0;34m(estimator, *args, **kwargs)\u001b[0m\n\u001b[1;32m   1466\u001b[0m     estimator\u001b[38;5;241m.\u001b[39m_validate_params()\n\u001b[1;32m   1468\u001b[0m \u001b[38;5;28;01mwith\u001b[39;00m config_context(\n\u001b[1;32m   1469\u001b[0m     skip_parameter_validation\u001b[38;5;241m=\u001b[39m(\n\u001b[1;32m   1470\u001b[0m         prefer_skip_nested_validation \u001b[38;5;129;01mor\u001b[39;00m global_skip_validation\n\u001b[1;32m   1471\u001b[0m     )\n\u001b[1;32m   1472\u001b[0m ):\n\u001b[0;32m-> 1473\u001b[0m     \u001b[38;5;28;01mreturn\u001b[39;00m \u001b[43mfit_method\u001b[49m\u001b[43m(\u001b[49m\u001b[43mestimator\u001b[49m\u001b[43m,\u001b[49m\u001b[43m \u001b[49m\u001b[38;5;241;43m*\u001b[39;49m\u001b[43margs\u001b[49m\u001b[43m,\u001b[49m\u001b[43m \u001b[49m\u001b[38;5;241;43m*\u001b[39;49m\u001b[38;5;241;43m*\u001b[39;49m\u001b[43mkwargs\u001b[49m\u001b[43m)\u001b[49m\n",
      "File \u001b[0;32m~/.local/lib/python3.12/site-packages/sklearn/ensemble/_forest.py:363\u001b[0m, in \u001b[0;36mBaseForest.fit\u001b[0;34m(self, X, y, sample_weight)\u001b[0m\n\u001b[1;32m    360\u001b[0m \u001b[38;5;28;01mif\u001b[39;00m issparse(y):\n\u001b[1;32m    361\u001b[0m     \u001b[38;5;28;01mraise\u001b[39;00m \u001b[38;5;167;01mValueError\u001b[39;00m(\u001b[38;5;124m\"\u001b[39m\u001b[38;5;124msparse multilabel-indicator for y is not supported.\u001b[39m\u001b[38;5;124m\"\u001b[39m)\n\u001b[0;32m--> 363\u001b[0m X, y \u001b[38;5;241m=\u001b[39m \u001b[38;5;28;43mself\u001b[39;49m\u001b[38;5;241;43m.\u001b[39;49m\u001b[43m_validate_data\u001b[49m\u001b[43m(\u001b[49m\n\u001b[1;32m    364\u001b[0m \u001b[43m    \u001b[49m\u001b[43mX\u001b[49m\u001b[43m,\u001b[49m\n\u001b[1;32m    365\u001b[0m \u001b[43m    \u001b[49m\u001b[43my\u001b[49m\u001b[43m,\u001b[49m\n\u001b[1;32m    366\u001b[0m \u001b[43m    \u001b[49m\u001b[43mmulti_output\u001b[49m\u001b[38;5;241;43m=\u001b[39;49m\u001b[38;5;28;43;01mTrue\u001b[39;49;00m\u001b[43m,\u001b[49m\n\u001b[1;32m    367\u001b[0m \u001b[43m    \u001b[49m\u001b[43maccept_sparse\u001b[49m\u001b[38;5;241;43m=\u001b[39;49m\u001b[38;5;124;43m\"\u001b[39;49m\u001b[38;5;124;43mcsc\u001b[39;49m\u001b[38;5;124;43m\"\u001b[39;49m\u001b[43m,\u001b[49m\n\u001b[1;32m    368\u001b[0m \u001b[43m    \u001b[49m\u001b[43mdtype\u001b[49m\u001b[38;5;241;43m=\u001b[39;49m\u001b[43mDTYPE\u001b[49m\u001b[43m,\u001b[49m\n\u001b[1;32m    369\u001b[0m \u001b[43m    \u001b[49m\u001b[43mforce_all_finite\u001b[49m\u001b[38;5;241;43m=\u001b[39;49m\u001b[38;5;28;43;01mFalse\u001b[39;49;00m\u001b[43m,\u001b[49m\n\u001b[1;32m    370\u001b[0m \u001b[43m\u001b[49m\u001b[43m)\u001b[49m\n\u001b[1;32m    371\u001b[0m \u001b[38;5;66;03m# _compute_missing_values_in_feature_mask checks if X has missing values and\u001b[39;00m\n\u001b[1;32m    372\u001b[0m \u001b[38;5;66;03m# will raise an error if the underlying tree base estimator can't handle missing\u001b[39;00m\n\u001b[1;32m    373\u001b[0m \u001b[38;5;66;03m# values. Only the criterion is required to determine if the tree supports\u001b[39;00m\n\u001b[1;32m    374\u001b[0m \u001b[38;5;66;03m# missing values.\u001b[39;00m\n\u001b[1;32m    375\u001b[0m estimator \u001b[38;5;241m=\u001b[39m \u001b[38;5;28mtype\u001b[39m(\u001b[38;5;28mself\u001b[39m\u001b[38;5;241m.\u001b[39mestimator)(criterion\u001b[38;5;241m=\u001b[39m\u001b[38;5;28mself\u001b[39m\u001b[38;5;241m.\u001b[39mcriterion)\n",
      "File \u001b[0;32m~/.local/lib/python3.12/site-packages/sklearn/base.py:650\u001b[0m, in \u001b[0;36mBaseEstimator._validate_data\u001b[0;34m(self, X, y, reset, validate_separately, cast_to_ndarray, **check_params)\u001b[0m\n\u001b[1;32m    648\u001b[0m         y \u001b[38;5;241m=\u001b[39m check_array(y, input_name\u001b[38;5;241m=\u001b[39m\u001b[38;5;124m\"\u001b[39m\u001b[38;5;124my\u001b[39m\u001b[38;5;124m\"\u001b[39m, \u001b[38;5;241m*\u001b[39m\u001b[38;5;241m*\u001b[39mcheck_y_params)\n\u001b[1;32m    649\u001b[0m     \u001b[38;5;28;01melse\u001b[39;00m:\n\u001b[0;32m--> 650\u001b[0m         X, y \u001b[38;5;241m=\u001b[39m \u001b[43mcheck_X_y\u001b[49m\u001b[43m(\u001b[49m\u001b[43mX\u001b[49m\u001b[43m,\u001b[49m\u001b[43m \u001b[49m\u001b[43my\u001b[49m\u001b[43m,\u001b[49m\u001b[43m \u001b[49m\u001b[38;5;241;43m*\u001b[39;49m\u001b[38;5;241;43m*\u001b[39;49m\u001b[43mcheck_params\u001b[49m\u001b[43m)\u001b[49m\n\u001b[1;32m    651\u001b[0m     out \u001b[38;5;241m=\u001b[39m X, y\n\u001b[1;32m    653\u001b[0m \u001b[38;5;28;01mif\u001b[39;00m \u001b[38;5;129;01mnot\u001b[39;00m no_val_X \u001b[38;5;129;01mand\u001b[39;00m check_params\u001b[38;5;241m.\u001b[39mget(\u001b[38;5;124m\"\u001b[39m\u001b[38;5;124mensure_2d\u001b[39m\u001b[38;5;124m\"\u001b[39m, \u001b[38;5;28;01mTrue\u001b[39;00m):\n",
      "File \u001b[0;32m~/.local/lib/python3.12/site-packages/sklearn/utils/validation.py:1301\u001b[0m, in \u001b[0;36mcheck_X_y\u001b[0;34m(X, y, accept_sparse, accept_large_sparse, dtype, order, copy, force_writeable, force_all_finite, ensure_2d, allow_nd, multi_output, ensure_min_samples, ensure_min_features, y_numeric, estimator)\u001b[0m\n\u001b[1;32m   1296\u001b[0m         estimator_name \u001b[38;5;241m=\u001b[39m _check_estimator_name(estimator)\n\u001b[1;32m   1297\u001b[0m     \u001b[38;5;28;01mraise\u001b[39;00m \u001b[38;5;167;01mValueError\u001b[39;00m(\n\u001b[1;32m   1298\u001b[0m         \u001b[38;5;124mf\u001b[39m\u001b[38;5;124m\"\u001b[39m\u001b[38;5;132;01m{\u001b[39;00mestimator_name\u001b[38;5;132;01m}\u001b[39;00m\u001b[38;5;124m requires y to be passed, but the target y is None\u001b[39m\u001b[38;5;124m\"\u001b[39m\n\u001b[1;32m   1299\u001b[0m     )\n\u001b[0;32m-> 1301\u001b[0m X \u001b[38;5;241m=\u001b[39m \u001b[43mcheck_array\u001b[49m\u001b[43m(\u001b[49m\n\u001b[1;32m   1302\u001b[0m \u001b[43m    \u001b[49m\u001b[43mX\u001b[49m\u001b[43m,\u001b[49m\n\u001b[1;32m   1303\u001b[0m \u001b[43m    \u001b[49m\u001b[43maccept_sparse\u001b[49m\u001b[38;5;241;43m=\u001b[39;49m\u001b[43maccept_sparse\u001b[49m\u001b[43m,\u001b[49m\n\u001b[1;32m   1304\u001b[0m \u001b[43m    \u001b[49m\u001b[43maccept_large_sparse\u001b[49m\u001b[38;5;241;43m=\u001b[39;49m\u001b[43maccept_large_sparse\u001b[49m\u001b[43m,\u001b[49m\n\u001b[1;32m   1305\u001b[0m \u001b[43m    \u001b[49m\u001b[43mdtype\u001b[49m\u001b[38;5;241;43m=\u001b[39;49m\u001b[43mdtype\u001b[49m\u001b[43m,\u001b[49m\n\u001b[1;32m   1306\u001b[0m \u001b[43m    \u001b[49m\u001b[43morder\u001b[49m\u001b[38;5;241;43m=\u001b[39;49m\u001b[43morder\u001b[49m\u001b[43m,\u001b[49m\n\u001b[1;32m   1307\u001b[0m \u001b[43m    \u001b[49m\u001b[43mcopy\u001b[49m\u001b[38;5;241;43m=\u001b[39;49m\u001b[43mcopy\u001b[49m\u001b[43m,\u001b[49m\n\u001b[1;32m   1308\u001b[0m \u001b[43m    \u001b[49m\u001b[43mforce_writeable\u001b[49m\u001b[38;5;241;43m=\u001b[39;49m\u001b[43mforce_writeable\u001b[49m\u001b[43m,\u001b[49m\n\u001b[1;32m   1309\u001b[0m \u001b[43m    \u001b[49m\u001b[43mforce_all_finite\u001b[49m\u001b[38;5;241;43m=\u001b[39;49m\u001b[43mforce_all_finite\u001b[49m\u001b[43m,\u001b[49m\n\u001b[1;32m   1310\u001b[0m \u001b[43m    \u001b[49m\u001b[43mensure_2d\u001b[49m\u001b[38;5;241;43m=\u001b[39;49m\u001b[43mensure_2d\u001b[49m\u001b[43m,\u001b[49m\n\u001b[1;32m   1311\u001b[0m \u001b[43m    \u001b[49m\u001b[43mallow_nd\u001b[49m\u001b[38;5;241;43m=\u001b[39;49m\u001b[43mallow_nd\u001b[49m\u001b[43m,\u001b[49m\n\u001b[1;32m   1312\u001b[0m \u001b[43m    \u001b[49m\u001b[43mensure_min_samples\u001b[49m\u001b[38;5;241;43m=\u001b[39;49m\u001b[43mensure_min_samples\u001b[49m\u001b[43m,\u001b[49m\n\u001b[1;32m   1313\u001b[0m \u001b[43m    \u001b[49m\u001b[43mensure_min_features\u001b[49m\u001b[38;5;241;43m=\u001b[39;49m\u001b[43mensure_min_features\u001b[49m\u001b[43m,\u001b[49m\n\u001b[1;32m   1314\u001b[0m \u001b[43m    \u001b[49m\u001b[43mestimator\u001b[49m\u001b[38;5;241;43m=\u001b[39;49m\u001b[43mestimator\u001b[49m\u001b[43m,\u001b[49m\n\u001b[1;32m   1315\u001b[0m \u001b[43m    \u001b[49m\u001b[43minput_name\u001b[49m\u001b[38;5;241;43m=\u001b[39;49m\u001b[38;5;124;43m\"\u001b[39;49m\u001b[38;5;124;43mX\u001b[39;49m\u001b[38;5;124;43m\"\u001b[39;49m\u001b[43m,\u001b[49m\n\u001b[1;32m   1316\u001b[0m \u001b[43m\u001b[49m\u001b[43m)\u001b[49m\n\u001b[1;32m   1318\u001b[0m y \u001b[38;5;241m=\u001b[39m _check_y(y, multi_output\u001b[38;5;241m=\u001b[39mmulti_output, y_numeric\u001b[38;5;241m=\u001b[39my_numeric, estimator\u001b[38;5;241m=\u001b[39mestimator)\n\u001b[1;32m   1320\u001b[0m check_consistent_length(X, y)\n",
      "File \u001b[0;32m~/.local/lib/python3.12/site-packages/sklearn/utils/validation.py:1058\u001b[0m, in \u001b[0;36mcheck_array\u001b[0;34m(array, accept_sparse, accept_large_sparse, dtype, order, copy, force_writeable, force_all_finite, ensure_2d, allow_nd, ensure_min_samples, ensure_min_features, estimator, input_name)\u001b[0m\n\u001b[1;32m   1053\u001b[0m     \u001b[38;5;28;01mraise\u001b[39;00m \u001b[38;5;167;01mValueError\u001b[39;00m(\n\u001b[1;32m   1054\u001b[0m         \u001b[38;5;124m\"\u001b[39m\u001b[38;5;124mdtype=\u001b[39m\u001b[38;5;124m'\u001b[39m\u001b[38;5;124mnumeric\u001b[39m\u001b[38;5;124m'\u001b[39m\u001b[38;5;124m is not compatible with arrays of bytes/strings.\u001b[39m\u001b[38;5;124m\"\u001b[39m\n\u001b[1;32m   1055\u001b[0m         \u001b[38;5;124m\"\u001b[39m\u001b[38;5;124mConvert your data to numeric values explicitly instead.\u001b[39m\u001b[38;5;124m\"\u001b[39m\n\u001b[1;32m   1056\u001b[0m     )\n\u001b[1;32m   1057\u001b[0m \u001b[38;5;28;01mif\u001b[39;00m \u001b[38;5;129;01mnot\u001b[39;00m allow_nd \u001b[38;5;129;01mand\u001b[39;00m array\u001b[38;5;241m.\u001b[39mndim \u001b[38;5;241m>\u001b[39m\u001b[38;5;241m=\u001b[39m \u001b[38;5;241m3\u001b[39m:\n\u001b[0;32m-> 1058\u001b[0m     \u001b[38;5;28;01mraise\u001b[39;00m \u001b[38;5;167;01mValueError\u001b[39;00m(\n\u001b[1;32m   1059\u001b[0m         \u001b[38;5;124m\"\u001b[39m\u001b[38;5;124mFound array with dim \u001b[39m\u001b[38;5;132;01m%d\u001b[39;00m\u001b[38;5;124m. \u001b[39m\u001b[38;5;132;01m%s\u001b[39;00m\u001b[38;5;124m expected <= 2.\u001b[39m\u001b[38;5;124m\"\u001b[39m\n\u001b[1;32m   1060\u001b[0m         \u001b[38;5;241m%\u001b[39m (array\u001b[38;5;241m.\u001b[39mndim, estimator_name)\n\u001b[1;32m   1061\u001b[0m     )\n\u001b[1;32m   1063\u001b[0m \u001b[38;5;28;01mif\u001b[39;00m force_all_finite:\n\u001b[1;32m   1064\u001b[0m     _assert_all_finite(\n\u001b[1;32m   1065\u001b[0m         array,\n\u001b[1;32m   1066\u001b[0m         input_name\u001b[38;5;241m=\u001b[39minput_name,\n\u001b[1;32m   1067\u001b[0m         estimator_name\u001b[38;5;241m=\u001b[39mestimator_name,\n\u001b[1;32m   1068\u001b[0m         allow_nan\u001b[38;5;241m=\u001b[39mforce_all_finite \u001b[38;5;241m==\u001b[39m \u001b[38;5;124m\"\u001b[39m\u001b[38;5;124mallow-nan\u001b[39m\u001b[38;5;124m\"\u001b[39m,\n\u001b[1;32m   1069\u001b[0m     )\n",
      "\u001b[0;31mValueError\u001b[0m: Found array with dim 3. RandomForestClassifier expected <= 2."
     ]
    }
   ],
   "source": [
    "from sklearn.ensemble import RandomForestClassifier\n",
    "from sklearn.metrics import accuracy_score, classification_report\n",
    "\n",
    "X_train = np.column_stack((pc_tr, fc_tr, ccf_tr, ncf_tr, coe_tr, pcbd_tr, pac_tr, cba_tr))\n",
    "X_test = np.column_stack((pc_tst, fc_tst, ccf_tst, ncf_tst, coe_tst, pcbd_tst, pac_tst, cba_tst))\n",
    "rf = RandomForestClassifier(n_estimators=100, random_state=42)\n",
    "rf.fit(X_train, lbl_tr)\n",
    "\n",
    "\n",
    "# Make predictions and evaluate\n",
    "y_pred = rf.predict(X_test)\n",
    "print(\"Accuracy:\", accuracy_score(lbl_tst, y_pred))\n",
    "print(\"Classification Report:\\n\", classification_report(lbl_tst, y_pred))"
   ]
  },
  {
   "cell_type": "code",
   "execution_count": 90,
   "metadata": {},
   "outputs": [
    {
     "name": "stdout",
     "output_type": "stream",
     "text": [
      "Epoch 1/100\n"
     ]
    },
    {
     "name": "stderr",
     "output_type": "stream",
     "text": [
      "/home/rajesh/.local/lib/python3.12/site-packages/keras/src/models/functional.py:225: UserWarning: The structure of `inputs` doesn't match the expected structure: ['keras_tensor_54', 'keras_tensor_55', 'keras_tensor_56', 'keras_tensor_57', 'keras_tensor_58', 'keras_tensor_59', 'keras_tensor_60', 'keras_tensor_61']. Received: the structure of inputs=('*', '*', '*', '*', '*', '*', '*', '*')\n",
      "  warnings.warn(\n"
     ]
    },
    {
     "name": "stdout",
     "output_type": "stream",
     "text": [
      "\u001b[1m319/319\u001b[0m \u001b[32m━━━━━━━━━━━━━━━━━━━━\u001b[0m\u001b[37m\u001b[0m \u001b[1m19s\u001b[0m 35ms/step - accuracy: 0.5264 - loss: 0.6921 - val_accuracy: 0.5490 - val_loss: 0.6898\n",
      "Epoch 2/100\n",
      "\u001b[1m319/319\u001b[0m \u001b[32m━━━━━━━━━━━━━━━━━━━━\u001b[0m\u001b[37m\u001b[0m \u001b[1m10s\u001b[0m 32ms/step - accuracy: 0.5244 - loss: 0.6922 - val_accuracy: 0.5490 - val_loss: 0.6885\n",
      "Epoch 3/100\n",
      "\u001b[1m319/319\u001b[0m \u001b[32m━━━━━━━━━━━━━━━━━━━━\u001b[0m\u001b[37m\u001b[0m \u001b[1m10s\u001b[0m 32ms/step - accuracy: 0.5218 - loss: 0.6927 - val_accuracy: 0.5490 - val_loss: 0.6886\n",
      "Epoch 4/100\n",
      "\u001b[1m319/319\u001b[0m \u001b[32m━━━━━━━━━━━━━━━━━━━━\u001b[0m\u001b[37m\u001b[0m \u001b[1m10s\u001b[0m 33ms/step - accuracy: 0.5276 - loss: 0.6914 - val_accuracy: 0.5490 - val_loss: 0.6877\n",
      "Epoch 5/100\n",
      "\u001b[1m319/319\u001b[0m \u001b[32m━━━━━━━━━━━━━━━━━━━━\u001b[0m\u001b[37m\u001b[0m \u001b[1m10s\u001b[0m 32ms/step - accuracy: 0.5379 - loss: 0.6896 - val_accuracy: 0.5490 - val_loss: 0.6850\n",
      "Epoch 6/100\n",
      "\u001b[1m319/319\u001b[0m \u001b[32m━━━━━━━━━━━━━━━━━━━━\u001b[0m\u001b[37m\u001b[0m \u001b[1m10s\u001b[0m 33ms/step - accuracy: 0.5715 - loss: 0.6771 - val_accuracy: 0.6117 - val_loss: 0.5584\n",
      "Epoch 7/100\n",
      "\u001b[1m319/319\u001b[0m \u001b[32m━━━━━━━━━━━━━━━━━━━━\u001b[0m\u001b[37m\u001b[0m \u001b[1m10s\u001b[0m 33ms/step - accuracy: 0.7531 - loss: 0.5606 - val_accuracy: 0.7520 - val_loss: 0.3995\n",
      "Epoch 8/100\n",
      "\u001b[1m319/319\u001b[0m \u001b[32m━━━━━━━━━━━━━━━━━━━━\u001b[0m\u001b[37m\u001b[0m \u001b[1m11s\u001b[0m 34ms/step - accuracy: 0.8921 - loss: 0.3115 - val_accuracy: 0.8861 - val_loss: 0.2412\n",
      "Epoch 9/100\n",
      "\u001b[1m319/319\u001b[0m \u001b[32m━━━━━━━━━━━━━━━━━━━━\u001b[0m\u001b[37m\u001b[0m \u001b[1m10s\u001b[0m 33ms/step - accuracy: 0.9208 - loss: 0.2219 - val_accuracy: 0.9709 - val_loss: 0.1608\n",
      "Epoch 10/100\n",
      "\u001b[1m319/319\u001b[0m \u001b[32m━━━━━━━━━━━━━━━━━━━━\u001b[0m\u001b[37m\u001b[0m \u001b[1m11s\u001b[0m 33ms/step - accuracy: 0.9268 - loss: 0.2095 - val_accuracy: 0.9409 - val_loss: 0.1531\n",
      "Epoch 11/100\n",
      "\u001b[1m319/319\u001b[0m \u001b[32m━━━━━━━━━━━━━━━━━━━━\u001b[0m\u001b[37m\u001b[0m \u001b[1m11s\u001b[0m 33ms/step - accuracy: 0.9361 - loss: 0.1766 - val_accuracy: 0.9426 - val_loss: 0.1675\n",
      "Epoch 12/100\n",
      "\u001b[1m319/319\u001b[0m \u001b[32m━━━━━━━━━━━━━━━━━━━━\u001b[0m\u001b[37m\u001b[0m \u001b[1m11s\u001b[0m 33ms/step - accuracy: 0.9517 - loss: 0.1508 - val_accuracy: 0.9709 - val_loss: 0.1065\n",
      "Epoch 13/100\n",
      "\u001b[1m319/319\u001b[0m \u001b[32m━━━━━━━━━━━━━━━━━━━━\u001b[0m\u001b[37m\u001b[0m \u001b[1m11s\u001b[0m 33ms/step - accuracy: 0.9570 - loss: 0.1267 - val_accuracy: 0.9347 - val_loss: 0.1742\n",
      "Epoch 14/100\n",
      "\u001b[1m319/319\u001b[0m \u001b[32m━━━━━━━━━━━━━━━━━━━━\u001b[0m\u001b[37m\u001b[0m \u001b[1m11s\u001b[0m 33ms/step - accuracy: 0.9598 - loss: 0.1217 - val_accuracy: 0.9735 - val_loss: 0.0956\n",
      "Epoch 15/100\n",
      "\u001b[1m319/319\u001b[0m \u001b[32m━━━━━━━━━━━━━━━━━━━━\u001b[0m\u001b[37m\u001b[0m \u001b[1m11s\u001b[0m 33ms/step - accuracy: 0.9561 - loss: 0.1220 - val_accuracy: 0.9744 - val_loss: 0.0958\n",
      "Epoch 16/100\n",
      "\u001b[1m319/319\u001b[0m \u001b[32m━━━━━━━━━━━━━━━━━━━━\u001b[0m\u001b[37m\u001b[0m \u001b[1m11s\u001b[0m 33ms/step - accuracy: 0.9610 - loss: 0.1223 - val_accuracy: 0.9753 - val_loss: 0.0890\n",
      "Epoch 17/100\n",
      "\u001b[1m319/319\u001b[0m \u001b[32m━━━━━━━━━━━━━━━━━━━━\u001b[0m\u001b[37m\u001b[0m \u001b[1m11s\u001b[0m 33ms/step - accuracy: 0.9653 - loss: 0.1069 - val_accuracy: 0.9144 - val_loss: 0.1950\n",
      "Epoch 18/100\n",
      "\u001b[1m319/319\u001b[0m \u001b[32m━━━━━━━━━━━━━━━━━━━━\u001b[0m\u001b[37m\u001b[0m \u001b[1m11s\u001b[0m 33ms/step - accuracy: 0.9659 - loss: 0.1073 - val_accuracy: 0.9144 - val_loss: 0.1945\n",
      "Epoch 19/100\n",
      "\u001b[1m319/319\u001b[0m \u001b[32m━━━━━━━━━━━━━━━━━━━━\u001b[0m\u001b[37m\u001b[0m \u001b[1m11s\u001b[0m 33ms/step - accuracy: 0.9662 - loss: 0.1062 - val_accuracy: 0.9612 - val_loss: 0.1048\n",
      "Epoch 20/100\n",
      "\u001b[1m319/319\u001b[0m \u001b[32m━━━━━━━━━━━━━━━━━━━━\u001b[0m\u001b[37m\u001b[0m \u001b[1m11s\u001b[0m 33ms/step - accuracy: 0.9656 - loss: 0.1051 - val_accuracy: 0.9753 - val_loss: 0.0903\n",
      "Epoch 21/100\n",
      "\u001b[1m319/319\u001b[0m \u001b[32m━━━━━━━━━━━━━━━━━━━━\u001b[0m\u001b[37m\u001b[0m \u001b[1m11s\u001b[0m 34ms/step - accuracy: 0.9649 - loss: 0.1080 - val_accuracy: 0.9559 - val_loss: 0.1266\n",
      "Epoch 22/100\n",
      "\u001b[1m319/319\u001b[0m \u001b[32m━━━━━━━━━━━━━━━━━━━━\u001b[0m\u001b[37m\u001b[0m \u001b[1m11s\u001b[0m 33ms/step - accuracy: 0.9603 - loss: 0.1129 - val_accuracy: 0.9806 - val_loss: 0.0810\n",
      "Epoch 23/100\n",
      "\u001b[1m319/319\u001b[0m \u001b[32m━━━━━━━━━━━━━━━━━━━━\u001b[0m\u001b[37m\u001b[0m \u001b[1m11s\u001b[0m 33ms/step - accuracy: 0.9588 - loss: 0.1278 - val_accuracy: 0.9753 - val_loss: 0.0842\n",
      "Epoch 24/100\n",
      "\u001b[1m319/319\u001b[0m \u001b[32m━━━━━━━━━━━━━━━━━━━━\u001b[0m\u001b[37m\u001b[0m \u001b[1m11s\u001b[0m 34ms/step - accuracy: 0.9747 - loss: 0.0883 - val_accuracy: 0.9762 - val_loss: 0.0832\n",
      "Epoch 25/100\n",
      "\u001b[1m319/319\u001b[0m \u001b[32m━━━━━━━━━━━━━━━━━━━━\u001b[0m\u001b[37m\u001b[0m \u001b[1m11s\u001b[0m 33ms/step - accuracy: 0.9530 - loss: 0.1330 - val_accuracy: 0.9771 - val_loss: 0.0816\n",
      "Epoch 26/100\n",
      "\u001b[1m319/319\u001b[0m \u001b[32m━━━━━━━━━━━━━━━━━━━━\u001b[0m\u001b[37m\u001b[0m \u001b[1m11s\u001b[0m 33ms/step - accuracy: 0.9718 - loss: 0.0929 - val_accuracy: 0.9815 - val_loss: 0.0753\n",
      "Epoch 27/100\n",
      "\u001b[1m319/319\u001b[0m \u001b[32m━━━━━━━━━━━━━━━━━━━━\u001b[0m\u001b[37m\u001b[0m \u001b[1m11s\u001b[0m 34ms/step - accuracy: 0.9742 - loss: 0.0819 - val_accuracy: 0.9876 - val_loss: 0.0704\n",
      "Epoch 28/100\n",
      "\u001b[1m319/319\u001b[0m \u001b[32m━━━━━━━━━━━━━━━━━━━━\u001b[0m\u001b[37m\u001b[0m \u001b[1m11s\u001b[0m 34ms/step - accuracy: 0.9788 - loss: 0.0756 - val_accuracy: 0.9823 - val_loss: 0.0730\n",
      "Epoch 29/100\n",
      "\u001b[1m319/319\u001b[0m \u001b[32m━━━━━━━━━━━━━━━━━━━━\u001b[0m\u001b[37m\u001b[0m \u001b[1m11s\u001b[0m 34ms/step - accuracy: 0.9696 - loss: 0.0983 - val_accuracy: 0.9832 - val_loss: 0.0678\n",
      "Epoch 30/100\n",
      "\u001b[1m319/319\u001b[0m \u001b[32m━━━━━━━━━━━━━━━━━━━━\u001b[0m\u001b[37m\u001b[0m \u001b[1m11s\u001b[0m 33ms/step - accuracy: 0.9797 - loss: 0.0713 - val_accuracy: 0.9815 - val_loss: 0.0663\n",
      "Epoch 31/100\n",
      "\u001b[1m319/319\u001b[0m \u001b[32m━━━━━━━━━━━━━━━━━━━━\u001b[0m\u001b[37m\u001b[0m \u001b[1m11s\u001b[0m 34ms/step - accuracy: 0.9557 - loss: 0.1521 - val_accuracy: 0.9691 - val_loss: 0.1002\n",
      "Epoch 32/100\n",
      "\u001b[1m319/319\u001b[0m \u001b[32m━━━━━━━━━━━━━━━━━━━━\u001b[0m\u001b[37m\u001b[0m \u001b[1m11s\u001b[0m 34ms/step - accuracy: 0.9650 - loss: 0.1006 - val_accuracy: 0.9753 - val_loss: 0.0818\n",
      "Epoch 33/100\n",
      "\u001b[1m319/319\u001b[0m \u001b[32m━━━━━━━━━━━━━━━━━━━━\u001b[0m\u001b[37m\u001b[0m \u001b[1m11s\u001b[0m 33ms/step - accuracy: 0.9719 - loss: 0.0816 - val_accuracy: 0.9841 - val_loss: 0.0662\n",
      "Epoch 34/100\n",
      "\u001b[1m319/319\u001b[0m \u001b[32m━━━━━━━━━━━━━━━━━━━━\u001b[0m\u001b[37m\u001b[0m \u001b[1m11s\u001b[0m 33ms/step - accuracy: 0.9799 - loss: 0.0716 - val_accuracy: 0.9832 - val_loss: 0.0658\n",
      "Epoch 35/100\n",
      "\u001b[1m319/319\u001b[0m \u001b[32m━━━━━━━━━━━━━━━━━━━━\u001b[0m\u001b[37m\u001b[0m \u001b[1m11s\u001b[0m 33ms/step - accuracy: 0.9656 - loss: 0.1036 - val_accuracy: 0.9797 - val_loss: 0.0720\n",
      "Epoch 36/100\n",
      "\u001b[1m319/319\u001b[0m \u001b[32m━━━━━━━━━━━━━━━━━━━━\u001b[0m\u001b[37m\u001b[0m \u001b[1m11s\u001b[0m 33ms/step - accuracy: 0.9816 - loss: 0.0644 - val_accuracy: 0.9859 - val_loss: 0.0635\n",
      "Epoch 37/100\n",
      "\u001b[1m319/319\u001b[0m \u001b[32m━━━━━━━━━━━━━━━━━━━━\u001b[0m\u001b[37m\u001b[0m \u001b[1m11s\u001b[0m 33ms/step - accuracy: 0.9805 - loss: 0.0665 - val_accuracy: 0.9771 - val_loss: 0.0694\n",
      "Epoch 38/100\n",
      "\u001b[1m319/319\u001b[0m \u001b[32m━━━━━━━━━━━━━━━━━━━━\u001b[0m\u001b[37m\u001b[0m \u001b[1m11s\u001b[0m 33ms/step - accuracy: 0.9757 - loss: 0.0796 - val_accuracy: 0.9850 - val_loss: 0.0629\n",
      "Epoch 39/100\n",
      "\u001b[1m319/319\u001b[0m \u001b[32m━━━━━━━━━━━━━━━━━━━━\u001b[0m\u001b[37m\u001b[0m \u001b[1m11s\u001b[0m 33ms/step - accuracy: 0.9792 - loss: 0.0742 - val_accuracy: 0.9073 - val_loss: 0.2787\n",
      "Epoch 40/100\n",
      "\u001b[1m319/319\u001b[0m \u001b[32m━━━━━━━━━━━━━━━━━━━━\u001b[0m\u001b[37m\u001b[0m \u001b[1m11s\u001b[0m 33ms/step - accuracy: 0.9416 - loss: 0.1936 - val_accuracy: 0.9823 - val_loss: 0.0675\n",
      "Epoch 41/100\n",
      "\u001b[1m319/319\u001b[0m \u001b[32m━━━━━━━━━━━━━━━━━━━━\u001b[0m\u001b[37m\u001b[0m \u001b[1m11s\u001b[0m 33ms/step - accuracy: 0.9751 - loss: 0.0828 - val_accuracy: 0.9232 - val_loss: 0.2151\n",
      "Epoch 42/100\n",
      "\u001b[1m319/319\u001b[0m \u001b[32m━━━━━━━━━━━━━━━━━━━━\u001b[0m\u001b[37m\u001b[0m \u001b[1m11s\u001b[0m 33ms/step - accuracy: 0.9498 - loss: 0.1358 - val_accuracy: 0.9832 - val_loss: 0.0670\n",
      "Epoch 43/100\n",
      "\u001b[1m319/319\u001b[0m \u001b[32m━━━━━━━━━━━━━━━━━━━━\u001b[0m\u001b[37m\u001b[0m \u001b[1m11s\u001b[0m 34ms/step - accuracy: 0.9757 - loss: 0.0848 - val_accuracy: 0.9859 - val_loss: 0.0580\n",
      "Epoch 44/100\n",
      "\u001b[1m319/319\u001b[0m \u001b[32m━━━━━━━━━━━━━━━━━━━━\u001b[0m\u001b[37m\u001b[0m \u001b[1m11s\u001b[0m 33ms/step - accuracy: 0.9777 - loss: 0.0732 - val_accuracy: 0.9850 - val_loss: 0.0594\n",
      "Epoch 45/100\n",
      "\u001b[1m319/319\u001b[0m \u001b[32m━━━━━━━━━━━━━━━━━━━━\u001b[0m\u001b[37m\u001b[0m \u001b[1m11s\u001b[0m 33ms/step - accuracy: 0.9815 - loss: 0.0643 - val_accuracy: 0.9903 - val_loss: 0.0530\n",
      "Epoch 46/100\n",
      "\u001b[1m319/319\u001b[0m \u001b[32m━━━━━━━━━━━━━━━━━━━━\u001b[0m\u001b[37m\u001b[0m \u001b[1m11s\u001b[0m 34ms/step - accuracy: 0.9806 - loss: 0.0666 - val_accuracy: 0.9797 - val_loss: 0.0677\n",
      "Epoch 47/100\n",
      "\u001b[1m319/319\u001b[0m \u001b[32m━━━━━━━━━━━━━━━━━━━━\u001b[0m\u001b[37m\u001b[0m \u001b[1m11s\u001b[0m 33ms/step - accuracy: 0.9618 - loss: 0.1248 - val_accuracy: 0.9885 - val_loss: 0.0559\n",
      "Epoch 48/100\n",
      "\u001b[1m319/319\u001b[0m \u001b[32m━━━━━━━━━━━━━━━━━━━━\u001b[0m\u001b[37m\u001b[0m \u001b[1m11s\u001b[0m 33ms/step - accuracy: 0.9824 - loss: 0.0686 - val_accuracy: 0.9850 - val_loss: 0.0600\n",
      "Epoch 49/100\n",
      "\u001b[1m319/319\u001b[0m \u001b[32m━━━━━━━━━━━━━━━━━━━━\u001b[0m\u001b[37m\u001b[0m \u001b[1m11s\u001b[0m 34ms/step - accuracy: 0.9826 - loss: 0.0655 - val_accuracy: 0.9876 - val_loss: 0.0547\n",
      "Epoch 50/100\n",
      "\u001b[1m319/319\u001b[0m \u001b[32m━━━━━━━━━━━━━━━━━━━━\u001b[0m\u001b[37m\u001b[0m \u001b[1m11s\u001b[0m 33ms/step - accuracy: 0.9797 - loss: 0.0629 - val_accuracy: 0.9709 - val_loss: 0.0841\n",
      "Epoch 51/100\n",
      "\u001b[1m319/319\u001b[0m \u001b[32m━━━━━━━━━━━━━━━━━━━━\u001b[0m\u001b[37m\u001b[0m \u001b[1m11s\u001b[0m 33ms/step - accuracy: 0.9820 - loss: 0.0666 - val_accuracy: 0.9753 - val_loss: 0.0754\n",
      "Epoch 52/100\n",
      "\u001b[1m319/319\u001b[0m \u001b[32m━━━━━━━━━━━━━━━━━━━━\u001b[0m\u001b[37m\u001b[0m \u001b[1m11s\u001b[0m 34ms/step - accuracy: 0.9739 - loss: 0.0775 - val_accuracy: 0.9806 - val_loss: 0.0733\n",
      "Epoch 53/100\n",
      "\u001b[1m319/319\u001b[0m \u001b[32m━━━━━━━━━━━━━━━━━━━━\u001b[0m\u001b[37m\u001b[0m \u001b[1m11s\u001b[0m 33ms/step - accuracy: 0.9797 - loss: 0.0746 - val_accuracy: 0.9011 - val_loss: 0.2588\n",
      "Epoch 54/100\n",
      "\u001b[1m319/319\u001b[0m \u001b[32m━━━━━━━━━━━━━━━━━━━━\u001b[0m\u001b[37m\u001b[0m \u001b[1m11s\u001b[0m 33ms/step - accuracy: 0.9791 - loss: 0.0682 - val_accuracy: 0.9903 - val_loss: 0.0453\n",
      "Epoch 55/100\n",
      "\u001b[1m319/319\u001b[0m \u001b[32m━━━━━━━━━━━━━━━━━━━━\u001b[0m\u001b[37m\u001b[0m \u001b[1m11s\u001b[0m 33ms/step - accuracy: 0.9826 - loss: 0.0581 - val_accuracy: 0.9735 - val_loss: 0.0810\n",
      "Epoch 56/100\n",
      "\u001b[1m319/319\u001b[0m \u001b[32m━━━━━━━━━━━━━━━━━━━━\u001b[0m\u001b[37m\u001b[0m \u001b[1m11s\u001b[0m 33ms/step - accuracy: 0.9787 - loss: 0.0671 - val_accuracy: 0.9753 - val_loss: 0.0774\n",
      "Epoch 57/100\n",
      "\u001b[1m319/319\u001b[0m \u001b[32m━━━━━━━━━━━━━━━━━━━━\u001b[0m\u001b[37m\u001b[0m \u001b[1m11s\u001b[0m 34ms/step - accuracy: 0.9829 - loss: 0.0572 - val_accuracy: 0.9921 - val_loss: 0.0426\n",
      "Epoch 58/100\n",
      "\u001b[1m319/319\u001b[0m \u001b[32m━━━━━━━━━━━━━━━━━━━━\u001b[0m\u001b[37m\u001b[0m \u001b[1m11s\u001b[0m 33ms/step - accuracy: 0.9862 - loss: 0.0490 - val_accuracy: 0.9815 - val_loss: 0.0597\n",
      "Epoch 59/100\n",
      "\u001b[1m319/319\u001b[0m \u001b[32m━━━━━━━━━━━━━━━━━━━━\u001b[0m\u001b[37m\u001b[0m \u001b[1m11s\u001b[0m 34ms/step - accuracy: 0.9646 - loss: 0.1188 - val_accuracy: 0.9638 - val_loss: 0.1077\n",
      "Epoch 60/100\n",
      "\u001b[1m319/319\u001b[0m \u001b[32m━━━━━━━━━━━━━━━━━━━━\u001b[0m\u001b[37m\u001b[0m \u001b[1m11s\u001b[0m 34ms/step - accuracy: 0.9686 - loss: 0.0904 - val_accuracy: 0.9868 - val_loss: 0.0572\n",
      "Epoch 61/100\n",
      "\u001b[1m319/319\u001b[0m \u001b[32m━━━━━━━━━━━━━━━━━━━━\u001b[0m\u001b[37m\u001b[0m \u001b[1m11s\u001b[0m 33ms/step - accuracy: 0.9786 - loss: 0.0724 - val_accuracy: 0.9329 - val_loss: 0.1786\n",
      "Epoch 62/100\n",
      "\u001b[1m319/319\u001b[0m \u001b[32m━━━━━━━━━━━━━━━━━━━━\u001b[0m\u001b[37m\u001b[0m \u001b[1m11s\u001b[0m 33ms/step - accuracy: 0.9724 - loss: 0.0863 - val_accuracy: 0.9691 - val_loss: 0.0991\n",
      "Epoch 63/100\n",
      "\u001b[1m319/319\u001b[0m \u001b[32m━━━━━━━━━━━━━━━━━━━━\u001b[0m\u001b[37m\u001b[0m \u001b[1m11s\u001b[0m 34ms/step - accuracy: 0.9828 - loss: 0.0574 - val_accuracy: 0.9903 - val_loss: 0.0430\n",
      "Epoch 64/100\n",
      "\u001b[1m319/319\u001b[0m \u001b[32m━━━━━━━━━━━━━━━━━━━━\u001b[0m\u001b[37m\u001b[0m \u001b[1m11s\u001b[0m 33ms/step - accuracy: 0.9793 - loss: 0.0694 - val_accuracy: 0.9903 - val_loss: 0.0426\n",
      "Epoch 65/100\n",
      "\u001b[1m319/319\u001b[0m \u001b[32m━━━━━━━━━━━━━━━━━━━━\u001b[0m\u001b[37m\u001b[0m \u001b[1m11s\u001b[0m 34ms/step - accuracy: 0.9758 - loss: 0.0742 - val_accuracy: 0.9876 - val_loss: 0.0491\n",
      "Epoch 66/100\n",
      "\u001b[1m319/319\u001b[0m \u001b[32m━━━━━━━━━━━━━━━━━━━━\u001b[0m\u001b[37m\u001b[0m \u001b[1m11s\u001b[0m 33ms/step - accuracy: 0.9751 - loss: 0.0756 - val_accuracy: 0.9841 - val_loss: 0.0597\n",
      "Epoch 67/100\n",
      "\u001b[1m319/319\u001b[0m \u001b[32m━━━━━━━━━━━━━━━━━━━━\u001b[0m\u001b[37m\u001b[0m \u001b[1m11s\u001b[0m 33ms/step - accuracy: 0.9835 - loss: 0.0536 - val_accuracy: 0.9550 - val_loss: 0.1118\n",
      "Epoch 68/100\n",
      "\u001b[1m319/319\u001b[0m \u001b[32m━━━━━━━━━━━━━━━━━━━━\u001b[0m\u001b[37m\u001b[0m \u001b[1m11s\u001b[0m 33ms/step - accuracy: 0.9788 - loss: 0.0631 - val_accuracy: 0.9876 - val_loss: 0.0491\n",
      "Epoch 69/100\n",
      "\u001b[1m319/319\u001b[0m \u001b[32m━━━━━━━━━━━━━━━━━━━━\u001b[0m\u001b[37m\u001b[0m \u001b[1m11s\u001b[0m 33ms/step - accuracy: 0.9794 - loss: 0.0655 - val_accuracy: 0.9823 - val_loss: 0.0645\n",
      "Epoch 70/100\n",
      "\u001b[1m319/319\u001b[0m \u001b[32m━━━━━━━━━━━━━━━━━━━━\u001b[0m\u001b[37m\u001b[0m \u001b[1m11s\u001b[0m 33ms/step - accuracy: 0.9826 - loss: 0.0598 - val_accuracy: 0.8764 - val_loss: 0.3531\n",
      "Epoch 71/100\n",
      "\u001b[1m319/319\u001b[0m \u001b[32m━━━━━━━━━━━━━━━━━━━━\u001b[0m\u001b[37m\u001b[0m \u001b[1m11s\u001b[0m 34ms/step - accuracy: 0.9599 - loss: 0.1120 - val_accuracy: 0.9868 - val_loss: 0.0543\n",
      "Epoch 72/100\n",
      "\u001b[1m319/319\u001b[0m \u001b[32m━━━━━━━━━━━━━━━━━━━━\u001b[0m\u001b[37m\u001b[0m \u001b[1m11s\u001b[0m 33ms/step - accuracy: 0.9834 - loss: 0.0576 - val_accuracy: 0.9859 - val_loss: 0.0587\n",
      "Epoch 73/100\n",
      "\u001b[1m319/319\u001b[0m \u001b[32m━━━━━━━━━━━━━━━━━━━━\u001b[0m\u001b[37m\u001b[0m \u001b[1m11s\u001b[0m 33ms/step - accuracy: 0.9773 - loss: 0.0771 - val_accuracy: 0.9921 - val_loss: 0.0353\n",
      "Epoch 74/100\n",
      "\u001b[1m319/319\u001b[0m \u001b[32m━━━━━━━━━━━━━━━━━━━━\u001b[0m\u001b[37m\u001b[0m \u001b[1m11s\u001b[0m 33ms/step - accuracy: 0.9688 - loss: 0.0983 - val_accuracy: 0.9885 - val_loss: 0.0468\n",
      "Epoch 75/100\n",
      "\u001b[1m319/319\u001b[0m \u001b[32m━━━━━━━━━━━━━━━━━━━━\u001b[0m\u001b[37m\u001b[0m \u001b[1m11s\u001b[0m 33ms/step - accuracy: 0.9806 - loss: 0.0592 - val_accuracy: 0.9691 - val_loss: 0.0909\n",
      "Epoch 76/100\n",
      "\u001b[1m319/319\u001b[0m \u001b[32m━━━━━━━━━━━━━━━━━━━━\u001b[0m\u001b[37m\u001b[0m \u001b[1m11s\u001b[0m 33ms/step - accuracy: 0.9736 - loss: 0.0802 - val_accuracy: 0.9673 - val_loss: 0.0872\n",
      "Epoch 77/100\n",
      "\u001b[1m319/319\u001b[0m \u001b[32m━━━━━━━━━━━━━━━━━━━━\u001b[0m\u001b[37m\u001b[0m \u001b[1m11s\u001b[0m 34ms/step - accuracy: 0.9830 - loss: 0.0545 - val_accuracy: 0.9815 - val_loss: 0.0825\n",
      "Epoch 78/100\n",
      "\u001b[1m319/319\u001b[0m \u001b[32m━━━━━━━━━━━━━━━━━━━━\u001b[0m\u001b[37m\u001b[0m \u001b[1m11s\u001b[0m 33ms/step - accuracy: 0.9695 - loss: 0.0965 - val_accuracy: 0.9735 - val_loss: 0.0845\n",
      "Epoch 79/100\n",
      "\u001b[1m319/319\u001b[0m \u001b[32m━━━━━━━━━━━━━━━━━━━━\u001b[0m\u001b[37m\u001b[0m \u001b[1m11s\u001b[0m 33ms/step - accuracy: 0.9813 - loss: 0.0606 - val_accuracy: 0.9850 - val_loss: 0.0596\n",
      "Epoch 80/100\n",
      "\u001b[1m319/319\u001b[0m \u001b[32m━━━━━━━━━━━━━━━━━━━━\u001b[0m\u001b[37m\u001b[0m \u001b[1m11s\u001b[0m 33ms/step - accuracy: 0.9778 - loss: 0.0737 - val_accuracy: 0.9815 - val_loss: 0.0654\n",
      "Epoch 81/100\n",
      "\u001b[1m319/319\u001b[0m \u001b[32m━━━━━━━━━━━━━━━━━━━━\u001b[0m\u001b[37m\u001b[0m \u001b[1m11s\u001b[0m 33ms/step - accuracy: 0.9790 - loss: 0.0713 - val_accuracy: 0.9841 - val_loss: 0.0589\n",
      "Epoch 82/100\n",
      "\u001b[1m319/319\u001b[0m \u001b[32m━━━━━━━━━━━━━━━━━━━━\u001b[0m\u001b[37m\u001b[0m \u001b[1m11s\u001b[0m 34ms/step - accuracy: 0.9792 - loss: 0.0675 - val_accuracy: 0.9788 - val_loss: 0.0644\n",
      "Epoch 83/100\n",
      "\u001b[1m319/319\u001b[0m \u001b[32m━━━━━━━━━━━━━━━━━━━━\u001b[0m\u001b[37m\u001b[0m \u001b[1m11s\u001b[0m 34ms/step - accuracy: 0.9794 - loss: 0.0651 - val_accuracy: 0.9912 - val_loss: 0.0381\n",
      "Epoch 84/100\n",
      "\u001b[1m319/319\u001b[0m \u001b[32m━━━━━━━━━━━━━━━━━━━━\u001b[0m\u001b[37m\u001b[0m \u001b[1m11s\u001b[0m 34ms/step - accuracy: 0.9575 - loss: 0.1561 - val_accuracy: 0.9823 - val_loss: 0.0644\n",
      "Epoch 85/100\n",
      "\u001b[1m319/319\u001b[0m \u001b[32m━━━━━━━━━━━━━━━━━━━━\u001b[0m\u001b[37m\u001b[0m \u001b[1m11s\u001b[0m 34ms/step - accuracy: 0.9831 - loss: 0.0599 - val_accuracy: 0.9938 - val_loss: 0.0384\n",
      "Epoch 86/100\n",
      "\u001b[1m319/319\u001b[0m \u001b[32m━━━━━━━━━━━━━━━━━━━━\u001b[0m\u001b[37m\u001b[0m \u001b[1m11s\u001b[0m 34ms/step - accuracy: 0.9872 - loss: 0.0469 - val_accuracy: 0.9894 - val_loss: 0.0453\n",
      "Epoch 87/100\n",
      "\u001b[1m319/319\u001b[0m \u001b[32m━━━━━━━━━━━━━━━━━━━━\u001b[0m\u001b[37m\u001b[0m \u001b[1m11s\u001b[0m 34ms/step - accuracy: 0.9852 - loss: 0.0496 - val_accuracy: 0.9903 - val_loss: 0.0393\n",
      "Epoch 88/100\n",
      "\u001b[1m319/319\u001b[0m \u001b[32m━━━━━━━━━━━━━━━━━━━━\u001b[0m\u001b[37m\u001b[0m \u001b[1m11s\u001b[0m 34ms/step - accuracy: 0.9778 - loss: 0.0638 - val_accuracy: 0.9903 - val_loss: 0.0381\n",
      "Epoch 89/100\n",
      "\u001b[1m319/319\u001b[0m \u001b[32m━━━━━━━━━━━━━━━━━━━━\u001b[0m\u001b[37m\u001b[0m \u001b[1m11s\u001b[0m 34ms/step - accuracy: 0.9849 - loss: 0.0488 - val_accuracy: 0.9912 - val_loss: 0.0307\n",
      "Epoch 90/100\n",
      "\u001b[1m319/319\u001b[0m \u001b[32m━━━━━━━━━━━━━━━━━━━━\u001b[0m\u001b[37m\u001b[0m \u001b[1m11s\u001b[0m 34ms/step - accuracy: 0.9818 - loss: 0.0546 - val_accuracy: 0.9823 - val_loss: 0.0506\n",
      "Epoch 91/100\n",
      "\u001b[1m319/319\u001b[0m \u001b[32m━━━━━━━━━━━━━━━━━━━━\u001b[0m\u001b[37m\u001b[0m \u001b[1m11s\u001b[0m 34ms/step - accuracy: 0.9885 - loss: 0.0403 - val_accuracy: 0.9850 - val_loss: 0.0526\n",
      "Epoch 92/100\n",
      "\u001b[1m319/319\u001b[0m \u001b[32m━━━━━━━━━━━━━━━━━━━━\u001b[0m\u001b[37m\u001b[0m \u001b[1m11s\u001b[0m 34ms/step - accuracy: 0.9809 - loss: 0.0621 - val_accuracy: 0.9850 - val_loss: 0.0485\n",
      "Epoch 93/100\n",
      "\u001b[1m319/319\u001b[0m \u001b[32m━━━━━━━━━━━━━━━━━━━━\u001b[0m\u001b[37m\u001b[0m \u001b[1m11s\u001b[0m 33ms/step - accuracy: 0.9768 - loss: 0.0760 - val_accuracy: 0.9797 - val_loss: 0.0649\n",
      "Epoch 94/100\n",
      "\u001b[1m319/319\u001b[0m \u001b[32m━━━━━━━━━━━━━━━━━━━━\u001b[0m\u001b[37m\u001b[0m \u001b[1m11s\u001b[0m 33ms/step - accuracy: 0.9823 - loss: 0.0594 - val_accuracy: 0.9903 - val_loss: 0.0361\n",
      "Epoch 95/100\n",
      "\u001b[1m319/319\u001b[0m \u001b[32m━━━━━━━━━━━━━━━━━━━━\u001b[0m\u001b[37m\u001b[0m \u001b[1m11s\u001b[0m 33ms/step - accuracy: 0.9770 - loss: 0.0697 - val_accuracy: 0.9912 - val_loss: 0.0306\n",
      "Epoch 96/100\n",
      "\u001b[1m319/319\u001b[0m \u001b[32m━━━━━━━━━━━━━━━━━━━━\u001b[0m\u001b[37m\u001b[0m \u001b[1m11s\u001b[0m 33ms/step - accuracy: 0.9873 - loss: 0.0397 - val_accuracy: 0.9479 - val_loss: 0.1249\n",
      "Epoch 97/100\n",
      "\u001b[1m319/319\u001b[0m \u001b[32m━━━━━━━━━━━━━━━━━━━━\u001b[0m\u001b[37m\u001b[0m \u001b[1m11s\u001b[0m 33ms/step - accuracy: 0.9831 - loss: 0.0570 - val_accuracy: 0.9823 - val_loss: 0.0620\n",
      "Epoch 98/100\n",
      "\u001b[1m319/319\u001b[0m \u001b[32m━━━━━━━━━━━━━━━━━━━━\u001b[0m\u001b[37m\u001b[0m \u001b[1m11s\u001b[0m 33ms/step - accuracy: 0.9832 - loss: 0.0579 - val_accuracy: 0.9903 - val_loss: 0.0439\n",
      "Epoch 99/100\n",
      "\u001b[1m319/319\u001b[0m \u001b[32m━━━━━━━━━━━━━━━━━━━━\u001b[0m\u001b[37m\u001b[0m \u001b[1m11s\u001b[0m 34ms/step - accuracy: 0.9887 - loss: 0.0410 - val_accuracy: 0.9912 - val_loss: 0.0327\n",
      "Epoch 100/100\n",
      "\u001b[1m319/319\u001b[0m \u001b[32m━━━━━━━━━━━━━━━━━━━━\u001b[0m\u001b[37m\u001b[0m \u001b[1m11s\u001b[0m 33ms/step - accuracy: 0.9849 - loss: 0.0496 - val_accuracy: 0.9885 - val_loss: 0.0424\n"
     ]
    }
   ],
   "source": [
    "history = model.fit([pc_tr, fc_tr, ccf_tr, ncf_tr, coe_tr, pcbd_tr, pac_tr, cba_tr], lbl_tr, validation_data=([pc_tst, fc_tst, ccf_tst, ncf_tst, coe_tst, pcbd_tst, pac_tst, cba_tst], lbl_tst), epochs=100)"
   ]
  },
  {
   "cell_type": "code",
   "execution_count": 51,
   "metadata": {},
   "outputs": [],
   "source": [
    "\n",
    "completely_colliding_flows_attack = []\n",
    "non_colliding_flows_attack = []\n",
    "cells_occuplied_epoch_end_attack = []\n",
    "purecell_count_before_decode_attack = []\n",
    "purecell_all_collision_attack = []\n",
    "collisions_by_allflows_attack = []\n",
    "\n",
    "ccf, ncf, coee, pcbd, pcac, cba = preprocess_file(f'window.csv')\n",
    "completely_colliding_flows_attack.append(ccf)\n",
    "non_colliding_flows_attack.append(ncf)\n",
    "cells_occuplied_epoch_end_attack.append(coee)\n",
    "purecell_count_before_decode_attack.append(pcbd)\n",
    "purecell_all_collision_attack.append(pcac)\n",
    "collisions_by_allflows_attack.append(cba)\n",
    "\n",
    "\n",
    "completely_colliding_flows_normalized = normalize_dataset(completely_colliding_flows_attack)\n",
    "non_colliding_flows_normalized = normalize_dataset(non_colliding_flows_attack)\n",
    "cells_occupied_epoch_end_normalized = normalize_dataset(cells_occuplied_epoch_end_attack)\n",
    "purecell_count_before_decode_normalized = normalize_dataset(purecell_count_before_decode_attack)\n",
    "purecell_all_collision_normalized = normalize_dataset(purecell_all_collision_attack)\n",
    "collisions_by_allflows_normalized = normalize_dataset(collisions_by_allflows_attack)\n",
    "\n",
    "\n",
    "dataset = list(zip(completely_colliding_flows_normalized, non_colliding_flows_normalized, cells_occupied_epoch_end_normalized, purecell_count_before_decode_normalized, purecell_all_collision_normalized, collisions_by_allflows_normalized, labels))\n",
    "np.random.shuffle(dataset)\n",
    "dataset[0:1]\n",
    "\n",
    "ccf_normalized, ncf_normalized, coe_normalized, pcbd_normalized, pac_normalized, cba_normalized, labels = tuple(map(list, zip(*dataset)))\n",
    "\n",
    "ccf_normalized = np.array(ccf_normalized).reshape(-1, 28, 1)\n",
    "ncf_normalized = np.array(ncf_normalized).reshape(-1, 28, 1)\n",
    "coe_normalized = np.array(coe_normalized).reshape(-1, 28, 1)\n",
    "pcbd_normalized = np.array(pcbd_normalized).reshape(-1, 28, 1)\n",
    "pac_normalized = np.array(pac_normalized).reshape(-1, 28, 1)\n",
    "cba_normalized = np.array(cba_normalized).reshape(-1, 28, 1)"
   ]
  },
  {
   "cell_type": "code",
   "execution_count": 52,
   "metadata": {},
   "outputs": [
    {
     "name": "stdout",
     "output_type": "stream",
     "text": [
      "\u001b[1m1/1\u001b[0m \u001b[32m━━━━━━━━━━━━━━━━━━━━\u001b[0m\u001b[37m\u001b[0m \u001b[1m0s\u001b[0m 105ms/step\n"
     ]
    }
   ],
   "source": [
    "lbl = model.predict([ccf_normalized, ncf_normalized, coe_normalized, pcbd_normalized, pac_normalized, cba_normalized])"
   ]
  },
  {
   "cell_type": "code",
   "execution_count": 38,
   "metadata": {},
   "outputs": [
    {
     "data": {
      "text/plain": [
       "0.9916666666666667"
      ]
     },
     "execution_count": 38,
     "metadata": {},
     "output_type": "execute_result"
    }
   ],
   "source": [
    "len(lbl[lbl>0.5])/len(lbl)"
   ]
  },
  {
   "cell_type": "code",
   "execution_count": 39,
   "metadata": {},
   "outputs": [
    {
     "name": "stdout",
     "output_type": "stream",
     "text": [
      "[array([0.9999888], dtype=float32), array([0.9999889], dtype=float32), array([0.99998885], dtype=float32), array([0.99998885], dtype=float32), array([0.9999889], dtype=float32), array([0.9999881], dtype=float32), array([0.9999889], dtype=float32), array([0.9999889], dtype=float32), array([0.999989], dtype=float32), array([0.99998885], dtype=float32), array([0.999989], dtype=float32), array([0.9999881], dtype=float32), array([0.99998873], dtype=float32), array([0.99998873], dtype=float32), array([0.99998885], dtype=float32), array([0.999988], dtype=float32), array([0.9999889], dtype=float32), array([0.99998814], dtype=float32), array([0.9999887], dtype=float32), array([0.99998903], dtype=float32), array([0.9999889], dtype=float32), array([0.9999889], dtype=float32), array([0.999989], dtype=float32), array([0.999989], dtype=float32), array([0.9999883], dtype=float32), array([0.999989], dtype=float32), array([0.99998885], dtype=float32), array([0.9999889], dtype=float32), array([0.99998885], dtype=float32), array([0.999989], dtype=float32), array([0.9999889], dtype=float32), array([0.9999887], dtype=float32), array([0.9999889], dtype=float32), array([0.9999888], dtype=float32), array([0.99998885], dtype=float32), array([0.9999889], dtype=float32), array([0.9999888], dtype=float32), array([0.99998903], dtype=float32), array([0.99998885], dtype=float32), array([0.999989], dtype=float32), array([0.9999889], dtype=float32), array([0.999989], dtype=float32), array([0.9999889], dtype=float32), array([0.999989], dtype=float32), array([0.999989], dtype=float32), array([0.9999889], dtype=float32), array([0.9999887], dtype=float32), array([0.999989], dtype=float32), array([0.999989], dtype=float32), array([0.999989], dtype=float32), array([0.99998903], dtype=float32), array([0.99998885], dtype=float32), array([0.9999889], dtype=float32), array([0.99998903], dtype=float32), array([0.99998885], dtype=float32), array([0.999989], dtype=float32), array([0.9999887], dtype=float32), array([0.999989], dtype=float32), array([0.999989], dtype=float32), array([0.9999891], dtype=float32), array([0.9999891], dtype=float32), array([0.9999887], dtype=float32), array([0.9999887], dtype=float32), array([0.9999888], dtype=float32), array([0.99998856], dtype=float32), array([0.999988], dtype=float32), array([0.9999889], dtype=float32), array([0.9999889], dtype=float32), array([0.9999887], dtype=float32), array([0.99998873], dtype=float32), array([0.999989], dtype=float32), array([0.9999712], dtype=float32), array([0.9999888], dtype=float32), array([0.999989], dtype=float32), array([0.99998903], dtype=float32), array([0.999989], dtype=float32), array([0.999989], dtype=float32), array([0.999989], dtype=float32), array([0.99998885], dtype=float32), array([0.99998915], dtype=float32), array([0.99998903], dtype=float32), array([0.99998844], dtype=float32), array([0.99998784], dtype=float32), array([0.9999881], dtype=float32), array([0.999989], dtype=float32), array([0.999989], dtype=float32), array([0.9999889], dtype=float32), array([0.99998903], dtype=float32), array([0.999989], dtype=float32), array([0.99998885], dtype=float32), array([0.99998856], dtype=float32), array([0.99998915], dtype=float32), array([0.99998885], dtype=float32), array([0.999989], dtype=float32), array([0.9999881], dtype=float32), array([0.99998903], dtype=float32), array([0.999989], dtype=float32), array([0.999989], dtype=float32), array([0.9999881], dtype=float32), array([0.99998814], dtype=float32), array([0.9999888], dtype=float32), array([0.9999889], dtype=float32), array([0.9999889], dtype=float32), array([0.9999889], dtype=float32), array([0.99998885], dtype=float32), array([0.9999889], dtype=float32), array([0.99998915], dtype=float32), array([0.99998885], dtype=float32), array([0.999989], dtype=float32), array([0.9999889], dtype=float32), array([0.999989], dtype=float32), array([0.9999889], dtype=float32), array([0.99998903], dtype=float32), array([0.9999889], dtype=float32), array([0.999989], dtype=float32), array([0.9999889], dtype=float32), array([0.99998903], dtype=float32), array([0.999989], dtype=float32), array([0.9999893], dtype=float32), array([0.9999888], dtype=float32), array([0.9999889], dtype=float32), array([0.999989], dtype=float32), array([0.999989], dtype=float32), array([0.99998885], dtype=float32), array([0.9999889], dtype=float32), array([0.9999887], dtype=float32), array([0.999989], dtype=float32), array([0.9999889], dtype=float32), array([0.99998903], dtype=float32), array([0.9999889], dtype=float32), array([0.9999889], dtype=float32), array([0.999989], dtype=float32), array([0.999989], dtype=float32), array([0.99998885], dtype=float32), array([0.99998873], dtype=float32), array([0.99998885], dtype=float32), array([0.99998873], dtype=float32), array([0.99998915], dtype=float32), array([0.9999889], dtype=float32), array([0.9999883], dtype=float32), array([0.99998873], dtype=float32), array([0.9999889], dtype=float32), array([0.999989], dtype=float32), array([0.99998903], dtype=float32), array([0.999989], dtype=float32), array([0.999989], dtype=float32), array([0.99998885], dtype=float32), array([0.99998826], dtype=float32), array([0.9999889], dtype=float32), array([0.9999889], dtype=float32), array([0.99998885], dtype=float32), array([0.999989], dtype=float32), array([0.999989], dtype=float32), array([0.9999891], dtype=float32), array([0.99998903], dtype=float32), array([0.9999712], dtype=float32), array([0.99998903], dtype=float32), array([0.99998885], dtype=float32), array([0.99998903], dtype=float32), array([0.9999889], dtype=float32), array([0.99998885], dtype=float32), array([0.999989], dtype=float32), array([0.999989], dtype=float32), array([0.99998885], dtype=float32), array([0.99998885], dtype=float32), array([8.264934e-06], dtype=float32), array([0.999989], dtype=float32), array([0.9999889], dtype=float32), array([0.999989], dtype=float32), array([0.9999887], dtype=float32), array([0.99998885], dtype=float32), array([0.99998873], dtype=float32), array([0.999989], dtype=float32), array([0.9999712], dtype=float32), array([0.9999889], dtype=float32), array([0.99998885], dtype=float32), array([0.99998885], dtype=float32), array([0.9999889], dtype=float32), array([0.99998885], dtype=float32), array([0.99998885], dtype=float32), array([0.999989], dtype=float32), array([0.999989], dtype=float32), array([0.9999888], dtype=float32), array([0.999989], dtype=float32), array([0.9999889], dtype=float32), array([0.9999889], dtype=float32), array([0.99998903], dtype=float32), array([0.99998885], dtype=float32), array([0.99998856], dtype=float32), array([0.99998885], dtype=float32), array([0.9999889], dtype=float32), array([0.999989], dtype=float32), array([0.99998903], dtype=float32), array([8.264934e-06], dtype=float32), array([0.999989], dtype=float32), array([0.99998903], dtype=float32), array([0.99998885], dtype=float32), array([0.999989], dtype=float32), array([0.9999712], dtype=float32), array([0.9999889], dtype=float32), array([0.99998903], dtype=float32), array([0.99998903], dtype=float32), array([0.9999887], dtype=float32), array([0.9999889], dtype=float32), array([0.99998885], dtype=float32), array([0.9999889], dtype=float32), array([0.999989], dtype=float32), array([0.9999886], dtype=float32), array([0.999989], dtype=float32), array([0.9999889], dtype=float32), array([0.9999889], dtype=float32), array([0.99998885], dtype=float32), array([0.9999889], dtype=float32), array([0.99998915], dtype=float32), array([0.9999891], dtype=float32), array([0.999988], dtype=float32), array([0.9999888], dtype=float32), array([0.9999889], dtype=float32), array([0.9999889], dtype=float32), array([0.999989], dtype=float32), array([0.9999889], dtype=float32), array([0.9999884], dtype=float32), array([0.9999712], dtype=float32), array([0.9999893], dtype=float32), array([0.99998885], dtype=float32), array([0.99998885], dtype=float32), array([0.9999889], dtype=float32), array([0.9999889], dtype=float32), array([0.99998885], dtype=float32), array([0.99998885], dtype=float32), array([0.999989], dtype=float32), array([0.99998903], dtype=float32), array([0.99998903], dtype=float32), array([0.9999889], dtype=float32), array([0.9999888], dtype=float32), array([8.264934e-06], dtype=float32), array([0.9999887], dtype=float32), array([0.9999887], dtype=float32), array([0.9999881], dtype=float32), array([0.99998784], dtype=float32), array([0.99998826], dtype=float32), array([0.9999884], dtype=float32), array([0.999989], dtype=float32), array([0.99998885], dtype=float32), array([0.9999889], dtype=float32), array([0.999989], dtype=float32), array([0.9999889], dtype=float32), array([0.99998885], dtype=float32), array([0.99998885], dtype=float32), array([0.99998885], dtype=float32), array([0.999989], dtype=float32), array([0.9999887], dtype=float32), array([0.999989], dtype=float32), array([0.999989], dtype=float32), array([0.999989], dtype=float32), array([0.9999886], dtype=float32), array([0.999989], dtype=float32), array([0.999989], dtype=float32), array([0.9999881], dtype=float32), array([0.9999889], dtype=float32), array([0.9999889], dtype=float32), array([0.999989], dtype=float32), array([0.9999889], dtype=float32), array([0.999989], dtype=float32), array([0.99998903], dtype=float32), array([0.9999889], dtype=float32), array([0.999989], dtype=float32), array([0.99998873], dtype=float32), array([0.9999889], dtype=float32), array([0.99998856], dtype=float32), array([0.9999889], dtype=float32), array([0.999989], dtype=float32), array([0.99998903], dtype=float32), array([0.999989], dtype=float32), array([0.9999887], dtype=float32), array([0.9999889], dtype=float32), array([0.999989], dtype=float32), array([0.99998826], dtype=float32), array([0.9999889], dtype=float32), array([0.99998885], dtype=float32), array([0.99998903], dtype=float32), array([0.999988], dtype=float32), array([0.999989], dtype=float32), array([0.9999889], dtype=float32), array([0.9999889], dtype=float32), array([0.9999889], dtype=float32), array([0.9999889], dtype=float32), array([0.9999889], dtype=float32), array([0.9999889], dtype=float32), array([0.999989], dtype=float32), array([0.999989], dtype=float32), array([0.99998885], dtype=float32), array([0.99998903], dtype=float32), array([0.99998856], dtype=float32), array([0.9999889], dtype=float32), array([0.999989], dtype=float32), array([0.9999889], dtype=float32), array([0.99998856], dtype=float32), array([0.999989], dtype=float32), array([0.99998873], dtype=float32), array([0.9999881], dtype=float32), array([0.999989], dtype=float32), array([0.99998885], dtype=float32), array([0.9999889], dtype=float32), array([0.9999889], dtype=float32), array([0.9999889], dtype=float32), array([0.9999887], dtype=float32), array([0.99998873], dtype=float32), array([0.999989], dtype=float32), array([0.9999889], dtype=float32), array([0.99998903], dtype=float32), array([0.9999888], dtype=float32), array([0.9999889], dtype=float32), array([0.999989], dtype=float32), array([0.99998885], dtype=float32), array([0.99998885], dtype=float32), array([0.9999889], dtype=float32), array([0.999989], dtype=float32), array([0.99998885], dtype=float32), array([0.99998784], dtype=float32), array([0.999989], dtype=float32), array([0.99998885], dtype=float32), array([0.9999889], dtype=float32), array([0.999989], dtype=float32), array([0.9999889], dtype=float32), array([0.9999889], dtype=float32), array([0.99998903], dtype=float32), array([0.9999889], dtype=float32), array([0.9999887], dtype=float32), array([0.9999889], dtype=float32), array([0.99998903], dtype=float32), array([0.9999889], dtype=float32), array([0.9999889], dtype=float32), array([0.99998873], dtype=float32), array([0.999989], dtype=float32), array([0.9999889], dtype=float32), array([0.999989], dtype=float32), array([0.99998903], dtype=float32), array([0.99998885], dtype=float32), array([0.99998903], dtype=float32), array([0.9999712], dtype=float32), array([0.999989], dtype=float32), array([0.9999889], dtype=float32), array([0.99998915], dtype=float32), array([0.999989], dtype=float32), array([0.9999889], dtype=float32), array([0.99998873], dtype=float32), array([0.999989], dtype=float32), array([0.99998885], dtype=float32), array([0.999989], dtype=float32), array([0.99998903], dtype=float32), array([0.9999889], dtype=float32), array([0.9999888], dtype=float32), array([0.999989], dtype=float32), array([0.9999889], dtype=float32), array([0.9999889], dtype=float32), array([0.999989], dtype=float32), array([0.999989], dtype=float32), array([0.9999889], dtype=float32), array([0.999988], dtype=float32), array([0.9999887], dtype=float32), array([0.9999889], dtype=float32), array([0.99998856], dtype=float32), array([0.99998903], dtype=float32), array([0.999989], dtype=float32), array([0.999989], dtype=float32), array([0.9999889], dtype=float32), array([0.9999889], dtype=float32), array([0.9999889], dtype=float32), array([0.999989], dtype=float32), array([0.99998903], dtype=float32), array([0.999989], dtype=float32), array([0.99998856], dtype=float32), array([8.264934e-06], dtype=float32), array([0.99998885], dtype=float32), array([0.99998903], dtype=float32), array([0.9999889], dtype=float32), array([0.999989], dtype=float32), array([0.99998885], dtype=float32), array([0.9999889], dtype=float32), array([0.99998873], dtype=float32), array([0.9999889], dtype=float32), array([0.99998903], dtype=float32), array([0.999989], dtype=float32), array([0.99998885], dtype=float32), array([0.9999888], dtype=float32), array([0.99998903], dtype=float32), array([0.99998885], dtype=float32), array([0.99998903], dtype=float32), array([0.99998903], dtype=float32), array([0.99998885], dtype=float32), array([0.9999889], dtype=float32), array([0.999989], dtype=float32), array([0.999989], dtype=float32), array([0.9999887], dtype=float32), array([0.99998885], dtype=float32), array([0.9999889], dtype=float32), array([0.9999881], dtype=float32), array([0.9999881], dtype=float32), array([0.99998885], dtype=float32), array([0.99998903], dtype=float32), array([0.99998873], dtype=float32), array([0.9999889], dtype=float32), array([0.999989], dtype=float32), array([0.9999888], dtype=float32), array([0.99998885], dtype=float32), array([0.99998915], dtype=float32), array([0.99998885], dtype=float32), array([0.99998903], dtype=float32), array([0.999989], dtype=float32), array([0.99998903], dtype=float32), array([0.99998826], dtype=float32), array([0.999989], dtype=float32), array([0.9999888], dtype=float32), array([0.9999888], dtype=float32), array([0.9999889], dtype=float32), array([0.9999889], dtype=float32), array([0.999989], dtype=float32), array([0.999989], dtype=float32), array([0.999989], dtype=float32), array([0.99998885], dtype=float32), array([0.999989], dtype=float32), array([0.9999887], dtype=float32), array([0.9999887], dtype=float32), array([0.99998903], dtype=float32), array([0.99998903], dtype=float32), array([0.999989], dtype=float32), array([0.999989], dtype=float32), array([0.999989], dtype=float32), array([0.999989], dtype=float32), array([0.999989], dtype=float32), array([0.999989], dtype=float32), array([0.999989], dtype=float32), array([0.9999889], dtype=float32), array([0.99998885], dtype=float32), array([0.99998885], dtype=float32), array([0.99998903], dtype=float32), array([0.99998903], dtype=float32), array([0.99998885], dtype=float32), array([0.9999891], dtype=float32), array([0.99998885], dtype=float32), array([0.9999889], dtype=float32), array([0.9999881], dtype=float32), array([0.9999887], dtype=float32), array([0.999989], dtype=float32), array([0.9999889], dtype=float32), array([0.9999889], dtype=float32), array([0.9999884], dtype=float32), array([0.999989], dtype=float32), array([0.9999893], dtype=float32), array([0.9999889], dtype=float32), array([0.999989], dtype=float32), array([0.999989], dtype=float32), array([0.9999881], dtype=float32), array([0.999989], dtype=float32), array([0.999989], dtype=float32), array([0.9999889], dtype=float32), array([0.9999889], dtype=float32), array([0.999989], dtype=float32), array([0.9999887], dtype=float32), array([0.999989], dtype=float32), array([0.999989], dtype=float32), array([0.9999884], dtype=float32), array([0.9999889], dtype=float32), array([0.99998885], dtype=float32), array([0.9999886], dtype=float32), array([0.9999891], dtype=float32), array([0.9999888], dtype=float32), array([0.99998826], dtype=float32), array([0.99998885], dtype=float32), array([0.99998873], dtype=float32), array([0.9999889], dtype=float32), array([0.99998873], dtype=float32), array([0.999989], dtype=float32), array([0.99998903], dtype=float32), array([0.9999889], dtype=float32), array([0.99998885], dtype=float32), array([0.99998885], dtype=float32), array([0.99998814], dtype=float32), array([0.9999891], dtype=float32), array([0.99998885], dtype=float32), array([0.9999889], dtype=float32), array([0.9999888], dtype=float32), array([0.99998885], dtype=float32), array([0.999989], dtype=float32), array([0.999989], dtype=float32), array([0.9999887], dtype=float32), array([0.99998885], dtype=float32), array([0.99998873], dtype=float32), array([0.99998885], dtype=float32), array([0.9999889], dtype=float32), array([0.99998885], dtype=float32), array([0.99998784], dtype=float32), array([0.999989], dtype=float32), array([0.9999889], dtype=float32), array([0.99998885], dtype=float32), array([0.99998903], dtype=float32), array([0.99998885], dtype=float32), array([0.9999889], dtype=float32), array([0.9999886], dtype=float32), array([0.999989], dtype=float32), array([0.9999889], dtype=float32), array([0.9999889], dtype=float32), array([0.999989], dtype=float32), array([0.99998903], dtype=float32), array([0.9999888], dtype=float32), array([0.9999889], dtype=float32), array([0.9999881], dtype=float32), array([0.99998885], dtype=float32), array([0.99998814], dtype=float32), array([0.9999889], dtype=float32), array([0.999989], dtype=float32), array([0.9999886], dtype=float32), array([0.9999889], dtype=float32), array([0.9999887], dtype=float32), array([0.9999889], dtype=float32), array([0.9999881], dtype=float32), array([0.999989], dtype=float32), array([0.99998873], dtype=float32), array([0.9999889], dtype=float32), array([0.99998903], dtype=float32), array([0.9999887], dtype=float32), array([0.9999891], dtype=float32), array([0.9999888], dtype=float32), array([0.999989], dtype=float32), array([0.99998885], dtype=float32), array([0.99998903], dtype=float32), array([0.99998826], dtype=float32), array([0.99998856], dtype=float32), array([0.99998885], dtype=float32), array([0.999989], dtype=float32), array([0.999989], dtype=float32), array([0.9999889], dtype=float32), array([0.9999889], dtype=float32), array([0.99998873], dtype=float32), array([0.9999889], dtype=float32), array([0.99998903], dtype=float32), array([0.99998903], dtype=float32), array([0.99998903], dtype=float32), array([0.9999889], dtype=float32), array([0.9999889], dtype=float32), array([0.9999889], dtype=float32), array([0.9999889], dtype=float32), array([0.9999891], dtype=float32), array([0.9999889], dtype=float32), array([0.99998873], dtype=float32), array([0.9999889], dtype=float32), array([0.99998814], dtype=float32), array([0.99998885], dtype=float32), array([0.999989], dtype=float32), array([0.9999889], dtype=float32), array([0.9999889], dtype=float32), array([0.9999889], dtype=float32), array([0.9999889], dtype=float32), array([0.99998885], dtype=float32), array([0.99998885], dtype=float32), array([0.999989], dtype=float32), array([0.999989], dtype=float32), array([0.999989], dtype=float32), array([0.99998873], dtype=float32), array([0.999989], dtype=float32), array([0.999989], dtype=float32), array([0.999989], dtype=float32), array([0.99998784], dtype=float32), array([0.9999881], dtype=float32), array([0.9999891], dtype=float32), array([0.99998856], dtype=float32), array([0.9999889], dtype=float32), array([0.99998915], dtype=float32), array([0.9999888], dtype=float32), array([0.9999889], dtype=float32), array([0.999989], dtype=float32), array([0.999989], dtype=float32), array([0.999989], dtype=float32), array([0.99998903], dtype=float32), array([0.99998885], dtype=float32), array([0.999989], dtype=float32), array([0.999989], dtype=float32), array([0.99998903], dtype=float32), array([0.999989], dtype=float32), array([0.9999889], dtype=float32), array([0.99998903], dtype=float32), array([0.999989], dtype=float32), array([0.9999881], dtype=float32), array([0.9999884], dtype=float32), array([0.99998885], dtype=float32), array([0.9999889], dtype=float32), array([0.99998873], dtype=float32), array([0.999989], dtype=float32), array([0.9999889], dtype=float32), array([0.9999889], dtype=float32), array([0.999989], dtype=float32), array([0.9999887], dtype=float32), array([0.9999888], dtype=float32), array([0.99998856], dtype=float32), array([0.99998885], dtype=float32), array([0.99998903], dtype=float32), array([0.999989], dtype=float32), array([0.99998885], dtype=float32), array([0.999989], dtype=float32), array([0.999989], dtype=float32), array([0.99998903], dtype=float32), array([0.99998903], dtype=float32), array([0.99998885], dtype=float32), array([0.99998885], dtype=float32), array([0.9999888], dtype=float32), array([0.99998903], dtype=float32), array([0.99998844], dtype=float32), array([0.99998844], dtype=float32), array([0.999989], dtype=float32), array([0.999989], dtype=float32), array([0.99998903], dtype=float32), array([0.999989], dtype=float32), array([0.9999889], dtype=float32), array([0.9999883], dtype=float32), array([0.99998873], dtype=float32), array([0.99998885], dtype=float32), array([0.99998903], dtype=float32), array([0.9999887], dtype=float32), array([0.999988], dtype=float32), array([0.9999889], dtype=float32), array([0.99998885], dtype=float32), array([0.9999886], dtype=float32), array([0.99998856], dtype=float32), array([0.999989], dtype=float32), array([0.999989], dtype=float32), array([0.9999888], dtype=float32), array([8.264934e-06], dtype=float32), array([0.99998885], dtype=float32), array([0.999989], dtype=float32), array([0.999989], dtype=float32), array([0.99998873], dtype=float32), array([0.9999887], dtype=float32), array([0.9999889], dtype=float32), array([0.99998873], dtype=float32), array([0.99998903], dtype=float32), array([0.999989], dtype=float32), array([0.9999881], dtype=float32), array([0.99998915], dtype=float32), array([0.9999889], dtype=float32), array([0.99998903], dtype=float32), array([0.9999889], dtype=float32), array([0.999989], dtype=float32), array([0.999989], dtype=float32), array([0.99998873], dtype=float32), array([0.999989], dtype=float32), array([0.9999891], dtype=float32), array([0.999989], dtype=float32), array([0.99998856], dtype=float32), array([0.99998903], dtype=float32), array([0.9999887], dtype=float32), array([0.999989], dtype=float32), array([0.99998873], dtype=float32), array([0.999989], dtype=float32), array([0.9999712], dtype=float32), array([0.9999889], dtype=float32), array([0.9999889], dtype=float32), array([0.99998903], dtype=float32), array([0.99998873], dtype=float32), array([0.99998873], dtype=float32), array([0.99998873], dtype=float32), array([0.9999889], dtype=float32), array([0.9999884], dtype=float32), array([0.999989], dtype=float32), array([0.999989], dtype=float32), array([0.99998903], dtype=float32), array([0.9999889], dtype=float32), array([0.99998814], dtype=float32), array([0.99998873], dtype=float32), array([0.99998903], dtype=float32), array([0.999989], dtype=float32), array([0.9999889], dtype=float32), array([0.999989], dtype=float32), array([0.99998885], dtype=float32), array([0.99998844], dtype=float32), array([0.999989], dtype=float32), array([0.99998885], dtype=float32), array([0.9999889], dtype=float32), array([0.999989], dtype=float32), array([0.99998885], dtype=float32), array([0.9999889], dtype=float32), array([0.99998915], dtype=float32), array([0.99998885], dtype=float32), array([0.99998915], dtype=float32), array([0.9999888], dtype=float32), array([0.9999886], dtype=float32), array([8.264934e-06], dtype=float32), array([0.9999889], dtype=float32), array([0.999989], dtype=float32), array([0.9999889], dtype=float32), array([0.99998885], dtype=float32), array([0.99998885], dtype=float32), array([0.99998885], dtype=float32), array([0.999989], dtype=float32), array([0.9999889], dtype=float32), array([0.999989], dtype=float32), array([0.9999887], dtype=float32), array([0.9999891], dtype=float32), array([0.9999889], dtype=float32), array([0.99998885], dtype=float32), array([0.99998885], dtype=float32), array([0.999989], dtype=float32), array([0.9999889], dtype=float32), array([0.9999887], dtype=float32), array([0.999989], dtype=float32), array([0.999989], dtype=float32), array([0.999989], dtype=float32), array([0.99998885], dtype=float32), array([0.99998885], dtype=float32), array([0.9999889], dtype=float32), array([0.9999888], dtype=float32), array([0.999989], dtype=float32), array([0.9999889], dtype=float32), array([0.9999881], dtype=float32), array([0.9999889], dtype=float32), array([0.999989], dtype=float32), array([0.9999889], dtype=float32), array([0.99998903], dtype=float32), array([0.99998885], dtype=float32), array([0.99998885], dtype=float32), array([0.99998903], dtype=float32), array([0.9999883], dtype=float32), array([0.99998903], dtype=float32), array([0.99998885], dtype=float32), array([0.999989], dtype=float32), array([0.99998826], dtype=float32), array([0.9999889], dtype=float32), array([0.999989], dtype=float32), array([0.9999888], dtype=float32), array([0.99998885], dtype=float32), array([0.99998784], dtype=float32), array([0.999989], dtype=float32), array([0.9999889], dtype=float32), array([0.9999889], dtype=float32), array([0.999989], dtype=float32), array([0.99998885], dtype=float32), array([0.99998903], dtype=float32), array([0.99998903], dtype=float32), array([0.999989], dtype=float32), array([0.9999887], dtype=float32), array([0.9999889], dtype=float32), array([0.9999887], dtype=float32), array([0.999989], dtype=float32), array([0.9999883], dtype=float32), array([0.99998885], dtype=float32), array([0.99998885], dtype=float32), array([0.999989], dtype=float32), array([0.9999889], dtype=float32), array([0.999989], dtype=float32), array([0.9999889], dtype=float32), array([0.9999889], dtype=float32), array([0.999989], dtype=float32), array([0.9999893], dtype=float32), array([0.99998844], dtype=float32), array([0.9999889], dtype=float32), array([0.9999889], dtype=float32), array([0.9999881], dtype=float32), array([0.9999889], dtype=float32), array([0.999989], dtype=float32), array([0.99998903], dtype=float32), array([0.999989], dtype=float32), array([0.9999884], dtype=float32), array([0.999989], dtype=float32), array([0.9999889], dtype=float32), array([0.9999889], dtype=float32), array([0.99998885], dtype=float32), array([0.9999889], dtype=float32), array([0.99998885], dtype=float32), array([0.999989], dtype=float32), array([0.99998873], dtype=float32), array([0.9999891], dtype=float32), array([0.999989], dtype=float32), array([0.99998885], dtype=float32), array([0.99998856], dtype=float32), array([0.9999889], dtype=float32), array([0.99998885], dtype=float32), array([0.9999883], dtype=float32), array([0.9999889], dtype=float32), array([0.99998873], dtype=float32), array([0.999989], dtype=float32), array([0.99998903], dtype=float32), array([0.9999889], dtype=float32), array([0.99998915], dtype=float32), array([0.999989], dtype=float32), array([0.9999889], dtype=float32), array([0.9999889], dtype=float32), array([0.999989], dtype=float32), array([0.99998915], dtype=float32), array([0.9999889], dtype=float32), array([0.99998903], dtype=float32), array([0.999989], dtype=float32), array([0.9999889], dtype=float32), array([0.99998873], dtype=float32), array([0.999989], dtype=float32), array([0.99998844], dtype=float32), array([0.9999889], dtype=float32), array([0.999988], dtype=float32), array([0.999989], dtype=float32), array([8.264934e-06], dtype=float32), array([0.99998903], dtype=float32), array([0.9999889], dtype=float32), array([0.99998885], dtype=float32), array([0.9999888], dtype=float32), array([0.99998784], dtype=float32), array([0.9999889], dtype=float32), array([0.99998844], dtype=float32), array([0.999989], dtype=float32), array([0.9999889], dtype=float32), array([0.9999889], dtype=float32), array([0.9999889], dtype=float32), array([0.99998885], dtype=float32), array([0.9999889], dtype=float32), array([0.9999881], dtype=float32), array([0.99998885], dtype=float32), array([0.999989], dtype=float32), array([0.99998885], dtype=float32), array([0.9999893], dtype=float32), array([0.9999883], dtype=float32), array([0.99998903], dtype=float32), array([0.99998903], dtype=float32), array([0.99998903], dtype=float32), array([0.9999889], dtype=float32), array([0.9999893], dtype=float32), array([0.9999893], dtype=float32), array([0.9999891], dtype=float32), array([0.99998885], dtype=float32), array([0.9999889], dtype=float32), array([0.9999887], dtype=float32), array([0.9999889], dtype=float32), array([0.99998814], dtype=float32), array([0.9999887], dtype=float32), array([0.9999889], dtype=float32), array([0.999989], dtype=float32), array([0.99998903], dtype=float32), array([0.99998885], dtype=float32), array([0.99998915], dtype=float32), array([0.9999881], dtype=float32), array([0.99998873], dtype=float32), array([0.99998903], dtype=float32), array([0.99998903], dtype=float32)]\n"
     ]
    }
   ],
   "source": [
    "print(list(lbl))"
   ]
  },
  {
   "cell_type": "code",
   "execution_count": 47,
   "metadata": {},
   "outputs": [
    {
     "name": "stdout",
     "output_type": "stream",
     "text": [
      "[8.264934e-06]\n",
      "[8.264934e-06]\n",
      "[8.264934e-06]\n",
      "[8.264934e-06]\n",
      "[8.264934e-06]\n",
      "[8.264934e-06]\n",
      "[8.264934e-06]\n"
     ]
    }
   ],
   "source": [
    "for l in lbl:\n",
    "    if l[0]<0.5:\n",
    "        print(l)"
   ]
  },
  {
   "cell_type": "code",
   "execution_count": null,
   "metadata": {},
   "outputs": [],
   "source": []
  }
 ],
 "metadata": {
  "kernelspec": {
   "display_name": "Python 3",
   "language": "python",
   "name": "python3"
  },
  "language_info": {
   "codemirror_mode": {
    "name": "ipython",
    "version": 3
   },
   "file_extension": ".py",
   "mimetype": "text/x-python",
   "name": "python",
   "nbconvert_exporter": "python",
   "pygments_lexer": "ipython3",
   "version": "3.12.7"
  }
 },
 "nbformat": 4,
 "nbformat_minor": 2
}
